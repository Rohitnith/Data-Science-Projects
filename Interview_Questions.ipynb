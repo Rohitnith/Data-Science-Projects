{
  "cells": [
    {
      "cell_type": "markdown",
      "metadata": {
        "id": "view-in-github",
        "colab_type": "text"
      },
      "source": [
        "<a href=\"https://colab.research.google.com/github/Rohitnith/Small-Data-Science-Projects/blob/main/Interview_Questions.ipynb\" target=\"_parent\"><img src=\"https://colab.research.google.com/assets/colab-badge.svg\" alt=\"Open In Colab\"/></a>"
      ]
    },
    {
      "cell_type": "code",
      "source": [
        "#Whether string is anagram\n",
        "s1 = 'qaz'\n",
        "s2 = 'zaaq'\n",
        "if sorted(s1)==sorted(s2):\n",
        "  print(\"Nos. are Anagram\")\n",
        "else:\n",
        "  print(\"Nos. are not Anagram\")"
      ],
      "metadata": {
        "colab": {
          "base_uri": "https://localhost:8080/"
        },
        "id": "ZgSpxmqxBpfp",
        "outputId": "e2282f73-a4af-49d4-9f92-644fce3136c3"
      },
      "execution_count": null,
      "outputs": [
        {
          "output_type": "stream",
          "name": "stdout",
          "text": [
            "Nos. are not Anagram\n"
          ]
        }
      ]
    },
    {
      "cell_type": "code",
      "source": [
        "#whether no. in palindrome or not\n",
        "s1 = '1221'\n",
        "s2=s1[::-1]\n",
        "if s1==s2:\n",
        "  print(\"No is palindrome\")\n",
        "else:\n",
        "  print(\"No is not palindrome\")"
      ],
      "metadata": {
        "colab": {
          "base_uri": "https://localhost:8080/"
        },
        "id": "c-0YcLYTBqf-",
        "outputId": "84528606-c625-4179-f13a-be4a8ee12abe"
      },
      "execution_count": null,
      "outputs": [
        {
          "output_type": "stream",
          "name": "stdout",
          "text": [
            "No is palindrome\n"
          ]
        }
      ]
    },
    {
      "cell_type": "code",
      "source": [
        "#if no is digit or not \n",
        "s1 = '122a1'\n",
        "if s1.isdigit():\n",
        "  print(\"No is Digit\")\n",
        "else:\n",
        "  print(\"No is not digit\")"
      ],
      "metadata": {
        "colab": {
          "base_uri": "https://localhost:8080/"
        },
        "id": "jPD15d5dGzQc",
        "outputId": "f769af06-fe3a-43a9-a6f0-6ea0545c1212"
      },
      "execution_count": null,
      "outputs": [
        {
          "output_type": "stream",
          "name": "stdout",
          "text": [
            "No is not digit\n"
          ]
        }
      ]
    },
    {
      "cell_type": "code",
      "source": [
        "#python program to convert lower case vowel to upper case\n",
        "s1 = 'aweioudgsf adef'\n",
        "def vowel_to_upper(x):\n",
        "  a=list(x)\n",
        "  vowels=['a','i','e','o','u']\n",
        "  for i, j in enumerate(x):\n",
        "    if j in vowels:\n",
        "      a[i]=a[i].upper()\n",
        "  return \" \".join(a)\n",
        "\n",
        "vowel_to_upper(s1)\n"
      ],
      "metadata": {
        "colab": {
          "base_uri": "https://localhost:8080/",
          "height": 35
        },
        "id": "3ViE5D1lIVz4",
        "outputId": "b53580a4-ebe4-48ba-e48a-f1451cf19b0c"
      },
      "execution_count": null,
      "outputs": [
        {
          "output_type": "execute_result",
          "data": {
            "text/plain": [
              "'A w E I O U d g s f   A d E f'"
            ],
            "application/vnd.google.colaboratory.intrinsic+json": {
              "type": "string"
            }
          },
          "metadata": {},
          "execution_count": 52
        }
      ]
    },
    {
      "cell_type": "code",
      "source": [
        "#python program to convert first word to upper case\n",
        "s1 = 'i love python'\n",
        "#def first_letter_upper(x):\n",
        "a=list(s1)\n",
        "for i, j in enumerate(a):\n",
        "  if j== \" \":\n",
        "      a[i+1]=a[i+1].upper()\n",
        "      a[0]=a[0].upper()\n",
        "s2=\" \".join(a)\n",
        "s2"
      ],
      "metadata": {
        "colab": {
          "base_uri": "https://localhost:8080/",
          "height": 35
        },
        "id": "s6gSbUTDJrOg",
        "outputId": "6eb68b1f-d016-470b-b32c-ad6c3f540405"
      },
      "execution_count": null,
      "outputs": [
        {
          "output_type": "execute_result",
          "data": {
            "text/plain": [
              "'I   L o v e   P y t h o n'"
            ],
            "application/vnd.google.colaboratory.intrinsic+json": {
              "type": "string"
            }
          },
          "metadata": {},
          "execution_count": 87
        }
      ]
    },
    {
      "cell_type": "code",
      "source": [
        "#to remove vowels\n",
        "s1 = 'aweioudgsf adef'\n",
        "a=list(s1)\n",
        "vowels=['a','i','e','o','u']\n",
        "for i, j in enumerate(a):\n",
        "  if j in vowels:\n",
        "    a.pop(i)\n",
        "s2=\" \".join(a)\n",
        "print(s2)"
      ],
      "metadata": {
        "colab": {
          "base_uri": "https://localhost:8080/"
        },
        "id": "cajNcJCFLrdE",
        "outputId": "e95b00a0-99d9-4b4b-888a-e5b16e001b10"
      },
      "execution_count": null,
      "outputs": [
        {
          "output_type": "stream",
          "name": "stdout",
          "text": [
            "w i u d g s f   d f\n"
          ]
        }
      ]
    },
    {
      "cell_type": "code",
      "source": [
        "#Python program to print highest frequency charcter in string\n",
        "str ='aweaaasdddddwaaaaaaaaaaaaaaawwewwwwww'\n",
        "a=set(str)\n",
        "a=list(a)\n",
        "count_dic={}\n",
        "for j,i in enumerate(a):\n",
        "  count_dic[i]=str.count(a[j])\n",
        "count_dic=(sorted(count_dic.items(), key=lambda item: item[1], reverse=True))\n",
        "print(count_dic[0][0])"
      ],
      "metadata": {
        "colab": {
          "base_uri": "https://localhost:8080/"
        },
        "id": "RmubXkf9SyIA",
        "outputId": "16edeefb-d582-4973-a137-50d785d40a2d"
      },
      "execution_count": null,
      "outputs": [
        {
          "output_type": "stream",
          "name": "stdout",
          "text": [
            "a\n"
          ]
        }
      ]
    },
    {
      "cell_type": "code",
      "source": [
        "# Binary search in python\n",
        "import random \n",
        "list1=random.sample(range(1, 2000), 1000)"
      ],
      "metadata": {
        "id": "xc2gYnIHAIYJ"
      },
      "execution_count": 23,
      "outputs": []
    },
    {
      "cell_type": "code",
      "source": [
        "list1.sort()"
      ],
      "metadata": {
        "id": "gf_-NH3RBbFp"
      },
      "execution_count": 33,
      "outputs": []
    },
    {
      "cell_type": "code",
      "source": [
        "def Binary_Search(n):\n",
        "  lower_bound = 0\n",
        "  upper_bound=len(list1)-1\n",
        "  for i in range(len(list1)):\n",
        "    mid = int((lower_bound + upper_bound)/2)\n",
        "    if n == list1[mid]:\n",
        "      print (\"Found at index: \",mid)\n",
        "      break\n",
        "    elif n>list1[mid]:\n",
        "      lower_bound= mid\n",
        "    elif n<list1[mid]:\n",
        "      upper_bound= mid\n",
        "  else:\n",
        "    print(\"No. not found\")\n",
        "n= int(input(\"Enter No. to be searched: \"))\n",
        "Binary_Search(n)"
      ],
      "metadata": {
        "colab": {
          "base_uri": "https://localhost:8080/"
        },
        "id": "0_T4pPrWBoa7",
        "outputId": "6b79cef8-8d75-4a9f-e723-dc39e7aa28ff"
      },
      "execution_count": 32,
      "outputs": [
        {
          "output_type": "stream",
          "name": "stdout",
          "text": [
            "Enter No. to be searched: 1926\n",
            "Found at index:  963\n"
          ]
        }
      ]
    }
  ],
  "metadata": {
    "colab": {
      "collapsed_sections": [],
      "name": "Interview Questions",
      "provenance": [],
      "include_colab_link": true
    },
    "kernelspec": {
      "display_name": "Python 3",
      "name": "python3"
    }
  },
  "nbformat": 4,
  "nbformat_minor": 0
}