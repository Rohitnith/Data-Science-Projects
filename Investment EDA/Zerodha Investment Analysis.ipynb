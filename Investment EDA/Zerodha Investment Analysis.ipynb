{
 "cells": [
  {
   "cell_type": "code",
   "execution_count": 94,
   "id": "689696c6",
   "metadata": {},
   "outputs": [],
   "source": [
    "import pandas as pd\n",
    "import numpy as np\n",
    "import matplotlib.pyplot as plt\n",
    "import seaborn as sns\n",
    "import warnings\n",
    "warnings.filterwarnings(\"ignore\")"
   ]
  },
  {
   "cell_type": "code",
   "execution_count": 95,
   "id": "180836b3",
   "metadata": {},
   "outputs": [
    {
     "data": {
      "text/html": [
       "<div>\n",
       "<style scoped>\n",
       "    .dataframe tbody tr th:only-of-type {\n",
       "        vertical-align: middle;\n",
       "    }\n",
       "\n",
       "    .dataframe tbody tr th {\n",
       "        vertical-align: top;\n",
       "    }\n",
       "\n",
       "    .dataframe thead th {\n",
       "        text-align: right;\n",
       "    }\n",
       "</style>\n",
       "<table border=\"1\" class=\"dataframe\">\n",
       "  <thead>\n",
       "    <tr style=\"text-align: right;\">\n",
       "      <th></th>\n",
       "      <th>Symbol</th>\n",
       "      <th>ISIN</th>\n",
       "      <th>Trade Date</th>\n",
       "      <th>Exchange</th>\n",
       "      <th>Segment</th>\n",
       "      <th>Series</th>\n",
       "      <th>Trade Type</th>\n",
       "      <th>Auction</th>\n",
       "      <th>Quantity</th>\n",
       "      <th>Price</th>\n",
       "      <th>Trade ID</th>\n",
       "      <th>Order ID</th>\n",
       "      <th>Order Execution Time</th>\n",
       "    </tr>\n",
       "  </thead>\n",
       "  <tbody>\n",
       "    <tr>\n",
       "      <th>0</th>\n",
       "      <td>SCI</td>\n",
       "      <td>INE109A01011</td>\n",
       "      <td>2019-10-29</td>\n",
       "      <td>NSE</td>\n",
       "      <td>EQ</td>\n",
       "      <td>EQ</td>\n",
       "      <td>buy</td>\n",
       "      <td>False</td>\n",
       "      <td>10</td>\n",
       "      <td>53.40</td>\n",
       "      <td>75014677</td>\n",
       "      <td>1300000000107749</td>\n",
       "      <td>2019-10-29T09:15:03</td>\n",
       "    </tr>\n",
       "    <tr>\n",
       "      <th>1</th>\n",
       "      <td>INFY</td>\n",
       "      <td>INE009A01021</td>\n",
       "      <td>2019-10-29</td>\n",
       "      <td>NSE</td>\n",
       "      <td>EQ</td>\n",
       "      <td>EQ</td>\n",
       "      <td>buy</td>\n",
       "      <td>False</td>\n",
       "      <td>1</td>\n",
       "      <td>648.00</td>\n",
       "      <td>25504104</td>\n",
       "      <td>1100000000101668</td>\n",
       "      <td>2019-10-29T09:45:08</td>\n",
       "    </tr>\n",
       "    <tr>\n",
       "      <th>2</th>\n",
       "      <td>INFY</td>\n",
       "      <td>INE009A01021</td>\n",
       "      <td>2019-10-29</td>\n",
       "      <td>NSE</td>\n",
       "      <td>EQ</td>\n",
       "      <td>EQ</td>\n",
       "      <td>buy</td>\n",
       "      <td>False</td>\n",
       "      <td>1</td>\n",
       "      <td>648.00</td>\n",
       "      <td>25504284</td>\n",
       "      <td>1100000000101668</td>\n",
       "      <td>2019-10-29T09:45:08</td>\n",
       "    </tr>\n",
       "    <tr>\n",
       "      <th>3</th>\n",
       "      <td>INFY</td>\n",
       "      <td>INE009A01021</td>\n",
       "      <td>2019-10-29</td>\n",
       "      <td>NSE</td>\n",
       "      <td>EQ</td>\n",
       "      <td>EQ</td>\n",
       "      <td>buy</td>\n",
       "      <td>False</td>\n",
       "      <td>1</td>\n",
       "      <td>648.00</td>\n",
       "      <td>25504288</td>\n",
       "      <td>1100000000101668</td>\n",
       "      <td>2019-10-29T09:45:08</td>\n",
       "    </tr>\n",
       "    <tr>\n",
       "      <th>4</th>\n",
       "      <td>SCI</td>\n",
       "      <td>INE109A01011</td>\n",
       "      <td>2019-10-30</td>\n",
       "      <td>NSE</td>\n",
       "      <td>EQ</td>\n",
       "      <td>EQ</td>\n",
       "      <td>buy</td>\n",
       "      <td>False</td>\n",
       "      <td>2</td>\n",
       "      <td>62.25</td>\n",
       "      <td>75800073</td>\n",
       "      <td>1300000000248320</td>\n",
       "      <td>2019-10-30T09:59:53</td>\n",
       "    </tr>\n",
       "  </tbody>\n",
       "</table>\n",
       "</div>"
      ],
      "text/plain": [
       "  Symbol          ISIN  Trade Date Exchange Segment Series Trade Type  \\\n",
       "0    SCI  INE109A01011  2019-10-29      NSE      EQ     EQ        buy   \n",
       "1   INFY  INE009A01021  2019-10-29      NSE      EQ     EQ        buy   \n",
       "2   INFY  INE009A01021  2019-10-29      NSE      EQ     EQ        buy   \n",
       "3   INFY  INE009A01021  2019-10-29      NSE      EQ     EQ        buy   \n",
       "4    SCI  INE109A01011  2019-10-30      NSE      EQ     EQ        buy   \n",
       "\n",
       "   Auction  Quantity   Price  Trade ID          Order ID Order Execution Time  \n",
       "0    False        10   53.40  75014677  1300000000107749  2019-10-29T09:15:03  \n",
       "1    False         1  648.00  25504104  1100000000101668  2019-10-29T09:45:08  \n",
       "2    False         1  648.00  25504284  1100000000101668  2019-10-29T09:45:08  \n",
       "3    False         1  648.00  25504288  1100000000101668  2019-10-29T09:45:08  \n",
       "4    False         2   62.25  75800073  1300000000248320  2019-10-30T09:59:53  "
      ]
     },
     "execution_count": 95,
     "metadata": {},
     "output_type": "execute_result"
    }
   ],
   "source": [
    "invst_df=pd.read_excel(r'Buying Selling Zerodha_17.12.2023.xlsx')\n",
    "invst_df.head()"
   ]
  },
  {
   "cell_type": "code",
   "execution_count": 96,
   "id": "b0cfabf6",
   "metadata": {},
   "outputs": [
    {
     "name": "stdout",
     "output_type": "stream",
     "text": [
      "<class 'pandas.core.frame.DataFrame'>\n",
      "RangeIndex: 726 entries, 0 to 725\n",
      "Data columns (total 13 columns):\n",
      " #   Column                Non-Null Count  Dtype  \n",
      "---  ------                --------------  -----  \n",
      " 0   Symbol                726 non-null    object \n",
      " 1   ISIN                  726 non-null    object \n",
      " 2   Trade Date            726 non-null    object \n",
      " 3   Exchange              726 non-null    object \n",
      " 4   Segment               726 non-null    object \n",
      " 5   Series                726 non-null    object \n",
      " 6   Trade Type            726 non-null    object \n",
      " 7   Auction               726 non-null    bool   \n",
      " 8   Quantity              726 non-null    int64  \n",
      " 9   Price                 726 non-null    float64\n",
      " 10  Trade ID              726 non-null    int64  \n",
      " 11  Order ID              726 non-null    int64  \n",
      " 12  Order Execution Time  726 non-null    object \n",
      "dtypes: bool(1), float64(1), int64(3), object(8)\n",
      "memory usage: 68.9+ KB\n"
     ]
    }
   ],
   "source": [
    "invst_df.info()"
   ]
  },
  {
   "cell_type": "code",
   "execution_count": 97,
   "id": "3f198057",
   "metadata": {},
   "outputs": [
    {
     "data": {
      "text/plain": [
       "(726, 13)"
      ]
     },
     "execution_count": 97,
     "metadata": {},
     "output_type": "execute_result"
    }
   ],
   "source": [
    "invst_df.shape"
   ]
  },
  {
   "cell_type": "code",
   "execution_count": 98,
   "id": "c08d9634",
   "metadata": {},
   "outputs": [
    {
     "data": {
      "text/plain": [
       "EQ    671\n",
       "A      41\n",
       "B       7\n",
       "T       5\n",
       "BE      2\n",
       "Name: Series, dtype: int64"
      ]
     },
     "execution_count": 98,
     "metadata": {},
     "output_type": "execute_result"
    }
   ],
   "source": [
    "invst_df.Series.value_counts()"
   ]
  },
  {
   "cell_type": "code",
   "execution_count": 99,
   "id": "4534a1ef",
   "metadata": {},
   "outputs": [],
   "source": [
    "invst_df.drop([\"Order Execution Time\",\"Order ID\",\"Trade ID\",\"ISIN\",\"Segment\",\"Auction\"], axis=1, inplace=True)"
   ]
  },
  {
   "cell_type": "code",
   "execution_count": 100,
   "id": "1f497aaa",
   "metadata": {},
   "outputs": [
    {
     "data": {
      "text/html": [
       "<div>\n",
       "<style scoped>\n",
       "    .dataframe tbody tr th:only-of-type {\n",
       "        vertical-align: middle;\n",
       "    }\n",
       "\n",
       "    .dataframe tbody tr th {\n",
       "        vertical-align: top;\n",
       "    }\n",
       "\n",
       "    .dataframe thead th {\n",
       "        text-align: right;\n",
       "    }\n",
       "</style>\n",
       "<table border=\"1\" class=\"dataframe\">\n",
       "  <thead>\n",
       "    <tr style=\"text-align: right;\">\n",
       "      <th></th>\n",
       "      <th>Symbol</th>\n",
       "      <th>Trade Date</th>\n",
       "      <th>Exchange</th>\n",
       "      <th>Series</th>\n",
       "      <th>Trade Type</th>\n",
       "      <th>Quantity</th>\n",
       "      <th>Price</th>\n",
       "    </tr>\n",
       "  </thead>\n",
       "  <tbody>\n",
       "    <tr>\n",
       "      <th>0</th>\n",
       "      <td>SCI</td>\n",
       "      <td>2019-10-29</td>\n",
       "      <td>NSE</td>\n",
       "      <td>EQ</td>\n",
       "      <td>buy</td>\n",
       "      <td>10</td>\n",
       "      <td>53.40</td>\n",
       "    </tr>\n",
       "    <tr>\n",
       "      <th>1</th>\n",
       "      <td>INFY</td>\n",
       "      <td>2019-10-29</td>\n",
       "      <td>NSE</td>\n",
       "      <td>EQ</td>\n",
       "      <td>buy</td>\n",
       "      <td>1</td>\n",
       "      <td>648.00</td>\n",
       "    </tr>\n",
       "    <tr>\n",
       "      <th>2</th>\n",
       "      <td>INFY</td>\n",
       "      <td>2019-10-29</td>\n",
       "      <td>NSE</td>\n",
       "      <td>EQ</td>\n",
       "      <td>buy</td>\n",
       "      <td>1</td>\n",
       "      <td>648.00</td>\n",
       "    </tr>\n",
       "    <tr>\n",
       "      <th>3</th>\n",
       "      <td>INFY</td>\n",
       "      <td>2019-10-29</td>\n",
       "      <td>NSE</td>\n",
       "      <td>EQ</td>\n",
       "      <td>buy</td>\n",
       "      <td>1</td>\n",
       "      <td>648.00</td>\n",
       "    </tr>\n",
       "    <tr>\n",
       "      <th>4</th>\n",
       "      <td>SCI</td>\n",
       "      <td>2019-10-30</td>\n",
       "      <td>NSE</td>\n",
       "      <td>EQ</td>\n",
       "      <td>buy</td>\n",
       "      <td>2</td>\n",
       "      <td>62.25</td>\n",
       "    </tr>\n",
       "  </tbody>\n",
       "</table>\n",
       "</div>"
      ],
      "text/plain": [
       "  Symbol  Trade Date Exchange Series Trade Type  Quantity   Price\n",
       "0    SCI  2019-10-29      NSE     EQ        buy        10   53.40\n",
       "1   INFY  2019-10-29      NSE     EQ        buy         1  648.00\n",
       "2   INFY  2019-10-29      NSE     EQ        buy         1  648.00\n",
       "3   INFY  2019-10-29      NSE     EQ        buy         1  648.00\n",
       "4    SCI  2019-10-30      NSE     EQ        buy         2   62.25"
      ]
     },
     "execution_count": 100,
     "metadata": {},
     "output_type": "execute_result"
    }
   ],
   "source": [
    "invst_df.head()"
   ]
  },
  {
   "cell_type": "code",
   "execution_count": 101,
   "id": "b99faca8",
   "metadata": {},
   "outputs": [],
   "source": [
    "def freq_col(df, col):\n",
    "    print(df[col].value_counts())"
   ]
  },
  {
   "cell_type": "code",
   "execution_count": 102,
   "id": "07e35f20",
   "metadata": {
    "scrolled": false
   },
   "outputs": [
    {
     "name": "stdout",
     "output_type": "stream",
     "text": [
      "Frequency of Symbol:\n",
      "NIFTYBEES        38\n",
      "INFY             37\n",
      "HDFCBANK         31\n",
      "ITBEES           30\n",
      "HDFCLIFE         29\n",
      "                 ..\n",
      "HAPPSTMNDS        1\n",
      "PAYTM             1\n",
      "PRITIKAUTO-BE     1\n",
      "AAVAS             1\n",
      "NAVINFLUOR        1\n",
      "Name: Symbol, Length: 95, dtype: int64\n",
      "*****************************************************\n",
      "\n",
      "\n",
      "Frequency of Trade Date:\n",
      "2020-02-01    14\n",
      "2022-03-08    13\n",
      "2022-01-24    11\n",
      "2021-12-20    11\n",
      "2022-01-21    11\n",
      "              ..\n",
      "2021-09-21     1\n",
      "2021-09-13     1\n",
      "2021-08-12     1\n",
      "2020-10-21     1\n",
      "2023-12-14     1\n",
      "Name: Trade Date, Length: 248, dtype: int64\n",
      "*****************************************************\n",
      "\n",
      "\n",
      "Frequency of Exchange:\n",
      "NSE    673\n",
      "BSE     53\n",
      "Name: Exchange, dtype: int64\n",
      "*****************************************************\n",
      "\n",
      "\n",
      "Frequency of Series:\n",
      "EQ    671\n",
      "A      41\n",
      "B       7\n",
      "T       5\n",
      "BE      2\n",
      "Name: Series, dtype: int64\n",
      "*****************************************************\n",
      "\n",
      "\n",
      "Frequency of Trade Type:\n",
      "buy     652\n",
      "sell     74\n",
      "Name: Trade Type, dtype: int64\n",
      "*****************************************************\n",
      "\n",
      "\n"
     ]
    }
   ],
   "source": [
    "for col in ['Symbol','Trade Date','Exchange','Series','Trade Type']:\n",
    "    try:\n",
    "        print(f'Frequency of {col}:')\n",
    "        freq_col(invst_df,col)\n",
    "        print('*****************************************************')\n",
    "        print('\\n')\n",
    "    except:\n",
    "        print(\"Invalid DataType\")"
   ]
  },
  {
   "cell_type": "code",
   "execution_count": 103,
   "id": "fc275044",
   "metadata": {},
   "outputs": [],
   "source": [
    "invst_df.loc[invst_df['Trade Type'] == \"sell\",'Quantity'] = -1 * invst_df['Quantity']"
   ]
  },
  {
   "cell_type": "code",
   "execution_count": 104,
   "id": "d76b4781",
   "metadata": {},
   "outputs": [],
   "source": [
    "invst_df['Amount'] = invst_df['Quantity']*invst_df['Price']"
   ]
  },
  {
   "cell_type": "code",
   "execution_count": 105,
   "id": "bf6295cb",
   "metadata": {},
   "outputs": [
    {
     "data": {
      "text/plain": [
       "1304293.73"
      ]
     },
     "execution_count": 105,
     "metadata": {},
     "output_type": "execute_result"
    }
   ],
   "source": [
    "invst_df['Amount'].sum()"
   ]
  },
  {
   "cell_type": "code",
   "execution_count": 106,
   "id": "7dc9f6fe",
   "metadata": {},
   "outputs": [],
   "source": [
    "invst_df['Trade Date']= pd.to_datetime(invst_df['Trade Date'])"
   ]
  },
  {
   "cell_type": "code",
   "execution_count": 107,
   "id": "ec8ce147",
   "metadata": {},
   "outputs": [],
   "source": [
    "invst_df['comm Amount'] = invst_df['Amount'].cumsum()"
   ]
  },
  {
   "cell_type": "code",
   "execution_count": 108,
   "id": "e453da17",
   "metadata": {},
   "outputs": [
    {
     "data": {
      "text/html": [
       "<div>\n",
       "<style scoped>\n",
       "    .dataframe tbody tr th:only-of-type {\n",
       "        vertical-align: middle;\n",
       "    }\n",
       "\n",
       "    .dataframe tbody tr th {\n",
       "        vertical-align: top;\n",
       "    }\n",
       "\n",
       "    .dataframe thead th {\n",
       "        text-align: right;\n",
       "    }\n",
       "</style>\n",
       "<table border=\"1\" class=\"dataframe\">\n",
       "  <thead>\n",
       "    <tr style=\"text-align: right;\">\n",
       "      <th></th>\n",
       "      <th>Symbol</th>\n",
       "      <th>Trade Date</th>\n",
       "      <th>Exchange</th>\n",
       "      <th>Series</th>\n",
       "      <th>Trade Type</th>\n",
       "      <th>Quantity</th>\n",
       "      <th>Price</th>\n",
       "      <th>Amount</th>\n",
       "      <th>comm Amount</th>\n",
       "    </tr>\n",
       "  </thead>\n",
       "  <tbody>\n",
       "    <tr>\n",
       "      <th>0</th>\n",
       "      <td>SCI</td>\n",
       "      <td>2019-10-29</td>\n",
       "      <td>NSE</td>\n",
       "      <td>EQ</td>\n",
       "      <td>buy</td>\n",
       "      <td>10</td>\n",
       "      <td>53.40</td>\n",
       "      <td>534.0</td>\n",
       "      <td>534.0</td>\n",
       "    </tr>\n",
       "    <tr>\n",
       "      <th>1</th>\n",
       "      <td>INFY</td>\n",
       "      <td>2019-10-29</td>\n",
       "      <td>NSE</td>\n",
       "      <td>EQ</td>\n",
       "      <td>buy</td>\n",
       "      <td>1</td>\n",
       "      <td>648.00</td>\n",
       "      <td>648.0</td>\n",
       "      <td>1182.0</td>\n",
       "    </tr>\n",
       "    <tr>\n",
       "      <th>2</th>\n",
       "      <td>INFY</td>\n",
       "      <td>2019-10-29</td>\n",
       "      <td>NSE</td>\n",
       "      <td>EQ</td>\n",
       "      <td>buy</td>\n",
       "      <td>1</td>\n",
       "      <td>648.00</td>\n",
       "      <td>648.0</td>\n",
       "      <td>1830.0</td>\n",
       "    </tr>\n",
       "    <tr>\n",
       "      <th>3</th>\n",
       "      <td>INFY</td>\n",
       "      <td>2019-10-29</td>\n",
       "      <td>NSE</td>\n",
       "      <td>EQ</td>\n",
       "      <td>buy</td>\n",
       "      <td>1</td>\n",
       "      <td>648.00</td>\n",
       "      <td>648.0</td>\n",
       "      <td>2478.0</td>\n",
       "    </tr>\n",
       "    <tr>\n",
       "      <th>4</th>\n",
       "      <td>SCI</td>\n",
       "      <td>2019-10-30</td>\n",
       "      <td>NSE</td>\n",
       "      <td>EQ</td>\n",
       "      <td>buy</td>\n",
       "      <td>2</td>\n",
       "      <td>62.25</td>\n",
       "      <td>124.5</td>\n",
       "      <td>2602.5</td>\n",
       "    </tr>\n",
       "  </tbody>\n",
       "</table>\n",
       "</div>"
      ],
      "text/plain": [
       "  Symbol Trade Date Exchange Series Trade Type  Quantity   Price  Amount  \\\n",
       "0    SCI 2019-10-29      NSE     EQ        buy        10   53.40   534.0   \n",
       "1   INFY 2019-10-29      NSE     EQ        buy         1  648.00   648.0   \n",
       "2   INFY 2019-10-29      NSE     EQ        buy         1  648.00   648.0   \n",
       "3   INFY 2019-10-29      NSE     EQ        buy         1  648.00   648.0   \n",
       "4    SCI 2019-10-30      NSE     EQ        buy         2   62.25   124.5   \n",
       "\n",
       "   comm Amount  \n",
       "0        534.0  \n",
       "1       1182.0  \n",
       "2       1830.0  \n",
       "3       2478.0  \n",
       "4       2602.5  "
      ]
     },
     "execution_count": 108,
     "metadata": {},
     "output_type": "execute_result"
    }
   ],
   "source": [
    "invst_df.head()"
   ]
  },
  {
   "cell_type": "code",
   "execution_count": 109,
   "id": "c0bc7cba",
   "metadata": {
    "scrolled": false
   },
   "outputs": [
    {
     "data": {
      "image/png": "[encoded data removed]",
      "text/plain": [
       "<Figure size 1080x576 with 1 Axes>"
      ]
     },
     "metadata": {
      "needs_background": "light"
     },
     "output_type": "display_data"
    }
   ],
   "source": [
    "from matplotlib.dates import MonthLocator, DateFormatter\n",
    "plt.figure(figsize=(15,8))\n",
    "ax=sns.scatterplot(\"Trade Date\",\"comm Amount\",data=invst_df, color='red', hue='Trade Type', markers=True)\n",
    "ax.xaxis.set_major_locator(MonthLocator())\n",
    "#defines the label format\n",
    "ax.xaxis.set_major_formatter(DateFormatter(\"%b-%y\"))\n",
    "ax.tick_params(axis=\"x\", labelrotation= 45)\n",
    "\n",
    "plt.tight_layout()\n",
    "plt.show()"
   ]
  },
  {
   "cell_type": "code",
   "execution_count": 110,
   "id": "b93e7b0b",
   "metadata": {},
   "outputs": [
    {
     "data": {
      "text/html": [
       "<div>\n",
       "<style scoped>\n",
       "    .dataframe tbody tr th:only-of-type {\n",
       "        vertical-align: middle;\n",
       "    }\n",
       "\n",
       "    .dataframe tbody tr th {\n",
       "        vertical-align: top;\n",
       "    }\n",
       "\n",
       "    .dataframe thead th {\n",
       "        text-align: right;\n",
       "    }\n",
       "</style>\n",
       "<table border=\"1\" class=\"dataframe\">\n",
       "  <thead>\n",
       "    <tr style=\"text-align: right;\">\n",
       "      <th></th>\n",
       "      <th>Trade Date</th>\n",
       "      <th>Quantity</th>\n",
       "      <th>Price</th>\n",
       "      <th>Amount</th>\n",
       "      <th>comm Amount</th>\n",
       "    </tr>\n",
       "  </thead>\n",
       "  <tbody>\n",
       "    <tr>\n",
       "      <th>0</th>\n",
       "      <td>2019-10-29</td>\n",
       "      <td>13</td>\n",
       "      <td>1997.40</td>\n",
       "      <td>2478.00</td>\n",
       "      <td>6024.00</td>\n",
       "    </tr>\n",
       "    <tr>\n",
       "      <th>1</th>\n",
       "      <td>2019-10-30</td>\n",
       "      <td>20</td>\n",
       "      <td>124.50</td>\n",
       "      <td>1245.00</td>\n",
       "      <td>6325.50</td>\n",
       "    </tr>\n",
       "    <tr>\n",
       "      <th>2</th>\n",
       "      <td>2019-11-06</td>\n",
       "      <td>7</td>\n",
       "      <td>1389.80</td>\n",
       "      <td>4864.30</td>\n",
       "      <td>13005.20</td>\n",
       "    </tr>\n",
       "    <tr>\n",
       "      <th>3</th>\n",
       "      <td>2019-11-07</td>\n",
       "      <td>3</td>\n",
       "      <td>2918.00</td>\n",
       "      <td>8754.00</td>\n",
       "      <td>17341.30</td>\n",
       "    </tr>\n",
       "    <tr>\n",
       "      <th>4</th>\n",
       "      <td>2019-11-15</td>\n",
       "      <td>4</td>\n",
       "      <td>14200.00</td>\n",
       "      <td>14200.00</td>\n",
       "      <td>104865.20</td>\n",
       "    </tr>\n",
       "    <tr>\n",
       "      <th>...</th>\n",
       "      <td>...</td>\n",
       "      <td>...</td>\n",
       "      <td>...</td>\n",
       "      <td>...</td>\n",
       "      <td>...</td>\n",
       "    </tr>\n",
       "    <tr>\n",
       "      <th>243</th>\n",
       "      <td>2023-12-06</td>\n",
       "      <td>10</td>\n",
       "      <td>5521.10</td>\n",
       "      <td>9823.20</td>\n",
       "      <td>7744313.53</td>\n",
       "    </tr>\n",
       "    <tr>\n",
       "      <th>244</th>\n",
       "      <td>2023-12-11</td>\n",
       "      <td>4</td>\n",
       "      <td>119.80</td>\n",
       "      <td>479.20</td>\n",
       "      <td>1293836.48</td>\n",
       "    </tr>\n",
       "    <tr>\n",
       "      <th>245</th>\n",
       "      <td>2023-12-12</td>\n",
       "      <td>40</td>\n",
       "      <td>35.55</td>\n",
       "      <td>1422.00</td>\n",
       "      <td>1295258.48</td>\n",
       "    </tr>\n",
       "    <tr>\n",
       "      <th>246</th>\n",
       "      <td>2023-12-13</td>\n",
       "      <td>65</td>\n",
       "      <td>167.56</td>\n",
       "      <td>5446.25</td>\n",
       "      <td>2600990.61</td>\n",
       "    </tr>\n",
       "    <tr>\n",
       "      <th>247</th>\n",
       "      <td>2023-12-14</td>\n",
       "      <td>100</td>\n",
       "      <td>35.89</td>\n",
       "      <td>3589.00</td>\n",
       "      <td>1304293.73</td>\n",
       "    </tr>\n",
       "  </tbody>\n",
       "</table>\n",
       "<p>248 rows × 5 columns</p>\n",
       "</div>"
      ],
      "text/plain": [
       "    Trade Date  Quantity     Price    Amount  comm Amount\n",
       "0   2019-10-29        13   1997.40   2478.00      6024.00\n",
       "1   2019-10-30        20    124.50   1245.00      6325.50\n",
       "2   2019-11-06         7   1389.80   4864.30     13005.20\n",
       "3   2019-11-07         3   2918.00   8754.00     17341.30\n",
       "4   2019-11-15         4  14200.00  14200.00    104865.20\n",
       "..         ...       ...       ...       ...          ...\n",
       "243 2023-12-06        10   5521.10   9823.20   7744313.53\n",
       "244 2023-12-11         4    119.80    479.20   1293836.48\n",
       "245 2023-12-12        40     35.55   1422.00   1295258.48\n",
       "246 2023-12-13        65    167.56   5446.25   2600990.61\n",
       "247 2023-12-14       100     35.89   3589.00   1304293.73\n",
       "\n",
       "[248 rows x 5 columns]"
      ]
     },
     "execution_count": 110,
     "metadata": {},
     "output_type": "execute_result"
    }
   ],
   "source": [
    "invst_df_groupby=invst_df.groupby(['Trade Date']).sum().reset_index()\n",
    "invst_df_groupby"
   ]
  },
  {
   "cell_type": "code",
   "execution_count": 111,
   "id": "9afc9dd8",
   "metadata": {},
   "outputs": [],
   "source": [
    "color = ['r' if y<0 else 'g' for y in invst_df_groupby.Amount]"
   ]
  },
  {
   "cell_type": "code",
   "execution_count": 112,
   "id": "f747cc34",
   "metadata": {},
   "outputs": [
    {
     "data": {
      "image/png": "[encoded data removed]",
      "text/plain": [
       "<Figure size 1080x576 with 1 Axes>"
      ]
     },
     "metadata": {
      "needs_background": "light"
     },
     "output_type": "display_data"
    }
   ],
   "source": [
    "from matplotlib.dates import MonthLocator, DateFormatter\n",
    "plt.figure(figsize=(15,8))\n",
    "ax=sns.barplot(\"Trade Date\",\"Amount\",data=invst_df_groupby, color = 'g')\n",
    "ax.xaxis.set_major_locator(MonthLocator())\n",
    "#defines the label format\n",
    "ax.xaxis.set_major_formatter(DateFormatter(\"%b-%y\"))\n",
    "ax.tick_params(axis=\"x\", labelrotation= 45)\n",
    "plt.tight_layout()\n",
    "plt.show()"
   ]
  },
  {
   "cell_type": "code",
   "execution_count": 113,
   "id": "556f68e9",
   "metadata": {},
   "outputs": [
    {
     "data": {
      "text/html": [
       "<div>\n",
       "<style scoped>\n",
       "    .dataframe tbody tr th:only-of-type {\n",
       "        vertical-align: middle;\n",
       "    }\n",
       "\n",
       "    .dataframe tbody tr th {\n",
       "        vertical-align: top;\n",
       "    }\n",
       "\n",
       "    .dataframe thead th {\n",
       "        text-align: right;\n",
       "    }\n",
       "</style>\n",
       "<table border=\"1\" class=\"dataframe\">\n",
       "  <thead>\n",
       "    <tr style=\"text-align: right;\">\n",
       "      <th></th>\n",
       "      <th>Symbol</th>\n",
       "      <th>Quantity</th>\n",
       "      <th>Amount</th>\n",
       "    </tr>\n",
       "  </thead>\n",
       "  <tbody>\n",
       "    <tr>\n",
       "      <th>0</th>\n",
       "      <td>AAVAS</td>\n",
       "      <td>3</td>\n",
       "      <td>4514.85</td>\n",
       "    </tr>\n",
       "    <tr>\n",
       "      <th>1</th>\n",
       "      <td>ADVENZYMES</td>\n",
       "      <td>15</td>\n",
       "      <td>6284.75</td>\n",
       "    </tr>\n",
       "    <tr>\n",
       "      <th>2</th>\n",
       "      <td>AFFLE</td>\n",
       "      <td>21</td>\n",
       "      <td>22779.55</td>\n",
       "    </tr>\n",
       "    <tr>\n",
       "      <th>3</th>\n",
       "      <td>AFFLE-BE</td>\n",
       "      <td>2</td>\n",
       "      <td>8055.80</td>\n",
       "    </tr>\n",
       "    <tr>\n",
       "      <th>4</th>\n",
       "      <td>ALKEM</td>\n",
       "      <td>9</td>\n",
       "      <td>26300.10</td>\n",
       "    </tr>\n",
       "    <tr>\n",
       "      <th>...</th>\n",
       "      <td>...</td>\n",
       "      <td>...</td>\n",
       "      <td>...</td>\n",
       "    </tr>\n",
       "    <tr>\n",
       "      <th>90</th>\n",
       "      <td>TVSSCS</td>\n",
       "      <td>53</td>\n",
       "      <td>12019.30</td>\n",
       "    </tr>\n",
       "    <tr>\n",
       "      <th>91</th>\n",
       "      <td>UNIONBANK</td>\n",
       "      <td>70</td>\n",
       "      <td>6090.50</td>\n",
       "    </tr>\n",
       "    <tr>\n",
       "      <th>92</th>\n",
       "      <td>VOLTAS</td>\n",
       "      <td>10</td>\n",
       "      <td>8461.50</td>\n",
       "    </tr>\n",
       "    <tr>\n",
       "      <th>93</th>\n",
       "      <td>YESBANK</td>\n",
       "      <td>170</td>\n",
       "      <td>4919.00</td>\n",
       "    </tr>\n",
       "    <tr>\n",
       "      <th>94</th>\n",
       "      <td>ZOMATO</td>\n",
       "      <td>94</td>\n",
       "      <td>8804.20</td>\n",
       "    </tr>\n",
       "  </tbody>\n",
       "</table>\n",
       "<p>95 rows × 3 columns</p>\n",
       "</div>"
      ],
      "text/plain": [
       "        Symbol  Quantity    Amount\n",
       "0        AAVAS         3   4514.85\n",
       "1   ADVENZYMES        15   6284.75\n",
       "2        AFFLE        21  22779.55\n",
       "3     AFFLE-BE         2   8055.80\n",
       "4        ALKEM         9  26300.10\n",
       "..         ...       ...       ...\n",
       "90      TVSSCS        53  12019.30\n",
       "91   UNIONBANK        70   6090.50\n",
       "92      VOLTAS        10   8461.50\n",
       "93     YESBANK       170   4919.00\n",
       "94      ZOMATO        94   8804.20\n",
       "\n",
       "[95 rows x 3 columns]"
      ]
     },
     "execution_count": 113,
     "metadata": {},
     "output_type": "execute_result"
    }
   ],
   "source": [
    "invst_df_groupby=invst_df.groupby([\"Symbol\"]).aggregate({'Quantity':'sum', 'Amount':'sum'}).reset_index()\n",
    "invst_df_groupby"
   ]
  },
  {
   "cell_type": "code",
   "execution_count": 114,
   "id": "5e8e52cf",
   "metadata": {},
   "outputs": [],
   "source": [
    "#Lets see where tardes have squared off and net quantity is zero"
   ]
  },
  {
   "cell_type": "code",
   "execution_count": 115,
   "id": "6f920c27",
   "metadata": {},
   "outputs": [
    {
     "data": {
      "text/html": [
       "<div>\n",
       "<style scoped>\n",
       "    .dataframe tbody tr th:only-of-type {\n",
       "        vertical-align: middle;\n",
       "    }\n",
       "\n",
       "    .dataframe tbody tr th {\n",
       "        vertical-align: top;\n",
       "    }\n",
       "\n",
       "    .dataframe thead th {\n",
       "        text-align: right;\n",
       "    }\n",
       "</style>\n",
       "<table border=\"1\" class=\"dataframe\">\n",
       "  <thead>\n",
       "    <tr style=\"text-align: right;\">\n",
       "      <th></th>\n",
       "      <th>Symbol</th>\n",
       "      <th>Quantity</th>\n",
       "      <th>Amount</th>\n",
       "    </tr>\n",
       "  </thead>\n",
       "  <tbody>\n",
       "    <tr>\n",
       "      <th>21</th>\n",
       "      <td>CENTURYTEX</td>\n",
       "      <td>0</td>\n",
       "      <td>-306.10</td>\n",
       "    </tr>\n",
       "    <tr>\n",
       "      <th>23</th>\n",
       "      <td>CONCOR</td>\n",
       "      <td>0</td>\n",
       "      <td>-569.00</td>\n",
       "    </tr>\n",
       "    <tr>\n",
       "      <th>29</th>\n",
       "      <td>FMGOETZE</td>\n",
       "      <td>0</td>\n",
       "      <td>-495.90</td>\n",
       "    </tr>\n",
       "    <tr>\n",
       "      <th>42</th>\n",
       "      <td>HESTERBIO</td>\n",
       "      <td>0</td>\n",
       "      <td>-75.65</td>\n",
       "    </tr>\n",
       "    <tr>\n",
       "      <th>43</th>\n",
       "      <td>HINDPETRO</td>\n",
       "      <td>0</td>\n",
       "      <td>279.30</td>\n",
       "    </tr>\n",
       "    <tr>\n",
       "      <th>45</th>\n",
       "      <td>IBULHSGFIN</td>\n",
       "      <td>0</td>\n",
       "      <td>-900.80</td>\n",
       "    </tr>\n",
       "    <tr>\n",
       "      <th>47</th>\n",
       "      <td>IDBI</td>\n",
       "      <td>0</td>\n",
       "      <td>1373.75</td>\n",
       "    </tr>\n",
       "    <tr>\n",
       "      <th>49</th>\n",
       "      <td>INDUSINDBK</td>\n",
       "      <td>0</td>\n",
       "      <td>332.25</td>\n",
       "    </tr>\n",
       "    <tr>\n",
       "      <th>51</th>\n",
       "      <td>INOXLEISUR</td>\n",
       "      <td>0</td>\n",
       "      <td>-559.75</td>\n",
       "    </tr>\n",
       "    <tr>\n",
       "      <th>52</th>\n",
       "      <td>IRCTC</td>\n",
       "      <td>0</td>\n",
       "      <td>-773.20</td>\n",
       "    </tr>\n",
       "    <tr>\n",
       "      <th>57</th>\n",
       "      <td>LALPATHLAB</td>\n",
       "      <td>0</td>\n",
       "      <td>1314.45</td>\n",
       "    </tr>\n",
       "    <tr>\n",
       "      <th>70</th>\n",
       "      <td>PNB</td>\n",
       "      <td>0</td>\n",
       "      <td>-827.50</td>\n",
       "    </tr>\n",
       "    <tr>\n",
       "      <th>75</th>\n",
       "      <td>RITES</td>\n",
       "      <td>0</td>\n",
       "      <td>5.60</td>\n",
       "    </tr>\n",
       "    <tr>\n",
       "      <th>77</th>\n",
       "      <td>RVNL</td>\n",
       "      <td>0</td>\n",
       "      <td>-71.75</td>\n",
       "    </tr>\n",
       "    <tr>\n",
       "      <th>80</th>\n",
       "      <td>SCI</td>\n",
       "      <td>0</td>\n",
       "      <td>266.00</td>\n",
       "    </tr>\n",
       "    <tr>\n",
       "      <th>81</th>\n",
       "      <td>SNOWMAN</td>\n",
       "      <td>0</td>\n",
       "      <td>1680.00</td>\n",
       "    </tr>\n",
       "    <tr>\n",
       "      <th>83</th>\n",
       "      <td>SPENCERS</td>\n",
       "      <td>0</td>\n",
       "      <td>-1000.00</td>\n",
       "    </tr>\n",
       "    <tr>\n",
       "      <th>89</th>\n",
       "      <td>TATASTEEL</td>\n",
       "      <td>0</td>\n",
       "      <td>-5792.35</td>\n",
       "    </tr>\n",
       "  </tbody>\n",
       "</table>\n",
       "</div>"
      ],
      "text/plain": [
       "        Symbol  Quantity   Amount\n",
       "21  CENTURYTEX         0  -306.10\n",
       "23      CONCOR         0  -569.00\n",
       "29    FMGOETZE         0  -495.90\n",
       "42   HESTERBIO         0   -75.65\n",
       "43   HINDPETRO         0   279.30\n",
       "45  IBULHSGFIN         0  -900.80\n",
       "47        IDBI         0  1373.75\n",
       "49  INDUSINDBK         0   332.25\n",
       "51  INOXLEISUR         0  -559.75\n",
       "52       IRCTC         0  -773.20\n",
       "57  LALPATHLAB         0  1314.45\n",
       "70         PNB         0  -827.50\n",
       "75       RITES         0     5.60\n",
       "77        RVNL         0   -71.75\n",
       "80         SCI         0   266.00\n",
       "81     SNOWMAN         0  1680.00\n",
       "83    SPENCERS         0 -1000.00\n",
       "89   TATASTEEL         0 -5792.35"
      ]
     },
     "execution_count": 115,
     "metadata": {},
     "output_type": "execute_result"
    }
   ],
   "source": [
    "invst_df_groupby[invst_df_groupby.Quantity ==0]"
   ]
  },
  {
   "cell_type": "code",
   "execution_count": 116,
   "id": "f65f196f",
   "metadata": {},
   "outputs": [
    {
     "data": {
      "text/plain": [
       "-6120.65"
      ]
     },
     "execution_count": 116,
     "metadata": {},
     "output_type": "execute_result"
    }
   ],
   "source": [
    "invst_df_groupby[invst_df_groupby.Quantity ==0].Amount.sum()"
   ]
  },
  {
   "cell_type": "code",
   "execution_count": 117,
   "id": "5943fbbd",
   "metadata": {},
   "outputs": [],
   "source": [
    "invst_df_groupby.Symbol=invst_df_groupby.Symbol.astype('str')"
   ]
  },
  {
   "cell_type": "markdown",
   "id": "94da9fa4",
   "metadata": {},
   "source": [
    "So overall i'm profitable by 6k :p"
   ]
  },
  {
   "cell_type": "code",
   "execution_count": 118,
   "id": "cddd709d",
   "metadata": {},
   "outputs": [
    {
     "data": {
      "image/png": "[encoded data removed]",
      "text/plain": [
       "<Figure size 1080x1080 with 1 Axes>"
      ]
     },
     "metadata": {},
     "output_type": "display_data"
    }
   ],
   "source": [
    "# define Seaborn color palette to use\n",
    "palette_color = sns.color_palette('bright')\n",
    "plt.figure(figsize=(15,15))\n",
    "# plotting data on chart\n",
    "plt.pie(invst_df_groupby[(invst_df_groupby.Quantity !=0) & (invst_df_groupby.Amount >0)].Amount, \n",
    "        labels=invst_df_groupby[(invst_df_groupby.Quantity !=0) & (invst_df_groupby.Amount >0)].Symbol, colors=palette_color, autopct='%.0f%%')\n",
    "  \n",
    "# displaying chart\n",
    "plt.show()"
   ]
  },
  {
   "cell_type": "code",
   "execution_count": 119,
   "id": "e752d928",
   "metadata": {},
   "outputs": [],
   "source": [
    "holding=pd.read_excel(r'holdings-CK7879.xlsx')"
   ]
  },
  {
   "cell_type": "code",
   "execution_count": 120,
   "id": "19616555",
   "metadata": {},
   "outputs": [
    {
     "data": {
      "text/html": [
       "<div>\n",
       "<style scoped>\n",
       "    .dataframe tbody tr th:only-of-type {\n",
       "        vertical-align: middle;\n",
       "    }\n",
       "\n",
       "    .dataframe tbody tr th {\n",
       "        vertical-align: top;\n",
       "    }\n",
       "\n",
       "    .dataframe thead th {\n",
       "        text-align: right;\n",
       "    }\n",
       "</style>\n",
       "<table border=\"1\" class=\"dataframe\">\n",
       "  <thead>\n",
       "    <tr style=\"text-align: right;\">\n",
       "      <th></th>\n",
       "      <th>Symbol</th>\n",
       "      <th>ISIN</th>\n",
       "      <th>Sector</th>\n",
       "      <th>Quantity Available</th>\n",
       "      <th>Quantity Discrepant</th>\n",
       "      <th>Quantity Long Term</th>\n",
       "      <th>Quantity Pledged (Margin)</th>\n",
       "      <th>Quantity Pledged (Loan)</th>\n",
       "      <th>Average Price</th>\n",
       "      <th>Previous Closing Price</th>\n",
       "      <th>Unrealized P&amp;L</th>\n",
       "      <th>Unrealized P&amp;L Pct.</th>\n",
       "    </tr>\n",
       "  </thead>\n",
       "  <tbody>\n",
       "    <tr>\n",
       "      <th>0</th>\n",
       "      <td>AAVAS</td>\n",
       "      <td>INE216P01012</td>\n",
       "      <td>Financials</td>\n",
       "      <td>3</td>\n",
       "      <td>0</td>\n",
       "      <td>0</td>\n",
       "      <td>0</td>\n",
       "      <td>0</td>\n",
       "      <td>1504.9500</td>\n",
       "      <td>1546.15</td>\n",
       "      <td>123.60</td>\n",
       "      <td>2.7376</td>\n",
       "    </tr>\n",
       "    <tr>\n",
       "      <th>1</th>\n",
       "      <td>ADVENZYMES</td>\n",
       "      <td>INE837H01020</td>\n",
       "      <td>Materials</td>\n",
       "      <td>15</td>\n",
       "      <td>0</td>\n",
       "      <td>15</td>\n",
       "      <td>0</td>\n",
       "      <td>0</td>\n",
       "      <td>418.9833</td>\n",
       "      <td>370.30</td>\n",
       "      <td>-730.25</td>\n",
       "      <td>-11.6194</td>\n",
       "    </tr>\n",
       "    <tr>\n",
       "      <th>2</th>\n",
       "      <td>AFFLE</td>\n",
       "      <td>INE00WC01027</td>\n",
       "      <td>Communication Services</td>\n",
       "      <td>31</td>\n",
       "      <td>0</td>\n",
       "      <td>18</td>\n",
       "      <td>0</td>\n",
       "      <td>0</td>\n",
       "      <td>994.6887</td>\n",
       "      <td>1213.20</td>\n",
       "      <td>6773.85</td>\n",
       "      <td>21.9678</td>\n",
       "    </tr>\n",
       "    <tr>\n",
       "      <th>3</th>\n",
       "      <td>ALKEM</td>\n",
       "      <td>INE540L01014</td>\n",
       "      <td>Health Care</td>\n",
       "      <td>9</td>\n",
       "      <td>0</td>\n",
       "      <td>8</td>\n",
       "      <td>0</td>\n",
       "      <td>0</td>\n",
       "      <td>2922.2333</td>\n",
       "      <td>4919.35</td>\n",
       "      <td>17974.05</td>\n",
       "      <td>68.3421</td>\n",
       "    </tr>\n",
       "    <tr>\n",
       "      <th>4</th>\n",
       "      <td>AMIORG</td>\n",
       "      <td>INE00FF01017</td>\n",
       "      <td>Health Care</td>\n",
       "      <td>8</td>\n",
       "      <td>0</td>\n",
       "      <td>0</td>\n",
       "      <td>0</td>\n",
       "      <td>0</td>\n",
       "      <td>1314.6750</td>\n",
       "      <td>1140.75</td>\n",
       "      <td>-1391.40</td>\n",
       "      <td>-13.2295</td>\n",
       "    </tr>\n",
       "  </tbody>\n",
       "</table>\n",
       "</div>"
      ],
      "text/plain": [
       "       Symbol          ISIN                  Sector  Quantity Available  \\\n",
       "0       AAVAS  INE216P01012              Financials                   3   \n",
       "1  ADVENZYMES  INE837H01020               Materials                  15   \n",
       "2       AFFLE  INE00WC01027  Communication Services                  31   \n",
       "3       ALKEM  INE540L01014             Health Care                   9   \n",
       "4      AMIORG  INE00FF01017             Health Care                   8   \n",
       "\n",
       "   Quantity Discrepant  Quantity Long Term  Quantity Pledged (Margin)  \\\n",
       "0                    0                   0                          0   \n",
       "1                    0                  15                          0   \n",
       "2                    0                  18                          0   \n",
       "3                    0                   8                          0   \n",
       "4                    0                   0                          0   \n",
       "\n",
       "   Quantity Pledged (Loan)  Average Price  Previous Closing Price  \\\n",
       "0                        0      1504.9500                 1546.15   \n",
       "1                        0       418.9833                  370.30   \n",
       "2                        0       994.6887                 1213.20   \n",
       "3                        0      2922.2333                 4919.35   \n",
       "4                        0      1314.6750                 1140.75   \n",
       "\n",
       "   Unrealized P&L  Unrealized P&L Pct.  \n",
       "0          123.60               2.7376  \n",
       "1         -730.25             -11.6194  \n",
       "2         6773.85              21.9678  \n",
       "3        17974.05              68.3421  \n",
       "4        -1391.40             -13.2295  "
      ]
     },
     "execution_count": 120,
     "metadata": {},
     "output_type": "execute_result"
    }
   ],
   "source": [
    "holding.head()"
   ]
  },
  {
   "cell_type": "code",
   "execution_count": 121,
   "id": "562523da",
   "metadata": {},
   "outputs": [],
   "source": [
    "holding['invs_amount']=holding['Average Price']*holding['Quantity Available']"
   ]
  },
  {
   "cell_type": "code",
   "execution_count": 122,
   "id": "3cfb02bb",
   "metadata": {},
   "outputs": [
    {
     "name": "stdout",
     "output_type": "stream",
     "text": [
      "Best Gainers are\n"
     ]
    },
    {
     "data": {
      "image/png": "[encoded data removed]",
      "text/plain": [
       "<Figure size 1080x1080 with 1 Axes>"
      ]
     },
     "metadata": {},
     "output_type": "display_data"
    }
   ],
   "source": [
    "# define Seaborn color palette to use\n",
    "palette_color = sns.color_palette('bright')\n",
    "plt.figure(figsize=(15,15))\n",
    "# plotting data on chart\n",
    "print(\"Best Gainers are\")\n",
    "plt.pie(holding[holding['Unrealized P&L'] >0]['Unrealized P&L'], \n",
    "        labels=holding[holding['Unrealized P&L'] >0].Symbol, colors=palette_color, autopct='%.0f%%')\n",
    "  \n",
    "# displaying chart\n",
    "plt.show()"
   ]
  },
  {
   "cell_type": "code",
   "execution_count": 123,
   "id": "e1e2164b",
   "metadata": {},
   "outputs": [],
   "source": [
    "holding_profit=holding[holding['Unrealized P&L'] >0]\n",
    "holding_loss=holding[holding['Unrealized P&L'] <=0]"
   ]
  },
  {
   "cell_type": "code",
   "execution_count": 124,
   "id": "0c8627f2",
   "metadata": {},
   "outputs": [],
   "source": [
    "holding_profit['% profit'] =round((holding_profit['Unrealized P&L']/holding_profit['Unrealized P&L'].sum())*100,2)\n",
    "holding_loss['% loss'] =round((holding_loss['Unrealized P&L']/holding_loss['Unrealized P&L'].sum())*100,2)"
   ]
  },
  {
   "cell_type": "code",
   "execution_count": 125,
   "id": "722933db",
   "metadata": {},
   "outputs": [
    {
     "data": {
      "text/html": [
       "<div>\n",
       "<style scoped>\n",
       "    .dataframe tbody tr th:only-of-type {\n",
       "        vertical-align: middle;\n",
       "    }\n",
       "\n",
       "    .dataframe tbody tr th {\n",
       "        vertical-align: top;\n",
       "    }\n",
       "\n",
       "    .dataframe thead th {\n",
       "        text-align: right;\n",
       "    }\n",
       "</style>\n",
       "<table border=\"1\" class=\"dataframe\">\n",
       "  <thead>\n",
       "    <tr style=\"text-align: right;\">\n",
       "      <th></th>\n",
       "      <th>Symbol</th>\n",
       "      <th>% profit</th>\n",
       "    </tr>\n",
       "  </thead>\n",
       "  <tbody>\n",
       "    <tr>\n",
       "      <th>35</th>\n",
       "      <td>INFY</td>\n",
       "      <td>6.93</td>\n",
       "    </tr>\n",
       "    <tr>\n",
       "      <th>8</th>\n",
       "      <td>BAJAJFINSV</td>\n",
       "      <td>6.49</td>\n",
       "    </tr>\n",
       "    <tr>\n",
       "      <th>17</th>\n",
       "      <td>DEEPAKNTR</td>\n",
       "      <td>5.17</td>\n",
       "    </tr>\n",
       "    <tr>\n",
       "      <th>60</th>\n",
       "      <td>SBILIFE</td>\n",
       "      <td>4.97</td>\n",
       "    </tr>\n",
       "    <tr>\n",
       "      <th>3</th>\n",
       "      <td>ALKEM</td>\n",
       "      <td>4.75</td>\n",
       "    </tr>\n",
       "    <tr>\n",
       "      <th>20</th>\n",
       "      <td>ESCORTS</td>\n",
       "      <td>4.52</td>\n",
       "    </tr>\n",
       "    <tr>\n",
       "      <th>48</th>\n",
       "      <td>NIFTYBEES</td>\n",
       "      <td>4.31</td>\n",
       "    </tr>\n",
       "    <tr>\n",
       "      <th>46</th>\n",
       "      <td>MTARTECH</td>\n",
       "      <td>4.19</td>\n",
       "    </tr>\n",
       "    <tr>\n",
       "      <th>33</th>\n",
       "      <td>ICICIBANK</td>\n",
       "      <td>4.19</td>\n",
       "    </tr>\n",
       "    <tr>\n",
       "      <th>62</th>\n",
       "      <td>SONACOMS</td>\n",
       "      <td>3.64</td>\n",
       "    </tr>\n",
       "  </tbody>\n",
       "</table>\n",
       "</div>"
      ],
      "text/plain": [
       "        Symbol  % profit\n",
       "35        INFY      6.93\n",
       "8   BAJAJFINSV      6.49\n",
       "17   DEEPAKNTR      5.17\n",
       "60     SBILIFE      4.97\n",
       "3        ALKEM      4.75\n",
       "20     ESCORTS      4.52\n",
       "48   NIFTYBEES      4.31\n",
       "46    MTARTECH      4.19\n",
       "33   ICICIBANK      4.19\n",
       "62    SONACOMS      3.64"
      ]
     },
     "execution_count": 125,
     "metadata": {},
     "output_type": "execute_result"
    }
   ],
   "source": [
    "holding_profit.sort_values(by='% profit', ascending =False)[['Symbol','% profit']].head(10)"
   ]
  },
  {
   "cell_type": "code",
   "execution_count": 126,
   "id": "0e9ba0f9",
   "metadata": {},
   "outputs": [
    {
     "name": "stdout",
     "output_type": "stream",
     "text": [
      "Sore Losers are:\n"
     ]
    },
    {
     "data": {
      "image/png": "[encoded data removed]",
      "text/plain": [
       "<Figure size 720x720 with 1 Axes>"
      ]
     },
     "metadata": {},
     "output_type": "display_data"
    }
   ],
   "source": [
    "# define Seaborn color palette to use\n",
    "palette_color = sns.color_palette('bright')\n",
    "plt.figure(figsize=(10,10))\n",
    "# plotting data on chart\n",
    "print(\"Sore Losers are:\")\n",
    "plt.pie(holding[holding['Unrealized P&L'] <0]['Unrealized P&L']*-1, \n",
    "        labels=holding[holding['Unrealized P&L'] <0].Symbol, colors=palette_color, autopct='%.0f%%')\n",
    "  \n",
    "# displaying chart\n",
    "plt.show()"
   ]
  },
  {
   "cell_type": "code",
   "execution_count": 129,
   "id": "3cda6a91",
   "metadata": {
    "scrolled": true
   },
   "outputs": [
    {
     "data": {
      "text/html": [
       "<div>\n",
       "<style scoped>\n",
       "    .dataframe tbody tr th:only-of-type {\n",
       "        vertical-align: middle;\n",
       "    }\n",
       "\n",
       "    .dataframe tbody tr th {\n",
       "        vertical-align: top;\n",
       "    }\n",
       "\n",
       "    .dataframe thead th {\n",
       "        text-align: right;\n",
       "    }\n",
       "</style>\n",
       "<table border=\"1\" class=\"dataframe\">\n",
       "  <thead>\n",
       "    <tr style=\"text-align: right;\">\n",
       "      <th></th>\n",
       "      <th>Symbol</th>\n",
       "      <th>% loss</th>\n",
       "    </tr>\n",
       "  </thead>\n",
       "  <tbody>\n",
       "    <tr>\n",
       "      <th>26</th>\n",
       "      <td>HAPPSTMNDS</td>\n",
       "      <td>13.69</td>\n",
       "    </tr>\n",
       "    <tr>\n",
       "      <th>10</th>\n",
       "      <td>BANDHANBNK</td>\n",
       "      <td>9.65</td>\n",
       "    </tr>\n",
       "    <tr>\n",
       "      <th>15</th>\n",
       "      <td>CARTRADE</td>\n",
       "      <td>9.57</td>\n",
       "    </tr>\n",
       "    <tr>\n",
       "      <th>49</th>\n",
       "      <td>NYKAA</td>\n",
       "      <td>9.18</td>\n",
       "    </tr>\n",
       "    <tr>\n",
       "      <th>22</th>\n",
       "      <td>GLS</td>\n",
       "      <td>7.85</td>\n",
       "    </tr>\n",
       "    <tr>\n",
       "      <th>44</th>\n",
       "      <td>MAHEPC</td>\n",
       "      <td>5.95</td>\n",
       "    </tr>\n",
       "    <tr>\n",
       "      <th>4</th>\n",
       "      <td>AMIORG</td>\n",
       "      <td>5.23</td>\n",
       "    </tr>\n",
       "    <tr>\n",
       "      <th>51</th>\n",
       "      <td>PAYTM</td>\n",
       "      <td>4.70</td>\n",
       "    </tr>\n",
       "    <tr>\n",
       "      <th>34</th>\n",
       "      <td>IGL</td>\n",
       "      <td>4.69</td>\n",
       "    </tr>\n",
       "    <tr>\n",
       "      <th>71</th>\n",
       "      <td>YESBANK</td>\n",
       "      <td>4.46</td>\n",
       "    </tr>\n",
       "  </tbody>\n",
       "</table>\n",
       "</div>"
      ],
      "text/plain": [
       "        Symbol  % loss\n",
       "26  HAPPSTMNDS   13.69\n",
       "10  BANDHANBNK    9.65\n",
       "15    CARTRADE    9.57\n",
       "49       NYKAA    9.18\n",
       "22         GLS    7.85\n",
       "44      MAHEPC    5.95\n",
       "4       AMIORG    5.23\n",
       "51       PAYTM    4.70\n",
       "34         IGL    4.69\n",
       "71     YESBANK    4.46"
      ]
     },
     "execution_count": 129,
     "metadata": {},
     "output_type": "execute_result"
    }
   ],
   "source": [
    "holding_loss.sort_values(by='% loss', ascending =False)[['Symbol','% loss']].head(10)"
   ]
  },
  {
   "cell_type": "code",
   "execution_count": 130,
   "id": "453e2f9f",
   "metadata": {},
   "outputs": [
    {
     "data": {
      "image/png": "[encoded data removed]",
      "text/plain": [
       "<Figure size 1440x720 with 1 Axes>"
      ]
     },
     "metadata": {
      "needs_background": "light"
     },
     "output_type": "display_data"
    }
   ],
   "source": [
    "plt.figure(figsize=(20,10))\n",
    "sns.barplot(holding.Symbol,holding['Unrealized P&L Pct.'])\n",
    "plt.xticks(rotation=\"90\")\n",
    "plt.show()"
   ]
  },
  {
   "cell_type": "code",
   "execution_count": 131,
   "id": "fab1ba94",
   "metadata": {},
   "outputs": [
    {
     "data": {
      "text/html": [
       "<div>\n",
       "<style scoped>\n",
       "    .dataframe tbody tr th:only-of-type {\n",
       "        vertical-align: middle;\n",
       "    }\n",
       "\n",
       "    .dataframe tbody tr th {\n",
       "        vertical-align: top;\n",
       "    }\n",
       "\n",
       "    .dataframe thead th {\n",
       "        text-align: right;\n",
       "    }\n",
       "</style>\n",
       "<table border=\"1\" class=\"dataframe\">\n",
       "  <thead>\n",
       "    <tr style=\"text-align: right;\">\n",
       "      <th></th>\n",
       "      <th>Symbol</th>\n",
       "      <th>ISIN</th>\n",
       "      <th>Sector</th>\n",
       "      <th>Quantity Available</th>\n",
       "      <th>Quantity Discrepant</th>\n",
       "      <th>Quantity Long Term</th>\n",
       "      <th>Quantity Pledged (Margin)</th>\n",
       "      <th>Quantity Pledged (Loan)</th>\n",
       "      <th>Average Price</th>\n",
       "      <th>Previous Closing Price</th>\n",
       "      <th>Unrealized P&amp;L</th>\n",
       "      <th>Unrealized P&amp;L Pct.</th>\n",
       "      <th>invs_amount</th>\n",
       "      <th>% profit</th>\n",
       "    </tr>\n",
       "  </thead>\n",
       "  <tbody>\n",
       "    <tr>\n",
       "      <th>0</th>\n",
       "      <td>AAVAS</td>\n",
       "      <td>INE216P01012</td>\n",
       "      <td>Financials</td>\n",
       "      <td>3</td>\n",
       "      <td>0</td>\n",
       "      <td>0</td>\n",
       "      <td>0</td>\n",
       "      <td>0</td>\n",
       "      <td>1504.9500</td>\n",
       "      <td>1546.15</td>\n",
       "      <td>123.60</td>\n",
       "      <td>2.7376</td>\n",
       "      <td>4514.8500</td>\n",
       "      <td>0.03</td>\n",
       "    </tr>\n",
       "    <tr>\n",
       "      <th>2</th>\n",
       "      <td>AFFLE</td>\n",
       "      <td>INE00WC01027</td>\n",
       "      <td>Communication Services</td>\n",
       "      <td>31</td>\n",
       "      <td>0</td>\n",
       "      <td>18</td>\n",
       "      <td>0</td>\n",
       "      <td>0</td>\n",
       "      <td>994.6887</td>\n",
       "      <td>1213.20</td>\n",
       "      <td>6773.85</td>\n",
       "      <td>21.9678</td>\n",
       "      <td>30835.3497</td>\n",
       "      <td>1.79</td>\n",
       "    </tr>\n",
       "    <tr>\n",
       "      <th>3</th>\n",
       "      <td>ALKEM</td>\n",
       "      <td>INE540L01014</td>\n",
       "      <td>Health Care</td>\n",
       "      <td>9</td>\n",
       "      <td>0</td>\n",
       "      <td>8</td>\n",
       "      <td>0</td>\n",
       "      <td>0</td>\n",
       "      <td>2922.2333</td>\n",
       "      <td>4919.35</td>\n",
       "      <td>17974.05</td>\n",
       "      <td>68.3421</td>\n",
       "      <td>26300.0997</td>\n",
       "      <td>4.75</td>\n",
       "    </tr>\n",
       "    <tr>\n",
       "      <th>5</th>\n",
       "      <td>ASIANPAINT</td>\n",
       "      <td>INE021A01026</td>\n",
       "      <td>Materials</td>\n",
       "      <td>4</td>\n",
       "      <td>0</td>\n",
       "      <td>2</td>\n",
       "      <td>0</td>\n",
       "      <td>0</td>\n",
       "      <td>2669.7000</td>\n",
       "      <td>3313.90</td>\n",
       "      <td>2576.80</td>\n",
       "      <td>24.1301</td>\n",
       "      <td>10678.8000</td>\n",
       "      <td>0.68</td>\n",
       "    </tr>\n",
       "    <tr>\n",
       "      <th>8</th>\n",
       "      <td>BAJAJFINSV</td>\n",
       "      <td>INE918I01026</td>\n",
       "      <td>Financials</td>\n",
       "      <td>31</td>\n",
       "      <td>0</td>\n",
       "      <td>20</td>\n",
       "      <td>0</td>\n",
       "      <td>0</td>\n",
       "      <td>940.9161</td>\n",
       "      <td>1733.15</td>\n",
       "      <td>24559.25</td>\n",
       "      <td>84.1981</td>\n",
       "      <td>29168.3991</td>\n",
       "      <td>6.49</td>\n",
       "    </tr>\n",
       "  </tbody>\n",
       "</table>\n",
       "</div>"
      ],
      "text/plain": [
       "       Symbol          ISIN                  Sector  Quantity Available  \\\n",
       "0       AAVAS  INE216P01012              Financials                   3   \n",
       "2       AFFLE  INE00WC01027  Communication Services                  31   \n",
       "3       ALKEM  INE540L01014             Health Care                   9   \n",
       "5  ASIANPAINT  INE021A01026               Materials                   4   \n",
       "8  BAJAJFINSV  INE918I01026              Financials                  31   \n",
       "\n",
       "   Quantity Discrepant  Quantity Long Term  Quantity Pledged (Margin)  \\\n",
       "0                    0                   0                          0   \n",
       "2                    0                  18                          0   \n",
       "3                    0                   8                          0   \n",
       "5                    0                   2                          0   \n",
       "8                    0                  20                          0   \n",
       "\n",
       "   Quantity Pledged (Loan)  Average Price  Previous Closing Price  \\\n",
       "0                        0      1504.9500                 1546.15   \n",
       "2                        0       994.6887                 1213.20   \n",
       "3                        0      2922.2333                 4919.35   \n",
       "5                        0      2669.7000                 3313.90   \n",
       "8                        0       940.9161                 1733.15   \n",
       "\n",
       "   Unrealized P&L  Unrealized P&L Pct.  invs_amount  % profit  \n",
       "0          123.60               2.7376    4514.8500      0.03  \n",
       "2         6773.85              21.9678   30835.3497      1.79  \n",
       "3        17974.05              68.3421   26300.0997      4.75  \n",
       "5         2576.80              24.1301   10678.8000      0.68  \n",
       "8        24559.25              84.1981   29168.3991      6.49  "
      ]
     },
     "execution_count": 131,
     "metadata": {},
     "output_type": "execute_result"
    }
   ],
   "source": [
    "holding_profit.head()"
   ]
  },
  {
   "cell_type": "code",
   "execution_count": 132,
   "id": "839fb23e",
   "metadata": {},
   "outputs": [
    {
     "data": {
      "text/html": [
       "<div>\n",
       "<style scoped>\n",
       "    .dataframe tbody tr th:only-of-type {\n",
       "        vertical-align: middle;\n",
       "    }\n",
       "\n",
       "    .dataframe tbody tr th {\n",
       "        vertical-align: top;\n",
       "    }\n",
       "\n",
       "    .dataframe thead th {\n",
       "        text-align: right;\n",
       "    }\n",
       "</style>\n",
       "<table border=\"1\" class=\"dataframe\">\n",
       "  <thead>\n",
       "    <tr style=\"text-align: right;\">\n",
       "      <th></th>\n",
       "      <th>Symbol</th>\n",
       "      <th>% profit</th>\n",
       "      <th>Unrealized P&amp;L Pct.</th>\n",
       "    </tr>\n",
       "  </thead>\n",
       "  <tbody>\n",
       "    <tr>\n",
       "      <th>19</th>\n",
       "      <td>EIHOTEL</td>\n",
       "      <td>2.71</td>\n",
       "      <td>222.9950</td>\n",
       "    </tr>\n",
       "    <tr>\n",
       "      <th>20</th>\n",
       "      <td>ESCORTS</td>\n",
       "      <td>4.52</td>\n",
       "      <td>154.8216</td>\n",
       "    </tr>\n",
       "    <tr>\n",
       "      <th>39</th>\n",
       "      <td>JIOFIN</td>\n",
       "      <td>0.50</td>\n",
       "      <td>132.4287</td>\n",
       "    </tr>\n",
       "    <tr>\n",
       "      <th>38</th>\n",
       "      <td>ITC</td>\n",
       "      <td>1.60</td>\n",
       "      <td>112.2545</td>\n",
       "    </tr>\n",
       "    <tr>\n",
       "      <th>13</th>\n",
       "      <td>BHARTIARTL</td>\n",
       "      <td>1.94</td>\n",
       "      <td>86.2657</td>\n",
       "    </tr>\n",
       "    <tr>\n",
       "      <th>8</th>\n",
       "      <td>BAJAJFINSV</td>\n",
       "      <td>6.49</td>\n",
       "      <td>84.1981</td>\n",
       "    </tr>\n",
       "    <tr>\n",
       "      <th>9</th>\n",
       "      <td>BAJFINANCE</td>\n",
       "      <td>1.70</td>\n",
       "      <td>74.8757</td>\n",
       "    </tr>\n",
       "    <tr>\n",
       "      <th>16</th>\n",
       "      <td>COLPAL</td>\n",
       "      <td>3.63</td>\n",
       "      <td>70.0135</td>\n",
       "    </tr>\n",
       "    <tr>\n",
       "      <th>3</th>\n",
       "      <td>ALKEM</td>\n",
       "      <td>4.75</td>\n",
       "      <td>68.3421</td>\n",
       "    </tr>\n",
       "    <tr>\n",
       "      <th>50</th>\n",
       "      <td>ONGC</td>\n",
       "      <td>2.15</td>\n",
       "      <td>62.6775</td>\n",
       "    </tr>\n",
       "    <tr>\n",
       "      <th>60</th>\n",
       "      <td>SBILIFE</td>\n",
       "      <td>4.97</td>\n",
       "      <td>58.8404</td>\n",
       "    </tr>\n",
       "    <tr>\n",
       "      <th>65</th>\n",
       "      <td>SUNPHARMA</td>\n",
       "      <td>1.72</td>\n",
       "      <td>54.0090</td>\n",
       "    </tr>\n",
       "    <tr>\n",
       "      <th>54</th>\n",
       "      <td>PRITIKAUTO</td>\n",
       "      <td>0.92</td>\n",
       "      <td>53.1034</td>\n",
       "    </tr>\n",
       "    <tr>\n",
       "      <th>17</th>\n",
       "      <td>DEEPAKNTR</td>\n",
       "      <td>5.17</td>\n",
       "      <td>51.3969</td>\n",
       "    </tr>\n",
       "    <tr>\n",
       "      <th>45</th>\n",
       "      <td>MARUTI</td>\n",
       "      <td>1.84</td>\n",
       "      <td>51.1931</td>\n",
       "    </tr>\n",
       "    <tr>\n",
       "      <th>69</th>\n",
       "      <td>UNIONBANK</td>\n",
       "      <td>0.76</td>\n",
       "      <td>47.4592</td>\n",
       "    </tr>\n",
       "    <tr>\n",
       "      <th>46</th>\n",
       "      <td>MTARTECH</td>\n",
       "      <td>4.19</td>\n",
       "      <td>47.3209</td>\n",
       "    </tr>\n",
       "    <tr>\n",
       "      <th>33</th>\n",
       "      <td>ICICIBANK</td>\n",
       "      <td>4.19</td>\n",
       "      <td>42.8226</td>\n",
       "    </tr>\n",
       "    <tr>\n",
       "      <th>28</th>\n",
       "      <td>HCLTECH</td>\n",
       "      <td>3.08</td>\n",
       "      <td>40.7381</td>\n",
       "    </tr>\n",
       "    <tr>\n",
       "      <th>73</th>\n",
       "      <td>ZYDUSLIFE</td>\n",
       "      <td>2.49</td>\n",
       "      <td>36.0249</td>\n",
       "    </tr>\n",
       "  </tbody>\n",
       "</table>\n",
       "</div>"
      ],
      "text/plain": [
       "        Symbol  % profit  Unrealized P&L Pct.\n",
       "19     EIHOTEL      2.71             222.9950\n",
       "20     ESCORTS      4.52             154.8216\n",
       "39      JIOFIN      0.50             132.4287\n",
       "38         ITC      1.60             112.2545\n",
       "13  BHARTIARTL      1.94              86.2657\n",
       "8   BAJAJFINSV      6.49              84.1981\n",
       "9   BAJFINANCE      1.70              74.8757\n",
       "16      COLPAL      3.63              70.0135\n",
       "3        ALKEM      4.75              68.3421\n",
       "50        ONGC      2.15              62.6775\n",
       "60     SBILIFE      4.97              58.8404\n",
       "65   SUNPHARMA      1.72              54.0090\n",
       "54  PRITIKAUTO      0.92              53.1034\n",
       "17   DEEPAKNTR      5.17              51.3969\n",
       "45      MARUTI      1.84              51.1931\n",
       "69   UNIONBANK      0.76              47.4592\n",
       "46    MTARTECH      4.19              47.3209\n",
       "33   ICICIBANK      4.19              42.8226\n",
       "28     HCLTECH      3.08              40.7381\n",
       "73   ZYDUSLIFE      2.49              36.0249"
      ]
     },
     "execution_count": 132,
     "metadata": {},
     "output_type": "execute_result"
    }
   ],
   "source": [
    "holding_profit.sort_values(by='Unrealized P&L Pct.', ascending =False)[['Symbol','% profit','Unrealized P&L Pct.']].head(20)"
   ]
  },
  {
   "cell_type": "code",
   "execution_count": 133,
   "id": "bffdfa3c",
   "metadata": {},
   "outputs": [
    {
     "data": {
      "text/html": [
       "<div>\n",
       "<style scoped>\n",
       "    .dataframe tbody tr th:only-of-type {\n",
       "        vertical-align: middle;\n",
       "    }\n",
       "\n",
       "    .dataframe tbody tr th {\n",
       "        vertical-align: top;\n",
       "    }\n",
       "\n",
       "    .dataframe thead th {\n",
       "        text-align: right;\n",
       "    }\n",
       "</style>\n",
       "<table border=\"1\" class=\"dataframe\">\n",
       "  <thead>\n",
       "    <tr style=\"text-align: right;\">\n",
       "      <th></th>\n",
       "      <th>Symbol</th>\n",
       "      <th>% loss</th>\n",
       "      <th>Unrealized P&amp;L Pct.</th>\n",
       "    </tr>\n",
       "  </thead>\n",
       "  <tbody>\n",
       "    <tr>\n",
       "      <th>6</th>\n",
       "      <td>ATGL</td>\n",
       "      <td>3.20</td>\n",
       "      <td>-44.8219</td>\n",
       "    </tr>\n",
       "    <tr>\n",
       "      <th>15</th>\n",
       "      <td>CARTRADE</td>\n",
       "      <td>9.57</td>\n",
       "      <td>-39.9089</td>\n",
       "    </tr>\n",
       "    <tr>\n",
       "      <th>51</th>\n",
       "      <td>PAYTM</td>\n",
       "      <td>4.70</td>\n",
       "      <td>-34.0407</td>\n",
       "    </tr>\n",
       "    <tr>\n",
       "      <th>26</th>\n",
       "      <td>HAPPSTMNDS</td>\n",
       "      <td>13.69</td>\n",
       "      <td>-30.2023</td>\n",
       "    </tr>\n",
       "    <tr>\n",
       "      <th>10</th>\n",
       "      <td>BANDHANBNK</td>\n",
       "      <td>9.65</td>\n",
       "      <td>-25.2191</td>\n",
       "    </tr>\n",
       "    <tr>\n",
       "      <th>71</th>\n",
       "      <td>YESBANK</td>\n",
       "      <td>4.46</td>\n",
       "      <td>-24.1411</td>\n",
       "    </tr>\n",
       "    <tr>\n",
       "      <th>44</th>\n",
       "      <td>MAHEPC</td>\n",
       "      <td>5.95</td>\n",
       "      <td>-20.0496</td>\n",
       "    </tr>\n",
       "    <tr>\n",
       "      <th>56</th>\n",
       "      <td>RBA</td>\n",
       "      <td>1.92</td>\n",
       "      <td>-15.3144</td>\n",
       "    </tr>\n",
       "    <tr>\n",
       "      <th>4</th>\n",
       "      <td>AMIORG</td>\n",
       "      <td>5.23</td>\n",
       "      <td>-13.2295</td>\n",
       "    </tr>\n",
       "    <tr>\n",
       "      <th>49</th>\n",
       "      <td>NYKAA</td>\n",
       "      <td>9.18</td>\n",
       "      <td>-11.6301</td>\n",
       "    </tr>\n",
       "  </tbody>\n",
       "</table>\n",
       "</div>"
      ],
      "text/plain": [
       "        Symbol  % loss  Unrealized P&L Pct.\n",
       "6         ATGL    3.20             -44.8219\n",
       "15    CARTRADE    9.57             -39.9089\n",
       "51       PAYTM    4.70             -34.0407\n",
       "26  HAPPSTMNDS   13.69             -30.2023\n",
       "10  BANDHANBNK    9.65             -25.2191\n",
       "71     YESBANK    4.46             -24.1411\n",
       "44      MAHEPC    5.95             -20.0496\n",
       "56         RBA    1.92             -15.3144\n",
       "4       AMIORG    5.23             -13.2295\n",
       "49       NYKAA    9.18             -11.6301"
      ]
     },
     "execution_count": 133,
     "metadata": {},
     "output_type": "execute_result"
    }
   ],
   "source": [
    "holding_loss.sort_values(by='Unrealized P&L Pct.', ascending =True)[['Symbol','% loss','Unrealized P&L Pct.']].head(10)"
   ]
  },
  {
   "cell_type": "code",
   "execution_count": 134,
   "id": "3d638a5f",
   "metadata": {},
   "outputs": [],
   "source": [
    "import plotly.express as px"
   ]
  },
  {
   "cell_type": "code",
   "execution_count": 148,
   "id": "7b405aa3",
   "metadata": {},
   "outputs": [
    {
     "data": {
      "application/vnd.plotly.v1+json": {
       "config": {
        "plotlyServerURL": "https://plot.ly"
       },
       "data": [
        {
         "hovertemplate": "<b>%{hovertext}</b><br><br>Symbol=AAVAS<br>Unrealized P&L=%{x}<br>Unrealized P&L Pct.=%{y}<br>% profit=%{marker.size}<extra></extra>",
         "hovertext": [
          0.03
         ],
         "legendgroup": "AAVAS",
         "marker": {
          "color": "#636efa",
          "size": [
           0.03
          ],
          "sizemode": "area",
          "sizeref": 0.0006929999999999999,
          "symbol": "circle"
         },
         "mode": "markers",
         "name": "AAVAS",
         "orientation": "v",
         "showlegend": true,
         "type": "scatter",
         "x": [
          123.6
         ],
         "xaxis": "x",
         "y": [
          2.7376
         ],
         "yaxis": "y"
        },
        {
         "hovertemplate": "<b>%{hovertext}</b><br><br>Symbol=AFFLE<br>Unrealized P&L=%{x}<br>Unrealized P&L Pct.=%{y}<br>% profit=%{marker.size}<extra></extra>",
         "hovertext": [
          1.79
         ],
         "legendgroup": "AFFLE",
         "marker": {
          "color": "#EF553B",
          "size": [
           1.79
          ],
          "sizemode": "area",
          "sizeref": 0.0006929999999999999,
          "symbol": "circle"
         },
         "mode": "markers",
         "name": "AFFLE",
         "orientation": "v",
         "showlegend": true,
         "type": "scatter",
         "x": [
          6773.85
         ],
         "xaxis": "x",
         "y": [
          21.9678
         ],
         "yaxis": "y"
        },
        {
         "hovertemplate": "<b>%{hovertext}</b><br><br>Symbol=ALKEM<br>Unrealized P&L=%{x}<br>Unrealized P&L Pct.=%{y}<br>% profit=%{marker.size}<extra></extra>",
         "hovertext": [
          4.75
         ],
         "legendgroup": "ALKEM",
         "marker": {
          "color": "#00cc96",
          "size": [
           4.75
          ],
          "sizemode": "area",
          "sizeref": 0.0006929999999999999,
          "symbol": "circle"
         },
         "mode": "markers",
         "name": "ALKEM",
         "orientation": "v",
         "showlegend": true,
         "type": "scatter",
         "x": [
          17974.05
         ],
         "xaxis": "x",
         "y": [
          68.3421
         ],
         "yaxis": "y"
        },
        {
         "hovertemplate": "<b>%{hovertext}</b><br><br>Symbol=ASIANPAINT<br>Unrealized P&L=%{x}<br>Unrealized P&L Pct.=%{y}<br>% profit=%{marker.size}<extra></extra>",
         "hovertext": [
          0.68
         ],
         "legendgroup": "ASIANPAINT",
         "marker": {
          "color": "#ab63fa",
          "size": [
           0.68
          ],
          "sizemode": "area",
          "sizeref": 0.0006929999999999999,
          "symbol": "circle"
         },
         "mode": "markers",
         "name": "ASIANPAINT",
         "orientation": "v",
         "showlegend": true,
         "type": "scatter",
         "x": [
          2576.8
         ],
         "xaxis": "x",
         "y": [
          24.1301
         ],
         "yaxis": "y"
        },
        {
         "hovertemplate": "<b>%{hovertext}</b><br><br>Symbol=BAJAJFINSV<br>Unrealized P&L=%{x}<br>Unrealized P&L Pct.=%{y}<br>% profit=%{marker.size}<extra></extra>",
         "hovertext": [
          6.49
         ],
         "legendgroup": "BAJAJFINSV",
         "marker": {
          "color": "#FFA15A",
          "size": [
           6.49
          ],
          "sizemode": "area",
          "sizeref": 0.0006929999999999999,
          "symbol": "circle"
         },
         "mode": "markers",
         "name": "BAJAJFINSV",
         "orientation": "v",
         "showlegend": true,
         "type": "scatter",
         "x": [
          24559.25
         ],
         "xaxis": "x",
         "y": [
          84.1981
         ],
         "yaxis": "y"
        },
        {
         "hovertemplate": "<b>%{hovertext}</b><br><br>Symbol=BAJFINANCE<br>Unrealized P&L=%{x}<br>Unrealized P&L Pct.=%{y}<br>% profit=%{marker.size}<extra></extra>",
         "hovertext": [
          1.7
         ],
         "legendgroup": "BAJFINANCE",
         "marker": {
          "color": "#19d3f3",
          "size": [
           1.7
          ],
          "sizemode": "area",
          "sizeref": 0.0006929999999999999,
          "symbol": "circle"
         },
         "mode": "markers",
         "name": "BAJFINANCE",
         "orientation": "v",
         "showlegend": true,
         "type": "scatter",
         "x": [
          6437.55
         ],
         "xaxis": "x",
         "y": [
          74.8757
         ],
         "yaxis": "y"
        },
        {
         "hovertemplate": "<b>%{hovertext}</b><br><br>Symbol=BANKBEES<br>Unrealized P&L=%{x}<br>Unrealized P&L Pct.=%{y}<br>% profit=%{marker.size}<extra></extra>",
         "hovertext": [
          0.24
         ],
         "legendgroup": "BANKBEES",
         "marker": {
          "color": "#FF6692",
          "size": [
           0.24
          ],
          "sizemode": "area",
          "sizeref": 0.0006929999999999999,
          "symbol": "circle"
         },
         "mode": "markers",
         "name": "BANKBEES",
         "orientation": "v",
         "showlegend": true,
         "type": "scatter",
         "x": [
          897.17
         ],
         "xaxis": "x",
         "y": [
          11.3257
         ],
         "yaxis": "y"
        },
        {
         "hovertemplate": "<b>%{hovertext}</b><br><br>Symbol=BATAINDIA<br>Unrealized P&L=%{x}<br>Unrealized P&L Pct.=%{y}<br>% profit=%{marker.size}<extra></extra>",
         "hovertext": [
          0.57
         ],
         "legendgroup": "BATAINDIA",
         "marker": {
          "color": "#B6E880",
          "size": [
           0.57
          ],
          "sizemode": "area",
          "sizeref": 0.0006929999999999999,
          "symbol": "circle"
         },
         "mode": "markers",
         "name": "BATAINDIA",
         "orientation": "v",
         "showlegend": true,
         "type": "scatter",
         "x": [
          2172.8
         ],
         "xaxis": "x",
         "y": [
          19.752
         ],
         "yaxis": "y"
        },
        {
         "hovertemplate": "<b>%{hovertext}</b><br><br>Symbol=BHARTIARTL<br>Unrealized P&L=%{x}<br>Unrealized P&L Pct.=%{y}<br>% profit=%{marker.size}<extra></extra>",
         "hovertext": [
          1.94
         ],
         "legendgroup": "BHARTIARTL",
         "marker": {
          "color": "#FF97FF",
          "size": [
           1.94
          ],
          "sizemode": "area",
          "sizeref": 0.0006929999999999999,
          "symbol": "circle"
         },
         "mode": "markers",
         "name": "BHARTIARTL",
         "orientation": "v",
         "showlegend": true,
         "type": "scatter",
         "x": [
          7358.25
         ],
         "xaxis": "x",
         "y": [
          86.2657
         ],
         "yaxis": "y"
        },
        {
         "hovertemplate": "<b>%{hovertext}</b><br><br>Symbol=BPCL<br>Unrealized P&L=%{x}<br>Unrealized P&L Pct.=%{y}<br>% profit=%{marker.size}<extra></extra>",
         "hovertext": [
          0.27
         ],
         "legendgroup": "BPCL",
         "marker": {
          "color": "#FECB52",
          "size": [
           0.27
          ],
          "sizemode": "area",
          "sizeref": 0.0006929999999999999,
          "symbol": "circle"
         },
         "mode": "markers",
         "name": "BPCL",
         "orientation": "v",
         "showlegend": true,
         "type": "scatter",
         "x": [
          1005.85
         ],
         "xaxis": "x",
         "y": [
          5.3645
         ],
         "yaxis": "y"
        },
        {
         "hovertemplate": "<b>%{hovertext}</b><br><br>Symbol=COLPAL<br>Unrealized P&L=%{x}<br>Unrealized P&L Pct.=%{y}<br>% profit=%{marker.size}<extra></extra>",
         "hovertext": [
          3.63
         ],
         "legendgroup": "COLPAL",
         "marker": {
          "color": "#636efa",
          "size": [
           3.63
          ],
          "sizemode": "area",
          "sizeref": 0.0006929999999999999,
          "symbol": "circle"
         },
         "mode": "markers",
         "name": "COLPAL",
         "orientation": "v",
         "showlegend": true,
         "type": "scatter",
         "x": [
          13758.45
         ],
         "xaxis": "x",
         "y": [
          70.0135
         ],
         "yaxis": "y"
        },
        {
         "hovertemplate": "<b>%{hovertext}</b><br><br>Symbol=DEEPAKNTR<br>Unrealized P&L=%{x}<br>Unrealized P&L Pct.=%{y}<br>% profit=%{marker.size}<extra></extra>",
         "hovertext": [
          5.17
         ],
         "legendgroup": "DEEPAKNTR",
         "marker": {
          "color": "#EF553B",
          "size": [
           5.17
          ],
          "sizemode": "area",
          "sizeref": 0.0006929999999999999,
          "symbol": "circle"
         },
         "mode": "markers",
         "name": "DEEPAKNTR",
         "orientation": "v",
         "showlegend": true,
         "type": "scatter",
         "x": [
          19575.95
         ],
         "xaxis": "x",
         "y": [
          51.3969
         ],
         "yaxis": "y"
        },
        {
         "hovertemplate": "<b>%{hovertext}</b><br><br>Symbol=DMART<br>Unrealized P&L=%{x}<br>Unrealized P&L Pct.=%{y}<br>% profit=%{marker.size}<extra></extra>",
         "hovertext": [
          0.18
         ],
         "legendgroup": "DMART",
         "marker": {
          "color": "#00cc96",
          "size": [
           0.18
          ],
          "sizemode": "area",
          "sizeref": 0.0006929999999999999,
          "symbol": "circle"
         },
         "mode": "markers",
         "name": "DMART",
         "orientation": "v",
         "showlegend": true,
         "type": "scatter",
         "x": [
          692.65
         ],
         "xaxis": "x",
         "y": [
          6.0524
         ],
         "yaxis": "y"
        },
        {
         "hovertemplate": "<b>%{hovertext}</b><br><br>Symbol=EIHOTEL<br>Unrealized P&L=%{x}<br>Unrealized P&L Pct.=%{y}<br>% profit=%{marker.size}<extra></extra>",
         "hovertext": [
          2.71
         ],
         "legendgroup": "EIHOTEL",
         "marker": {
          "color": "#ab63fa",
          "size": [
           2.71
          ],
          "sizemode": "area",
          "sizeref": 0.0006929999999999999,
          "symbol": "circle"
         },
         "mode": "markers",
         "name": "EIHOTEL",
         "orientation": "v",
         "showlegend": true,
         "type": "scatter",
         "x": [
          10265.35
         ],
         "xaxis": "x",
         "y": [
          222.995
         ],
         "yaxis": "y"
        },
        {
         "hovertemplate": "<b>%{hovertext}</b><br><br>Symbol=ESCORTS<br>Unrealized P&L=%{x}<br>Unrealized P&L Pct.=%{y}<br>% profit=%{marker.size}<extra></extra>",
         "hovertext": [
          4.52
         ],
         "legendgroup": "ESCORTS",
         "marker": {
          "color": "#FFA15A",
          "size": [
           4.52
          ],
          "sizemode": "area",
          "sizeref": 0.0006929999999999999,
          "symbol": "circle"
         },
         "mode": "markers",
         "name": "ESCORTS",
         "orientation": "v",
         "showlegend": true,
         "type": "scatter",
         "x": [
          17116.3
         ],
         "xaxis": "x",
         "y": [
          154.8216
         ],
         "yaxis": "y"
        },
        {
         "hovertemplate": "<b>%{hovertext}</b><br><br>Symbol=GMMPFAUDLR<br>Unrealized P&L=%{x}<br>Unrealized P&L Pct.=%{y}<br>% profit=%{marker.size}<extra></extra>",
         "hovertext": [
          0.75
         ],
         "legendgroup": "GMMPFAUDLR",
         "marker": {
          "color": "#19d3f3",
          "size": [
           0.75
          ],
          "sizemode": "area",
          "sizeref": 0.0006929999999999999,
          "symbol": "circle"
         },
         "mode": "markers",
         "name": "GMMPFAUDLR",
         "orientation": "v",
         "showlegend": true,
         "type": "scatter",
         "x": [
          2857.45
         ],
         "xaxis": "x",
         "y": [
          14.1833
         ],
         "yaxis": "y"
        },
        {
         "hovertemplate": "<b>%{hovertext}</b><br><br>Symbol=GODREJPROP<br>Unrealized P&L=%{x}<br>Unrealized P&L Pct.=%{y}<br>% profit=%{marker.size}<extra></extra>",
         "hovertext": [
          1.15
         ],
         "legendgroup": "GODREJPROP",
         "marker": {
          "color": "#FF6692",
          "size": [
           1.15
          ],
          "sizemode": "area",
          "sizeref": 0.0006929999999999999,
          "symbol": "circle"
         },
         "mode": "markers",
         "name": "GODREJPROP",
         "orientation": "v",
         "showlegend": true,
         "type": "scatter",
         "x": [
          4347.05
         ],
         "xaxis": "x",
         "y": [
          26.8636
         ],
         "yaxis": "y"
        },
        {
         "hovertemplate": "<b>%{hovertext}</b><br><br>Symbol=HAVELLS<br>Unrealized P&L=%{x}<br>Unrealized P&L Pct.=%{y}<br>% profit=%{marker.size}<extra></extra>",
         "hovertext": [
          0.65
         ],
         "legendgroup": "HAVELLS",
         "marker": {
          "color": "#B6E880",
          "size": [
           0.65
          ],
          "sizemode": "area",
          "sizeref": 0.0006929999999999999,
          "symbol": "circle"
         },
         "mode": "markers",
         "name": "HAVELLS",
         "orientation": "v",
         "showlegend": true,
         "type": "scatter",
         "x": [
          2472.95
         ],
         "xaxis": "x",
         "y": [
          22.79
         ],
         "yaxis": "y"
        },
        {
         "hovertemplate": "<b>%{hovertext}</b><br><br>Symbol=HCLTECH<br>Unrealized P&L=%{x}<br>Unrealized P&L Pct.=%{y}<br>% profit=%{marker.size}<extra></extra>",
         "hovertext": [
          3.08
         ],
         "legendgroup": "HCLTECH",
         "marker": {
          "color": "#FF97FF",
          "size": [
           3.08
          ],
          "sizemode": "area",
          "sizeref": 0.0006929999999999999,
          "symbol": "circle"
         },
         "mode": "markers",
         "name": "HCLTECH",
         "orientation": "v",
         "showlegend": true,
         "type": "scatter",
         "x": [
          11663.75
         ],
         "xaxis": "x",
         "y": [
          40.7381
         ],
         "yaxis": "y"
        },
        {
         "hovertemplate": "<b>%{hovertext}</b><br><br>Symbol=HDFCAMC<br>Unrealized P&L=%{x}<br>Unrealized P&L Pct.=%{y}<br>% profit=%{marker.size}<extra></extra>",
         "hovertext": [
          1.77
         ],
         "legendgroup": "HDFCAMC",
         "marker": {
          "color": "#FECB52",
          "size": [
           1.77
          ],
          "sizemode": "area",
          "sizeref": 0.0006929999999999999,
          "symbol": "circle"
         },
         "mode": "markers",
         "name": "HDFCAMC",
         "orientation": "v",
         "showlegend": true,
         "type": "scatter",
         "x": [
          6715.85
         ],
         "xaxis": "x",
         "y": [
          22.7036
         ],
         "yaxis": "y"
        },
        {
         "hovertemplate": "<b>%{hovertext}</b><br><br>Symbol=HDFCBANK<br>Unrealized P&L=%{x}<br>Unrealized P&L Pct.=%{y}<br>% profit=%{marker.size}<extra></extra>",
         "hovertext": [
          2.08
         ],
         "legendgroup": "HDFCBANK",
         "marker": {
          "color": "#636efa",
          "size": [
           2.08
          ],
          "sizemode": "area",
          "sizeref": 0.0006929999999999999,
          "symbol": "circle"
         },
         "mode": "markers",
         "name": "HDFCBANK",
         "orientation": "v",
         "showlegend": true,
         "type": "scatter",
         "x": [
          7857.457
         ],
         "xaxis": "x",
         "y": [
          12.3985
         ],
         "yaxis": "y"
        },
        {
         "hovertemplate": "<b>%{hovertext}</b><br><br>Symbol=HDFCLIFE<br>Unrealized P&L=%{x}<br>Unrealized P&L Pct.=%{y}<br>% profit=%{marker.size}<extra></extra>",
         "hovertext": [
          1.02
         ],
         "legendgroup": "HDFCLIFE",
         "marker": {
          "color": "#EF553B",
          "size": [
           1.02
          ],
          "sizemode": "area",
          "sizeref": 0.0006929999999999999,
          "symbol": "circle"
         },
         "mode": "markers",
         "name": "HDFCLIFE",
         "orientation": "v",
         "showlegend": true,
         "type": "scatter",
         "x": [
          3854.4
         ],
         "xaxis": "x",
         "y": [
          10.7489
         ],
         "yaxis": "y"
        },
        {
         "hovertemplate": "<b>%{hovertext}</b><br><br>Symbol=HINDUNILVR<br>Unrealized P&L=%{x}<br>Unrealized P&L Pct.=%{y}<br>% profit=%{marker.size}<extra></extra>",
         "hovertext": [
          1.96
         ],
         "legendgroup": "HINDUNILVR",
         "marker": {
          "color": "#00cc96",
          "size": [
           1.96
          ],
          "sizemode": "area",
          "sizeref": 0.0006929999999999999,
          "symbol": "circle"
         },
         "mode": "markers",
         "name": "HINDUNILVR",
         "orientation": "v",
         "showlegend": true,
         "type": "scatter",
         "x": [
          7430.5
         ],
         "xaxis": "x",
         "y": [
          14.6852
         ],
         "yaxis": "y"
        },
        {
         "hovertemplate": "<b>%{hovertext}</b><br><br>Symbol=ICICIBANK<br>Unrealized P&L=%{x}<br>Unrealized P&L Pct.=%{y}<br>% profit=%{marker.size}<extra></extra>",
         "hovertext": [
          4.19
         ],
         "legendgroup": "ICICIBANK",
         "marker": {
          "color": "#ab63fa",
          "size": [
           4.19
          ],
          "sizemode": "area",
          "sizeref": 0.0006929999999999999,
          "symbol": "circle"
         },
         "mode": "markers",
         "name": "ICICIBANK",
         "orientation": "v",
         "showlegend": true,
         "type": "scatter",
         "x": [
          15863.25
         ],
         "xaxis": "x",
         "y": [
          42.8226
         ],
         "yaxis": "y"
        },
        {
         "hovertemplate": "<b>%{hovertext}</b><br><br>Symbol=INFY<br>Unrealized P&L=%{x}<br>Unrealized P&L Pct.=%{y}<br>% profit=%{marker.size}<extra></extra>",
         "hovertext": [
          6.93
         ],
         "legendgroup": "INFY",
         "marker": {
          "color": "#FFA15A",
          "size": [
           6.93
          ],
          "sizemode": "area",
          "sizeref": 0.0006929999999999999,
          "symbol": "circle"
         },
         "mode": "markers",
         "name": "INFY",
         "orientation": "v",
         "showlegend": true,
         "type": "scatter",
         "x": [
          26227.5
         ],
         "xaxis": "x",
         "y": [
          35.0427
         ],
         "yaxis": "y"
        },
        {
         "hovertemplate": "<b>%{hovertext}</b><br><br>Symbol=IRFC<br>Unrealized P&L=%{x}<br>Unrealized P&L Pct.=%{y}<br>% profit=%{marker.size}<extra></extra>",
         "hovertext": [
          0.19
         ],
         "legendgroup": "IRFC",
         "marker": {
          "color": "#19d3f3",
          "size": [
           0.19
          ],
          "sizemode": "area",
          "sizeref": 0.0006929999999999999,
          "symbol": "circle"
         },
         "mode": "markers",
         "name": "IRFC",
         "orientation": "v",
         "showlegend": true,
         "type": "scatter",
         "x": [
          709.25
         ],
         "xaxis": "x",
         "y": [
          13.0227
         ],
         "yaxis": "y"
        },
        {
         "hovertemplate": "<b>%{hovertext}</b><br><br>Symbol=ITBEES<br>Unrealized P&L=%{x}<br>Unrealized P&L Pct.=%{y}<br>% profit=%{marker.size}<extra></extra>",
         "hovertext": [
          2.12
         ],
         "legendgroup": "ITBEES",
         "marker": {
          "color": "#FF6692",
          "size": [
           2.12
          ],
          "sizemode": "area",
          "sizeref": 0.0006929999999999999,
          "symbol": "circle"
         },
         "mode": "markers",
         "name": "ITBEES",
         "orientation": "v",
         "showlegend": true,
         "type": "scatter",
         "x": [
          8023.31
         ],
         "xaxis": "x",
         "y": [
          19.4581
         ],
         "yaxis": "y"
        },
        {
         "hovertemplate": "<b>%{hovertext}</b><br><br>Symbol=ITC<br>Unrealized P&L=%{x}<br>Unrealized P&L Pct.=%{y}<br>% profit=%{marker.size}<extra></extra>",
         "hovertext": [
          1.6
         ],
         "legendgroup": "ITC",
         "marker": {
          "color": "#B6E880",
          "size": [
           1.6
          ],
          "sizemode": "area",
          "sizeref": 0.0006929999999999999,
          "symbol": "circle"
         },
         "mode": "markers",
         "name": "ITC",
         "orientation": "v",
         "showlegend": true,
         "type": "scatter",
         "x": [
          6059.5
         ],
         "xaxis": "x",
         "y": [
          112.2545
         ],
         "yaxis": "y"
        },
        {
         "hovertemplate": "<b>%{hovertext}</b><br><br>Symbol=JIOFIN<br>Unrealized P&L=%{x}<br>Unrealized P&L Pct.=%{y}<br>% profit=%{marker.size}<extra></extra>",
         "hovertext": [
          0.5
         ],
         "legendgroup": "JIOFIN",
         "marker": {
          "color": "#FF97FF",
          "size": [
           0.5
          ],
          "sizemode": "area",
          "sizeref": 0.0006929999999999999,
          "symbol": "circle"
         },
         "mode": "markers",
         "name": "JIOFIN",
         "orientation": "v",
         "showlegend": true,
         "type": "scatter",
         "x": [
          1896.4481
         ],
         "xaxis": "x",
         "y": [
          132.4287
         ],
         "yaxis": "y"
        },
        {
         "hovertemplate": "<b>%{hovertext}</b><br><br>Symbol=KOTAKBANK<br>Unrealized P&L=%{x}<br>Unrealized P&L Pct.=%{y}<br>% profit=%{marker.size}<extra></extra>",
         "hovertext": [
          0.45
         ],
         "legendgroup": "KOTAKBANK",
         "marker": {
          "color": "#FECB52",
          "size": [
           0.45
          ],
          "sizemode": "area",
          "sizeref": 0.0006929999999999999,
          "symbol": "circle"
         },
         "mode": "markers",
         "name": "KOTAKBANK",
         "orientation": "v",
         "showlegend": true,
         "type": "scatter",
         "x": [
          1721.35
         ],
         "xaxis": "x",
         "y": [
          6.1723
         ],
         "yaxis": "y"
        },
        {
         "hovertemplate": "<b>%{hovertext}</b><br><br>Symbol=LANDMARK<br>Unrealized P&L=%{x}<br>Unrealized P&L Pct.=%{y}<br>% profit=%{marker.size}<extra></extra>",
         "hovertext": [
          0
         ],
         "legendgroup": "LANDMARK",
         "marker": {
          "color": "#636efa",
          "size": [
           0
          ],
          "sizemode": "area",
          "sizeref": 0.0006929999999999999,
          "symbol": "circle"
         },
         "mode": "markers",
         "name": "LANDMARK",
         "orientation": "v",
         "showlegend": true,
         "type": "scatter",
         "x": [
          2.65
         ],
         "xaxis": "x",
         "y": [
          0.0835
         ],
         "yaxis": "y"
        },
        {
         "hovertemplate": "<b>%{hovertext}</b><br><br>Symbol=LATENTVIEW<br>Unrealized P&L=%{x}<br>Unrealized P&L Pct.=%{y}<br>% profit=%{marker.size}<extra></extra>",
         "hovertext": [
          0.2
         ],
         "legendgroup": "LATENTVIEW",
         "marker": {
          "color": "#EF553B",
          "size": [
           0.2
          ],
          "sizemode": "area",
          "sizeref": 0.0006929999999999999,
          "symbol": "circle"
         },
         "mode": "markers",
         "name": "LATENTVIEW",
         "orientation": "v",
         "showlegend": true,
         "type": "scatter",
         "x": [
          756.65
         ],
         "xaxis": "x",
         "y": [
          3.2698
         ],
         "yaxis": "y"
        },
        {
         "hovertemplate": "<b>%{hovertext}</b><br><br>Symbol=LICI<br>Unrealized P&L=%{x}<br>Unrealized P&L Pct.=%{y}<br>% profit=%{marker.size}<extra></extra>",
         "hovertext": [
          0.27
         ],
         "legendgroup": "LICI",
         "marker": {
          "color": "#00cc96",
          "size": [
           0.27
          ],
          "sizemode": "area",
          "sizeref": 0.0006929999999999999,
          "symbol": "circle"
         },
         "mode": "markers",
         "name": "LICI",
         "orientation": "v",
         "showlegend": true,
         "type": "scatter",
         "x": [
          1015.15
         ],
         "xaxis": "x",
         "y": [
          3.568
         ],
         "yaxis": "y"
        },
        {
         "hovertemplate": "<b>%{hovertext}</b><br><br>Symbol=MARUTI<br>Unrealized P&L=%{x}<br>Unrealized P&L Pct.=%{y}<br>% profit=%{marker.size}<extra></extra>",
         "hovertext": [
          1.84
         ],
         "legendgroup": "MARUTI",
         "marker": {
          "color": "#ab63fa",
          "size": [
           1.84
          ],
          "sizemode": "area",
          "sizeref": 0.0006929999999999999,
          "symbol": "circle"
         },
         "mode": "markers",
         "name": "MARUTI",
         "orientation": "v",
         "showlegend": true,
         "type": "scatter",
         "x": [
          6966
         ],
         "xaxis": "x",
         "y": [
          51.1931
         ],
         "yaxis": "y"
        },
        {
         "hovertemplate": "<b>%{hovertext}</b><br><br>Symbol=MTARTECH<br>Unrealized P&L=%{x}<br>Unrealized P&L Pct.=%{y}<br>% profit=%{marker.size}<extra></extra>",
         "hovertext": [
          4.19
         ],
         "legendgroup": "MTARTECH",
         "marker": {
          "color": "#FFA15A",
          "size": [
           4.19
          ],
          "sizemode": "area",
          "sizeref": 0.0006929999999999999,
          "symbol": "circle"
         },
         "mode": "markers",
         "name": "MTARTECH",
         "orientation": "v",
         "showlegend": true,
         "type": "scatter",
         "x": [
          15855.35
         ],
         "xaxis": "x",
         "y": [
          47.3209
         ],
         "yaxis": "y"
        },
        {
         "hovertemplate": "<b>%{hovertext}</b><br><br>Symbol=NIFTYBEES<br>Unrealized P&L=%{x}<br>Unrealized P&L Pct.=%{y}<br>% profit=%{marker.size}<extra></extra>",
         "hovertext": [
          4.31
         ],
         "legendgroup": "NIFTYBEES",
         "marker": {
          "color": "#19d3f3",
          "size": [
           4.31
          ],
          "sizemode": "area",
          "sizeref": 0.0006929999999999999,
          "symbol": "circle"
         },
         "mode": "markers",
         "name": "NIFTYBEES",
         "orientation": "v",
         "showlegend": true,
         "type": "scatter",
         "x": [
          16303.09
         ],
         "xaxis": "x",
         "y": [
          25.3934
         ],
         "yaxis": "y"
        },
        {
         "hovertemplate": "<b>%{hovertext}</b><br><br>Symbol=ONGC<br>Unrealized P&L=%{x}<br>Unrealized P&L Pct.=%{y}<br>% profit=%{marker.size}<extra></extra>",
         "hovertext": [
          2.15
         ],
         "legendgroup": "ONGC",
         "marker": {
          "color": "#FF6692",
          "size": [
           2.15
          ],
          "sizemode": "area",
          "sizeref": 0.0006929999999999999,
          "symbol": "circle"
         },
         "mode": "markers",
         "name": "ONGC",
         "orientation": "v",
         "showlegend": true,
         "type": "scatter",
         "x": [
          8133.5
         ],
         "xaxis": "x",
         "y": [
          62.6775
         ],
         "yaxis": "y"
        },
        {
         "hovertemplate": "<b>%{hovertext}</b><br><br>Symbol=PIDILITIND<br>Unrealized P&L=%{x}<br>Unrealized P&L Pct.=%{y}<br>% profit=%{marker.size}<extra></extra>",
         "hovertext": [
          0.63
         ],
         "legendgroup": "PIDILITIND",
         "marker": {
          "color": "#B6E880",
          "size": [
           0.63
          ],
          "sizemode": "area",
          "sizeref": 0.0006929999999999999,
          "symbol": "circle"
         },
         "mode": "markers",
         "name": "PIDILITIND",
         "orientation": "v",
         "showlegend": true,
         "type": "scatter",
         "x": [
          2376.2
         ],
         "xaxis": "x",
         "y": [
          12.6178
         ],
         "yaxis": "y"
        },
        {
         "hovertemplate": "<b>%{hovertext}</b><br><br>Symbol=PRAJIND<br>Unrealized P&L=%{x}<br>Unrealized P&L Pct.=%{y}<br>% profit=%{marker.size}<extra></extra>",
         "hovertext": [
          0.23
         ],
         "legendgroup": "PRAJIND",
         "marker": {
          "color": "#FF97FF",
          "size": [
           0.23
          ],
          "sizemode": "area",
          "sizeref": 0.0006929999999999999,
          "symbol": "circle"
         },
         "mode": "markers",
         "name": "PRAJIND",
         "orientation": "v",
         "showlegend": true,
         "type": "scatter",
         "x": [
          856.9
         ],
         "xaxis": "x",
         "y": [
          12.7106
         ],
         "yaxis": "y"
        },
        {
         "hovertemplate": "<b>%{hovertext}</b><br><br>Symbol=PRITIKAUTO<br>Unrealized P&L=%{x}<br>Unrealized P&L Pct.=%{y}<br>% profit=%{marker.size}<extra></extra>",
         "hovertext": [
          0.92
         ],
         "legendgroup": "PRITIKAUTO",
         "marker": {
          "color": "#FECB52",
          "size": [
           0.92
          ],
          "sizemode": "area",
          "sizeref": 0.0006929999999999999,
          "symbol": "circle"
         },
         "mode": "markers",
         "name": "PRITIKAUTO",
         "orientation": "v",
         "showlegend": true,
         "type": "scatter",
         "x": [
          3465
         ],
         "xaxis": "x",
         "y": [
          53.1034
         ],
         "yaxis": "y"
        },
        {
         "hovertemplate": "<b>%{hovertext}</b><br><br>Symbol=PSUBNKBEES<br>Unrealized P&L=%{x}<br>Unrealized P&L Pct.=%{y}<br>% profit=%{marker.size}<extra></extra>",
         "hovertext": [
          0.75
         ],
         "legendgroup": "PSUBNKBEES",
         "marker": {
          "color": "#636efa",
          "size": [
           0.75
          ],
          "sizemode": "area",
          "sizeref": 0.0006929999999999999,
          "symbol": "circle"
         },
         "mode": "markers",
         "name": "PSUBNKBEES",
         "orientation": "v",
         "showlegend": true,
         "type": "scatter",
         "x": [
          2824.74
         ],
         "xaxis": "x",
         "y": [
          27.361
         ],
         "yaxis": "y"
        },
        {
         "hovertemplate": "<b>%{hovertext}</b><br><br>Symbol=RELIANCE<br>Unrealized P&L=%{x}<br>Unrealized P&L Pct.=%{y}<br>% profit=%{marker.size}<extra></extra>",
         "hovertext": [
          1.57
         ],
         "legendgroup": "RELIANCE",
         "marker": {
          "color": "#EF553B",
          "size": [
           1.57
          ],
          "sizemode": "area",
          "sizeref": 0.0006929999999999999,
          "symbol": "circle"
         },
         "mode": "markers",
         "name": "RELIANCE",
         "orientation": "v",
         "showlegend": true,
         "type": "scatter",
         "x": [
          5951.8519
         ],
         "xaxis": "x",
         "y": [
          18.9055
         ],
         "yaxis": "y"
        },
        {
         "hovertemplate": "<b>%{hovertext}</b><br><br>Symbol=SBILIFE<br>Unrealized P&L=%{x}<br>Unrealized P&L Pct.=%{y}<br>% profit=%{marker.size}<extra></extra>",
         "hovertext": [
          4.97
         ],
         "legendgroup": "SBILIFE",
         "marker": {
          "color": "#00cc96",
          "size": [
           4.97
          ],
          "sizemode": "area",
          "sizeref": 0.0006929999999999999,
          "symbol": "circle"
         },
         "mode": "markers",
         "name": "SBILIFE",
         "orientation": "v",
         "showlegend": true,
         "type": "scatter",
         "x": [
          18832.75
         ],
         "xaxis": "x",
         "y": [
          58.8404
         ],
         "yaxis": "y"
        },
        {
         "hovertemplate": "<b>%{hovertext}</b><br><br>Symbol=SGBMAY29I-GB<br>Unrealized P&L=%{x}<br>Unrealized P&L Pct.=%{y}<br>% profit=%{marker.size}<extra></extra>",
         "hovertext": [
          2.54
         ],
         "legendgroup": "SGBMAY29I-GB",
         "marker": {
          "color": "#ab63fa",
          "size": [
           2.54
          ],
          "sizemode": "area",
          "sizeref": 0.0006929999999999999,
          "symbol": "circle"
         },
         "mode": "markers",
         "name": "SGBMAY29I-GB",
         "orientation": "v",
         "showlegend": true,
         "type": "scatter",
         "x": [
          9612.47
         ],
         "xaxis": "x",
         "y": [
          29.0503
         ],
         "yaxis": "y"
        },
        {
         "hovertemplate": "<b>%{hovertext}</b><br><br>Symbol=SONACOMS<br>Unrealized P&L=%{x}<br>Unrealized P&L Pct.=%{y}<br>% profit=%{marker.size}<extra></extra>",
         "hovertext": [
          3.64
         ],
         "legendgroup": "SONACOMS",
         "marker": {
          "color": "#FFA15A",
          "size": [
           3.64
          ],
          "sizemode": "area",
          "sizeref": 0.0006929999999999999,
          "symbol": "circle"
         },
         "mode": "markers",
         "name": "SONACOMS",
         "orientation": "v",
         "showlegend": true,
         "type": "scatter",
         "x": [
          13767.95
         ],
         "xaxis": "x",
         "y": [
          28.5765
         ],
         "yaxis": "y"
        },
        {
         "hovertemplate": "<b>%{hovertext}</b><br><br>Symbol=SRF<br>Unrealized P&L=%{x}<br>Unrealized P&L Pct.=%{y}<br>% profit=%{marker.size}<extra></extra>",
         "hovertext": [
          0.1
         ],
         "legendgroup": "SRF",
         "marker": {
          "color": "#19d3f3",
          "size": [
           0.1
          ],
          "sizemode": "area",
          "sizeref": 0.0006929999999999999,
          "symbol": "circle"
         },
         "mode": "markers",
         "name": "SRF",
         "orientation": "v",
         "showlegend": true,
         "type": "scatter",
         "x": [
          377
         ],
         "xaxis": "x",
         "y": [
          2.6435
         ],
         "yaxis": "y"
        },
        {
         "hovertemplate": "<b>%{hovertext}</b><br><br>Symbol=SUNPHARMA<br>Unrealized P&L=%{x}<br>Unrealized P&L Pct.=%{y}<br>% profit=%{marker.size}<extra></extra>",
         "hovertext": [
          1.72
         ],
         "legendgroup": "SUNPHARMA",
         "marker": {
          "color": "#FF6692",
          "size": [
           1.72
          ],
          "sizemode": "area",
          "sizeref": 0.0006929999999999999,
          "symbol": "circle"
         },
         "mode": "markers",
         "name": "SUNPHARMA",
         "orientation": "v",
         "showlegend": true,
         "type": "scatter",
         "x": [
          6503.85
         ],
         "xaxis": "x",
         "y": [
          54.009
         ],
         "yaxis": "y"
        },
        {
         "hovertemplate": "<b>%{hovertext}</b><br><br>Symbol=TATACHEM<br>Unrealized P&L=%{x}<br>Unrealized P&L Pct.=%{y}<br>% profit=%{marker.size}<extra></extra>",
         "hovertext": [
          1.58
         ],
         "legendgroup": "TATACHEM",
         "marker": {
          "color": "#B6E880",
          "size": [
           1.58
          ],
          "sizemode": "area",
          "sizeref": 0.0006929999999999999,
          "symbol": "circle"
         },
         "mode": "markers",
         "name": "TATACHEM",
         "orientation": "v",
         "showlegend": true,
         "type": "scatter",
         "x": [
          5972.1
         ],
         "xaxis": "x",
         "y": [
          26.1109
         ],
         "yaxis": "y"
        },
        {
         "hovertemplate": "<b>%{hovertext}</b><br><br>Symbol=TATACONSUM<br>Unrealized P&L=%{x}<br>Unrealized P&L Pct.=%{y}<br>% profit=%{marker.size}<extra></extra>",
         "hovertext": [
          1.26
         ],
         "legendgroup": "TATACONSUM",
         "marker": {
          "color": "#FF97FF",
          "size": [
           1.26
          ],
          "sizemode": "area",
          "sizeref": 0.0006929999999999999,
          "symbol": "circle"
         },
         "mode": "markers",
         "name": "TATACONSUM",
         "orientation": "v",
         "showlegend": true,
         "type": "scatter",
         "x": [
          4758.55
         ],
         "xaxis": "x",
         "y": [
          24.9022
         ],
         "yaxis": "y"
        },
        {
         "hovertemplate": "<b>%{hovertext}</b><br><br>Symbol=UNIONBANK<br>Unrealized P&L=%{x}<br>Unrealized P&L Pct.=%{y}<br>% profit=%{marker.size}<extra></extra>",
         "hovertext": [
          0.76
         ],
         "legendgroup": "UNIONBANK",
         "marker": {
          "color": "#FECB52",
          "size": [
           0.76
          ],
          "sizemode": "area",
          "sizeref": 0.0006929999999999999,
          "symbol": "circle"
         },
         "mode": "markers",
         "name": "UNIONBANK",
         "orientation": "v",
         "showlegend": true,
         "type": "scatter",
         "x": [
          2890.5
         ],
         "xaxis": "x",
         "y": [
          47.4592
         ],
         "yaxis": "y"
        },
        {
         "hovertemplate": "<b>%{hovertext}</b><br><br>Symbol=VOLTAS<br>Unrealized P&L=%{x}<br>Unrealized P&L Pct.=%{y}<br>% profit=%{marker.size}<extra></extra>",
         "hovertext": [
          0.04
         ],
         "legendgroup": "VOLTAS",
         "marker": {
          "color": "#636efa",
          "size": [
           0.04
          ],
          "sizemode": "area",
          "sizeref": 0.0006929999999999999,
          "symbol": "circle"
         },
         "mode": "markers",
         "name": "VOLTAS",
         "orientation": "v",
         "showlegend": true,
         "type": "scatter",
         "x": [
          143
         ],
         "xaxis": "x",
         "y": [
          1.69
         ],
         "yaxis": "y"
        },
        {
         "hovertemplate": "<b>%{hovertext}</b><br><br>Symbol=ZOMATO<br>Unrealized P&L=%{x}<br>Unrealized P&L Pct.=%{y}<br>% profit=%{marker.size}<extra></extra>",
         "hovertext": [
          0.74
         ],
         "legendgroup": "ZOMATO",
         "marker": {
          "color": "#EF553B",
          "size": [
           0.74
          ],
          "sizemode": "area",
          "sizeref": 0.0006929999999999999,
          "symbol": "circle"
         },
         "mode": "markers",
         "name": "ZOMATO",
         "orientation": "v",
         "showlegend": true,
         "type": "scatter",
         "x": [
          2818.9
         ],
         "xaxis": "x",
         "y": [
          32.0177
         ],
         "yaxis": "y"
        },
        {
         "hovertemplate": "<b>%{hovertext}</b><br><br>Symbol=ZYDUSLIFE<br>Unrealized P&L=%{x}<br>Unrealized P&L Pct.=%{y}<br>% profit=%{marker.size}<extra></extra>",
         "hovertext": [
          2.49
         ],
         "legendgroup": "ZYDUSLIFE",
         "marker": {
          "color": "#00cc96",
          "size": [
           2.49
          ],
          "sizemode": "area",
          "sizeref": 0.0006929999999999999,
          "symbol": "circle"
         },
         "mode": "markers",
         "name": "ZYDUSLIFE",
         "orientation": "v",
         "showlegend": true,
         "type": "scatter",
         "x": [
          9412.7
         ],
         "xaxis": "x",
         "y": [
          36.0249
         ],
         "yaxis": "y"
        }
       ],
       "layout": {
        "legend": {
         "itemsizing": "constant",
         "title": {
          "text": "Symbol"
         },
         "tracegroupgap": 0
        },
        "margin": {
         "t": 60
        },
        "template": {
         "data": {
          "bar": [
           {
            "error_x": {
             "color": "#2a3f5f"
            },
            "error_y": {
             "color": "#2a3f5f"
            },
            "marker": {
             "line": {
              "color": "#E5ECF6",
              "width": 0.5
             },
             "pattern": {
              "fillmode": "overlay",
              "size": 10,
              "solidity": 0.2
             }
            },
            "type": "bar"
           }
          ],
          "barpolar": [
           {
            "marker": {
             "line": {
              "color": "#E5ECF6",
              "width": 0.5
             },
             "pattern": {
              "fillmode": "overlay",
              "size": 10,
              "solidity": 0.2
             }
            },
            "type": "barpolar"
           }
          ],
          "carpet": [
           {
            "aaxis": {
             "endlinecolor": "#2a3f5f",
             "gridcolor": "white",
             "linecolor": "white",
             "minorgridcolor": "white",
             "startlinecolor": "#2a3f5f"
            },
            "baxis": {
             "endlinecolor": "#2a3f5f",
             "gridcolor": "white",
             "linecolor": "white",
             "minorgridcolor": "white",
             "startlinecolor": "#2a3f5f"
            },
            "type": "carpet"
           }
          ],
          "choropleth": [
           {
            "colorbar": {
             "outlinewidth": 0,
             "ticks": ""
            },
            "type": "choropleth"
           }
          ],
          "contour": [
           {
            "colorbar": {
             "outlinewidth": 0,
             "ticks": ""
            },
            "colorscale": [
             [
              0,
              "#0d0887"
             ],
             [
              0.1111111111111111,
              "#46039f"
             ],
             [
              0.2222222222222222,
              "#7201a8"
             ],
             [
              0.3333333333333333,
              "#9c179e"
             ],
             [
              0.4444444444444444,
              "#bd3786"
             ],
             [
              0.5555555555555556,
              "#d8576b"
             ],
             [
              0.6666666666666666,
              "#ed7953"
             ],
             [
              0.7777777777777778,
              "#fb9f3a"
             ],
             [
              0.8888888888888888,
              "#fdca26"
             ],
             [
              1,
              "#f0f921"
             ]
            ],
            "type": "contour"
           }
          ],
          "contourcarpet": [
           {
            "colorbar": {
             "outlinewidth": 0,
             "ticks": ""
            },
            "type": "contourcarpet"
           }
          ],
          "heatmap": [
           {
            "colorbar": {
             "outlinewidth": 0,
             "ticks": ""
            },
            "colorscale": [
             [
              0,
              "#0d0887"
             ],
             [
              0.1111111111111111,
              "#46039f"
             ],
             [
              0.2222222222222222,
              "#7201a8"
             ],
             [
              0.3333333333333333,
              "#9c179e"
             ],
             [
              0.4444444444444444,
              "#bd3786"
             ],
             [
              0.5555555555555556,
              "#d8576b"
             ],
             [
              0.6666666666666666,
              "#ed7953"
             ],
             [
              0.7777777777777778,
              "#fb9f3a"
             ],
             [
              0.8888888888888888,
              "#fdca26"
             ],
             [
              1,
              "#f0f921"
             ]
            ],
            "type": "heatmap"
           }
          ],
          "heatmapgl": [
           {
            "colorbar": {
             "outlinewidth": 0,
             "ticks": ""
            },
            "colorscale": [
             [
              0,
              "#0d0887"
             ],
             [
              0.1111111111111111,
              "#46039f"
             ],
             [
              0.2222222222222222,
              "#7201a8"
             ],
             [
              0.3333333333333333,
              "#9c179e"
             ],
             [
              0.4444444444444444,
              "#bd3786"
             ],
             [
              0.5555555555555556,
              "#d8576b"
             ],
             [
              0.6666666666666666,
              "#ed7953"
             ],
             [
              0.7777777777777778,
              "#fb9f3a"
             ],
             [
              0.8888888888888888,
              "#fdca26"
             ],
             [
              1,
              "#f0f921"
             ]
            ],
            "type": "heatmapgl"
           }
          ],
          "histogram": [
           {
            "marker": {
             "pattern": {
              "fillmode": "overlay",
              "size": 10,
              "solidity": 0.2
             }
            },
            "type": "histogram"
           }
          ],
          "histogram2d": [
           {
            "colorbar": {
             "outlinewidth": 0,
             "ticks": ""
            },
            "colorscale": [
             [
              0,
              "#0d0887"
             ],
             [
              0.1111111111111111,
              "#46039f"
             ],
             [
              0.2222222222222222,
              "#7201a8"
             ],
             [
              0.3333333333333333,
              "#9c179e"
             ],
             [
              0.4444444444444444,
              "#bd3786"
             ],
             [
              0.5555555555555556,
              "#d8576b"
             ],
             [
              0.6666666666666666,
              "#ed7953"
             ],
             [
              0.7777777777777778,
              "#fb9f3a"
             ],
             [
              0.8888888888888888,
              "#fdca26"
             ],
             [
              1,
              "#f0f921"
             ]
            ],
            "type": "histogram2d"
           }
          ],
          "histogram2dcontour": [
           {
            "colorbar": {
             "outlinewidth": 0,
             "ticks": ""
            },
            "colorscale": [
             [
              0,
              "#0d0887"
             ],
             [
              0.1111111111111111,
              "#46039f"
             ],
             [
              0.2222222222222222,
              "#7201a8"
             ],
             [
              0.3333333333333333,
              "#9c179e"
             ],
             [
              0.4444444444444444,
              "#bd3786"
             ],
             [
              0.5555555555555556,
              "#d8576b"
             ],
             [
              0.6666666666666666,
              "#ed7953"
             ],
             [
              0.7777777777777778,
              "#fb9f3a"
             ],
             [
              0.8888888888888888,
              "#fdca26"
             ],
             [
              1,
              "#f0f921"
             ]
            ],
            "type": "histogram2dcontour"
           }
          ],
          "mesh3d": [
           {
            "colorbar": {
             "outlinewidth": 0,
             "ticks": ""
            },
            "type": "mesh3d"
           }
          ],
          "parcoords": [
           {
            "line": {
             "colorbar": {
              "outlinewidth": 0,
              "ticks": ""
             }
            },
            "type": "parcoords"
           }
          ],
          "pie": [
           {
            "automargin": true,
            "type": "pie"
           }
          ],
          "scatter": [
           {
            "marker": {
             "colorbar": {
              "outlinewidth": 0,
              "ticks": ""
             }
            },
            "type": "scatter"
           }
          ],
          "scatter3d": [
           {
            "line": {
             "colorbar": {
              "outlinewidth": 0,
              "ticks": ""
             }
            },
            "marker": {
             "colorbar": {
              "outlinewidth": 0,
              "ticks": ""
             }
            },
            "type": "scatter3d"
           }
          ],
          "scattercarpet": [
           {
            "marker": {
             "colorbar": {
              "outlinewidth": 0,
              "ticks": ""
             }
            },
            "type": "scattercarpet"
           }
          ],
          "scattergeo": [
           {
            "marker": {
             "colorbar": {
              "outlinewidth": 0,
              "ticks": ""
             }
            },
            "type": "scattergeo"
           }
          ],
          "scattergl": [
           {
            "marker": {
             "colorbar": {
              "outlinewidth": 0,
              "ticks": ""
             }
            },
            "type": "scattergl"
           }
          ],
          "scattermapbox": [
           {
            "marker": {
             "colorbar": {
              "outlinewidth": 0,
              "ticks": ""
             }
            },
            "type": "scattermapbox"
           }
          ],
          "scatterpolar": [
           {
            "marker": {
             "colorbar": {
              "outlinewidth": 0,
              "ticks": ""
             }
            },
            "type": "scatterpolar"
           }
          ],
          "scatterpolargl": [
           {
            "marker": {
             "colorbar": {
              "outlinewidth": 0,
              "ticks": ""
             }
            },
            "type": "scatterpolargl"
           }
          ],
          "scatterternary": [
           {
            "marker": {
             "colorbar": {
              "outlinewidth": 0,
              "ticks": ""
             }
            },
            "type": "scatterternary"
           }
          ],
          "surface": [
           {
            "colorbar": {
             "outlinewidth": 0,
             "ticks": ""
            },
            "colorscale": [
             [
              0,
              "#0d0887"
             ],
             [
              0.1111111111111111,
              "#46039f"
             ],
             [
              0.2222222222222222,
              "#7201a8"
             ],
             [
              0.3333333333333333,
              "#9c179e"
             ],
             [
              0.4444444444444444,
              "#bd3786"
             ],
             [
              0.5555555555555556,
              "#d8576b"
             ],
             [
              0.6666666666666666,
              "#ed7953"
             ],
             [
              0.7777777777777778,
              "#fb9f3a"
             ],
             [
              0.8888888888888888,
              "#fdca26"
             ],
             [
              1,
              "#f0f921"
             ]
            ],
            "type": "surface"
           }
          ],
          "table": [
           {
            "cells": {
             "fill": {
              "color": "#EBF0F8"
             },
             "line": {
              "color": "white"
             }
            },
            "header": {
             "fill": {
              "color": "#C8D4E3"
             },
             "line": {
              "color": "white"
             }
            },
            "type": "table"
           }
          ]
         },
         "layout": {
          "annotationdefaults": {
           "arrowcolor": "#2a3f5f",
           "arrowhead": 0,
           "arrowwidth": 1
          },
          "autotypenumbers": "strict",
          "coloraxis": {
           "colorbar": {
            "outlinewidth": 0,
            "ticks": ""
           }
          },
          "colorscale": {
           "diverging": [
            [
             0,
             "#8e0152"
            ],
            [
             0.1,
             "#c51b7d"
            ],
            [
             0.2,
             "#de77ae"
            ],
            [
             0.3,
             "#f1b6da"
            ],
            [
             0.4,
             "#fde0ef"
            ],
            [
             0.5,
             "#f7f7f7"
            ],
            [
             0.6,
             "#e6f5d0"
            ],
            [
             0.7,
             "#b8e186"
            ],
            [
             0.8,
             "#7fbc41"
            ],
            [
             0.9,
             "#4d9221"
            ],
            [
             1,
             "#276419"
            ]
           ],
           "sequential": [
            [
             0,
             "#0d0887"
            ],
            [
             0.1111111111111111,
             "#46039f"
            ],
            [
             0.2222222222222222,
             "#7201a8"
            ],
            [
             0.3333333333333333,
             "#9c179e"
            ],
            [
             0.4444444444444444,
             "#bd3786"
            ],
            [
             0.5555555555555556,
             "#d8576b"
            ],
            [
             0.6666666666666666,
             "#ed7953"
            ],
            [
             0.7777777777777778,
             "#fb9f3a"
            ],
            [
             0.8888888888888888,
             "#fdca26"
            ],
            [
             1,
             "#f0f921"
            ]
           ],
           "sequentialminus": [
            [
             0,
             "#0d0887"
            ],
            [
             0.1111111111111111,
             "#46039f"
            ],
            [
             0.2222222222222222,
             "#7201a8"
            ],
            [
             0.3333333333333333,
             "#9c179e"
            ],
            [
             0.4444444444444444,
             "#bd3786"
            ],
            [
             0.5555555555555556,
             "#d8576b"
            ],
            [
             0.6666666666666666,
             "#ed7953"
            ],
            [
             0.7777777777777778,
             "#fb9f3a"
            ],
            [
             0.8888888888888888,
             "#fdca26"
            ],
            [
             1,
             "#f0f921"
            ]
           ]
          },
          "colorway": [
           "#636efa",
           "#EF553B",
           "#00cc96",
           "#ab63fa",
           "#FFA15A",
           "#19d3f3",
           "#FF6692",
           "#B6E880",
           "#FF97FF",
           "#FECB52"
          ],
          "font": {
           "color": "#2a3f5f"
          },
          "geo": {
           "bgcolor": "white",
           "lakecolor": "white",
           "landcolor": "#E5ECF6",
           "showlakes": true,
           "showland": true,
           "subunitcolor": "white"
          },
          "hoverlabel": {
           "align": "left"
          },
          "hovermode": "closest",
          "mapbox": {
           "style": "light"
          },
          "paper_bgcolor": "white",
          "plot_bgcolor": "#E5ECF6",
          "polar": {
           "angularaxis": {
            "gridcolor": "white",
            "linecolor": "white",
            "ticks": ""
           },
           "bgcolor": "#E5ECF6",
           "radialaxis": {
            "gridcolor": "white",
            "linecolor": "white",
            "ticks": ""
           }
          },
          "scene": {
           "xaxis": {
            "backgroundcolor": "#E5ECF6",
            "gridcolor": "white",
            "gridwidth": 2,
            "linecolor": "white",
            "showbackground": true,
            "ticks": "",
            "zerolinecolor": "white"
           },
           "yaxis": {
            "backgroundcolor": "#E5ECF6",
            "gridcolor": "white",
            "gridwidth": 2,
            "linecolor": "white",
            "showbackground": true,
            "ticks": "",
            "zerolinecolor": "white"
           },
           "zaxis": {
            "backgroundcolor": "#E5ECF6",
            "gridcolor": "white",
            "gridwidth": 2,
            "linecolor": "white",
            "showbackground": true,
            "ticks": "",
            "zerolinecolor": "white"
           }
          },
          "shapedefaults": {
           "line": {
            "color": "#2a3f5f"
           }
          },
          "ternary": {
           "aaxis": {
            "gridcolor": "white",
            "linecolor": "white",
            "ticks": ""
           },
           "baxis": {
            "gridcolor": "white",
            "linecolor": "white",
            "ticks": ""
           },
           "bgcolor": "#E5ECF6",
           "caxis": {
            "gridcolor": "white",
            "linecolor": "white",
            "ticks": ""
           }
          },
          "title": {
           "x": 0.05
          },
          "xaxis": {
           "automargin": true,
           "gridcolor": "white",
           "linecolor": "white",
           "ticks": "",
           "title": {
            "standoff": 15
           },
           "zerolinecolor": "white",
           "zerolinewidth": 2
          },
          "yaxis": {
           "automargin": true,
           "gridcolor": "white",
           "linecolor": "white",
           "ticks": "",
           "title": {
            "standoff": 15
           },
           "zerolinecolor": "white",
           "zerolinewidth": 2
          }
         }
        },
        "xaxis": {
         "anchor": "y",
         "domain": [
          0,
          1
         ],
         "title": {
          "text": "Unrealized P&L"
         },
         "type": "log"
        },
        "yaxis": {
         "anchor": "x",
         "domain": [
          0,
          1
         ],
         "title": {
          "text": "Unrealized P&L Pct."
         }
        }
       }
      },
      "text/html": [
       "<div>                            <div id=\"7960bf1d-969e-4f63-8413-125690c1feb9\" class=\"plotly-graph-div\" style=\"height:525px; width:100%;\"></div>            <script type=\"text/javascript\">                require([\"plotly\"], function(Plotly) {                    window.PLOTLYENV=window.PLOTLYENV || {};                                    if (document.getElementById(\"7960bf1d-969e-4f63-8413-125690c1feb9\")) {                    Plotly.newPlot(                        \"7960bf1d-969e-4f63-8413-125690c1feb9\",                        [{\"hovertemplate\":\"<b>%{hovertext}</b><br><br>Symbol=AAVAS<br>Unrealized P&L=%{x}<br>Unrealized P&L Pct.=%{y}<br>% profit=%{marker.size}<extra></extra>\",\"hovertext\":[0.03],\"legendgroup\":\"AAVAS\",\"marker\":{\"color\":\"#636efa\",\"size\":[0.03],\"sizemode\":\"area\",\"sizeref\":0.0006929999999999999,\"symbol\":\"circle\"},\"mode\":\"markers\",\"name\":\"AAVAS\",\"orientation\":\"v\",\"showlegend\":true,\"x\":[123.6],\"xaxis\":\"x\",\"y\":[2.7376],\"yaxis\":\"y\",\"type\":\"scatter\"},{\"hovertemplate\":\"<b>%{hovertext}</b><br><br>Symbol=AFFLE<br>Unrealized P&L=%{x}<br>Unrealized P&L Pct.=%{y}<br>% profit=%{marker.size}<extra></extra>\",\"hovertext\":[1.79],\"legendgroup\":\"AFFLE\",\"marker\":{\"color\":\"#EF553B\",\"size\":[1.79],\"sizemode\":\"area\",\"sizeref\":0.0006929999999999999,\"symbol\":\"circle\"},\"mode\":\"markers\",\"name\":\"AFFLE\",\"orientation\":\"v\",\"showlegend\":true,\"x\":[6773.85],\"xaxis\":\"x\",\"y\":[21.9678],\"yaxis\":\"y\",\"type\":\"scatter\"},{\"hovertemplate\":\"<b>%{hovertext}</b><br><br>Symbol=ALKEM<br>Unrealized P&L=%{x}<br>Unrealized P&L Pct.=%{y}<br>% profit=%{marker.size}<extra></extra>\",\"hovertext\":[4.75],\"legendgroup\":\"ALKEM\",\"marker\":{\"color\":\"#00cc96\",\"size\":[4.75],\"sizemode\":\"area\",\"sizeref\":0.0006929999999999999,\"symbol\":\"circle\"},\"mode\":\"markers\",\"name\":\"ALKEM\",\"orientation\":\"v\",\"showlegend\":true,\"x\":[17974.05],\"xaxis\":\"x\",\"y\":[68.3421],\"yaxis\":\"y\",\"type\":\"scatter\"},{\"hovertemplate\":\"<b>%{hovertext}</b><br><br>Symbol=ASIANPAINT<br>Unrealized P&L=%{x}<br>Unrealized P&L Pct.=%{y}<br>% profit=%{marker.size}<extra></extra>\",\"hovertext\":[0.68],\"legendgroup\":\"ASIANPAINT\",\"marker\":{\"color\":\"#ab63fa\",\"size\":[0.68],\"sizemode\":\"area\",\"sizeref\":0.0006929999999999999,\"symbol\":\"circle\"},\"mode\":\"markers\",\"name\":\"ASIANPAINT\",\"orientation\":\"v\",\"showlegend\":true,\"x\":[2576.8],\"xaxis\":\"x\",\"y\":[24.1301],\"yaxis\":\"y\",\"type\":\"scatter\"},{\"hovertemplate\":\"<b>%{hovertext}</b><br><br>Symbol=BAJAJFINSV<br>Unrealized P&L=%{x}<br>Unrealized P&L Pct.=%{y}<br>% profit=%{marker.size}<extra></extra>\",\"hovertext\":[6.49],\"legendgroup\":\"BAJAJFINSV\",\"marker\":{\"color\":\"#FFA15A\",\"size\":[6.49],\"sizemode\":\"area\",\"sizeref\":0.0006929999999999999,\"symbol\":\"circle\"},\"mode\":\"markers\",\"name\":\"BAJAJFINSV\",\"orientation\":\"v\",\"showlegend\":true,\"x\":[24559.25],\"xaxis\":\"x\",\"y\":[84.1981],\"yaxis\":\"y\",\"type\":\"scatter\"},{\"hovertemplate\":\"<b>%{hovertext}</b><br><br>Symbol=BAJFINANCE<br>Unrealized P&L=%{x}<br>Unrealized P&L Pct.=%{y}<br>% profit=%{marker.size}<extra></extra>\",\"hovertext\":[1.7],\"legendgroup\":\"BAJFINANCE\",\"marker\":{\"color\":\"#19d3f3\",\"size\":[1.7],\"sizemode\":\"area\",\"sizeref\":0.0006929999999999999,\"symbol\":\"circle\"},\"mode\":\"markers\",\"name\":\"BAJFINANCE\",\"orientation\":\"v\",\"showlegend\":true,\"x\":[6437.55],\"xaxis\":\"x\",\"y\":[74.8757],\"yaxis\":\"y\",\"type\":\"scatter\"},{\"hovertemplate\":\"<b>%{hovertext}</b><br><br>Symbol=BANKBEES<br>Unrealized P&L=%{x}<br>Unrealized P&L Pct.=%{y}<br>% profit=%{marker.size}<extra></extra>\",\"hovertext\":[0.24],\"legendgroup\":\"BANKBEES\",\"marker\":{\"color\":\"#FF6692\",\"size\":[0.24],\"sizemode\":\"area\",\"sizeref\":0.0006929999999999999,\"symbol\":\"circle\"},\"mode\":\"markers\",\"name\":\"BANKBEES\",\"orientation\":\"v\",\"showlegend\":true,\"x\":[897.17],\"xaxis\":\"x\",\"y\":[11.3257],\"yaxis\":\"y\",\"type\":\"scatter\"},{\"hovertemplate\":\"<b>%{hovertext}</b><br><br>Symbol=BATAINDIA<br>Unrealized P&L=%{x}<br>Unrealized P&L Pct.=%{y}<br>% profit=%{marker.size}<extra></extra>\",\"hovertext\":[0.57],\"legendgroup\":\"BATAINDIA\",\"marker\":{\"color\":\"#B6E880\",\"size\":[0.57],\"sizemode\":\"area\",\"sizeref\":0.0006929999999999999,\"symbol\":\"circle\"},\"mode\":\"markers\",\"name\":\"BATAINDIA\",\"orientation\":\"v\",\"showlegend\":true,\"x\":[2172.8],\"xaxis\":\"x\",\"y\":[19.752],\"yaxis\":\"y\",\"type\":\"scatter\"},{\"hovertemplate\":\"<b>%{hovertext}</b><br><br>Symbol=BHARTIARTL<br>Unrealized P&L=%{x}<br>Unrealized P&L Pct.=%{y}<br>% profit=%{marker.size}<extra></extra>\",\"hovertext\":[1.94],\"legendgroup\":\"BHARTIARTL\",\"marker\":{\"color\":\"#FF97FF\",\"size\":[1.94],\"sizemode\":\"area\",\"sizeref\":0.0006929999999999999,\"symbol\":\"circle\"},\"mode\":\"markers\",\"name\":\"BHARTIARTL\",\"orientation\":\"v\",\"showlegend\":true,\"x\":[7358.25],\"xaxis\":\"x\",\"y\":[86.2657],\"yaxis\":\"y\",\"type\":\"scatter\"},{\"hovertemplate\":\"<b>%{hovertext}</b><br><br>Symbol=BPCL<br>Unrealized P&L=%{x}<br>Unrealized P&L Pct.=%{y}<br>% profit=%{marker.size}<extra></extra>\",\"hovertext\":[0.27],\"legendgroup\":\"BPCL\",\"marker\":{\"color\":\"#FECB52\",\"size\":[0.27],\"sizemode\":\"area\",\"sizeref\":0.0006929999999999999,\"symbol\":\"circle\"},\"mode\":\"markers\",\"name\":\"BPCL\",\"orientation\":\"v\",\"showlegend\":true,\"x\":[1005.85],\"xaxis\":\"x\",\"y\":[5.3645],\"yaxis\":\"y\",\"type\":\"scatter\"},{\"hovertemplate\":\"<b>%{hovertext}</b><br><br>Symbol=COLPAL<br>Unrealized P&L=%{x}<br>Unrealized P&L Pct.=%{y}<br>% profit=%{marker.size}<extra></extra>\",\"hovertext\":[3.63],\"legendgroup\":\"COLPAL\",\"marker\":{\"color\":\"#636efa\",\"size\":[3.63],\"sizemode\":\"area\",\"sizeref\":0.0006929999999999999,\"symbol\":\"circle\"},\"mode\":\"markers\",\"name\":\"COLPAL\",\"orientation\":\"v\",\"showlegend\":true,\"x\":[13758.45],\"xaxis\":\"x\",\"y\":[70.0135],\"yaxis\":\"y\",\"type\":\"scatter\"},{\"hovertemplate\":\"<b>%{hovertext}</b><br><br>Symbol=DEEPAKNTR<br>Unrealized P&L=%{x}<br>Unrealized P&L Pct.=%{y}<br>% profit=%{marker.size}<extra></extra>\",\"hovertext\":[5.17],\"legendgroup\":\"DEEPAKNTR\",\"marker\":{\"color\":\"#EF553B\",\"size\":[5.17],\"sizemode\":\"area\",\"sizeref\":0.0006929999999999999,\"symbol\":\"circle\"},\"mode\":\"markers\",\"name\":\"DEEPAKNTR\",\"orientation\":\"v\",\"showlegend\":true,\"x\":[19575.95],\"xaxis\":\"x\",\"y\":[51.3969],\"yaxis\":\"y\",\"type\":\"scatter\"},{\"hovertemplate\":\"<b>%{hovertext}</b><br><br>Symbol=DMART<br>Unrealized P&L=%{x}<br>Unrealized P&L Pct.=%{y}<br>% profit=%{marker.size}<extra></extra>\",\"hovertext\":[0.18],\"legendgroup\":\"DMART\",\"marker\":{\"color\":\"#00cc96\",\"size\":[0.18],\"sizemode\":\"area\",\"sizeref\":0.0006929999999999999,\"symbol\":\"circle\"},\"mode\":\"markers\",\"name\":\"DMART\",\"orientation\":\"v\",\"showlegend\":true,\"x\":[692.65],\"xaxis\":\"x\",\"y\":[6.0524],\"yaxis\":\"y\",\"type\":\"scatter\"},{\"hovertemplate\":\"<b>%{hovertext}</b><br><br>Symbol=EIHOTEL<br>Unrealized P&L=%{x}<br>Unrealized P&L Pct.=%{y}<br>% profit=%{marker.size}<extra></extra>\",\"hovertext\":[2.71],\"legendgroup\":\"EIHOTEL\",\"marker\":{\"color\":\"#ab63fa\",\"size\":[2.71],\"sizemode\":\"area\",\"sizeref\":0.0006929999999999999,\"symbol\":\"circle\"},\"mode\":\"markers\",\"name\":\"EIHOTEL\",\"orientation\":\"v\",\"showlegend\":true,\"x\":[10265.35],\"xaxis\":\"x\",\"y\":[222.995],\"yaxis\":\"y\",\"type\":\"scatter\"},{\"hovertemplate\":\"<b>%{hovertext}</b><br><br>Symbol=ESCORTS<br>Unrealized P&L=%{x}<br>Unrealized P&L Pct.=%{y}<br>% profit=%{marker.size}<extra></extra>\",\"hovertext\":[4.52],\"legendgroup\":\"ESCORTS\",\"marker\":{\"color\":\"#FFA15A\",\"size\":[4.52],\"sizemode\":\"area\",\"sizeref\":0.0006929999999999999,\"symbol\":\"circle\"},\"mode\":\"markers\",\"name\":\"ESCORTS\",\"orientation\":\"v\",\"showlegend\":true,\"x\":[17116.3],\"xaxis\":\"x\",\"y\":[154.8216],\"yaxis\":\"y\",\"type\":\"scatter\"},{\"hovertemplate\":\"<b>%{hovertext}</b><br><br>Symbol=GMMPFAUDLR<br>Unrealized P&L=%{x}<br>Unrealized P&L Pct.=%{y}<br>% profit=%{marker.size}<extra></extra>\",\"hovertext\":[0.75],\"legendgroup\":\"GMMPFAUDLR\",\"marker\":{\"color\":\"#19d3f3\",\"size\":[0.75],\"sizemode\":\"area\",\"sizeref\":0.0006929999999999999,\"symbol\":\"circle\"},\"mode\":\"markers\",\"name\":\"GMMPFAUDLR\",\"orientation\":\"v\",\"showlegend\":true,\"x\":[2857.45],\"xaxis\":\"x\",\"y\":[14.1833],\"yaxis\":\"y\",\"type\":\"scatter\"},{\"hovertemplate\":\"<b>%{hovertext}</b><br><br>Symbol=GODREJPROP<br>Unrealized P&L=%{x}<br>Unrealized P&L Pct.=%{y}<br>% profit=%{marker.size}<extra></extra>\",\"hovertext\":[1.15],\"legendgroup\":\"GODREJPROP\",\"marker\":{\"color\":\"#FF6692\",\"size\":[1.15],\"sizemode\":\"area\",\"sizeref\":0.0006929999999999999,\"symbol\":\"circle\"},\"mode\":\"markers\",\"name\":\"GODREJPROP\",\"orientation\":\"v\",\"showlegend\":true,\"x\":[4347.05],\"xaxis\":\"x\",\"y\":[26.8636],\"yaxis\":\"y\",\"type\":\"scatter\"},{\"hovertemplate\":\"<b>%{hovertext}</b><br><br>Symbol=HAVELLS<br>Unrealized P&L=%{x}<br>Unrealized P&L Pct.=%{y}<br>% profit=%{marker.size}<extra></extra>\",\"hovertext\":[0.65],\"legendgroup\":\"HAVELLS\",\"marker\":{\"color\":\"#B6E880\",\"size\":[0.65],\"sizemode\":\"area\",\"sizeref\":0.0006929999999999999,\"symbol\":\"circle\"},\"mode\":\"markers\",\"name\":\"HAVELLS\",\"orientation\":\"v\",\"showlegend\":true,\"x\":[2472.95],\"xaxis\":\"x\",\"y\":[22.79],\"yaxis\":\"y\",\"type\":\"scatter\"},{\"hovertemplate\":\"<b>%{hovertext}</b><br><br>Symbol=HCLTECH<br>Unrealized P&L=%{x}<br>Unrealized P&L Pct.=%{y}<br>% profit=%{marker.size}<extra></extra>\",\"hovertext\":[3.08],\"legendgroup\":\"HCLTECH\",\"marker\":{\"color\":\"#FF97FF\",\"size\":[3.08],\"sizemode\":\"area\",\"sizeref\":0.0006929999999999999,\"symbol\":\"circle\"},\"mode\":\"markers\",\"name\":\"HCLTECH\",\"orientation\":\"v\",\"showlegend\":true,\"x\":[11663.75],\"xaxis\":\"x\",\"y\":[40.7381],\"yaxis\":\"y\",\"type\":\"scatter\"},{\"hovertemplate\":\"<b>%{hovertext}</b><br><br>Symbol=HDFCAMC<br>Unrealized P&L=%{x}<br>Unrealized P&L Pct.=%{y}<br>% profit=%{marker.size}<extra></extra>\",\"hovertext\":[1.77],\"legendgroup\":\"HDFCAMC\",\"marker\":{\"color\":\"#FECB52\",\"size\":[1.77],\"sizemode\":\"area\",\"sizeref\":0.0006929999999999999,\"symbol\":\"circle\"},\"mode\":\"markers\",\"name\":\"HDFCAMC\",\"orientation\":\"v\",\"showlegend\":true,\"x\":[6715.85],\"xaxis\":\"x\",\"y\":[22.7036],\"yaxis\":\"y\",\"type\":\"scatter\"},{\"hovertemplate\":\"<b>%{hovertext}</b><br><br>Symbol=HDFCBANK<br>Unrealized P&L=%{x}<br>Unrealized P&L Pct.=%{y}<br>% profit=%{marker.size}<extra></extra>\",\"hovertext\":[2.08],\"legendgroup\":\"HDFCBANK\",\"marker\":{\"color\":\"#636efa\",\"size\":[2.08],\"sizemode\":\"area\",\"sizeref\":0.0006929999999999999,\"symbol\":\"circle\"},\"mode\":\"markers\",\"name\":\"HDFCBANK\",\"orientation\":\"v\",\"showlegend\":true,\"x\":[7857.457],\"xaxis\":\"x\",\"y\":[12.3985],\"yaxis\":\"y\",\"type\":\"scatter\"},{\"hovertemplate\":\"<b>%{hovertext}</b><br><br>Symbol=HDFCLIFE<br>Unrealized P&L=%{x}<br>Unrealized P&L Pct.=%{y}<br>% profit=%{marker.size}<extra></extra>\",\"hovertext\":[1.02],\"legendgroup\":\"HDFCLIFE\",\"marker\":{\"color\":\"#EF553B\",\"size\":[1.02],\"sizemode\":\"area\",\"sizeref\":0.0006929999999999999,\"symbol\":\"circle\"},\"mode\":\"markers\",\"name\":\"HDFCLIFE\",\"orientation\":\"v\",\"showlegend\":true,\"x\":[3854.4],\"xaxis\":\"x\",\"y\":[10.7489],\"yaxis\":\"y\",\"type\":\"scatter\"},{\"hovertemplate\":\"<b>%{hovertext}</b><br><br>Symbol=HINDUNILVR<br>Unrealized P&L=%{x}<br>Unrealized P&L Pct.=%{y}<br>% profit=%{marker.size}<extra></extra>\",\"hovertext\":[1.96],\"legendgroup\":\"HINDUNILVR\",\"marker\":{\"color\":\"#00cc96\",\"size\":[1.96],\"sizemode\":\"area\",\"sizeref\":0.0006929999999999999,\"symbol\":\"circle\"},\"mode\":\"markers\",\"name\":\"HINDUNILVR\",\"orientation\":\"v\",\"showlegend\":true,\"x\":[7430.5],\"xaxis\":\"x\",\"y\":[14.6852],\"yaxis\":\"y\",\"type\":\"scatter\"},{\"hovertemplate\":\"<b>%{hovertext}</b><br><br>Symbol=ICICIBANK<br>Unrealized P&L=%{x}<br>Unrealized P&L Pct.=%{y}<br>% profit=%{marker.size}<extra></extra>\",\"hovertext\":[4.19],\"legendgroup\":\"ICICIBANK\",\"marker\":{\"color\":\"#ab63fa\",\"size\":[4.19],\"sizemode\":\"area\",\"sizeref\":0.0006929999999999999,\"symbol\":\"circle\"},\"mode\":\"markers\",\"name\":\"ICICIBANK\",\"orientation\":\"v\",\"showlegend\":true,\"x\":[15863.25],\"xaxis\":\"x\",\"y\":[42.8226],\"yaxis\":\"y\",\"type\":\"scatter\"},{\"hovertemplate\":\"<b>%{hovertext}</b><br><br>Symbol=INFY<br>Unrealized P&L=%{x}<br>Unrealized P&L Pct.=%{y}<br>% profit=%{marker.size}<extra></extra>\",\"hovertext\":[6.93],\"legendgroup\":\"INFY\",\"marker\":{\"color\":\"#FFA15A\",\"size\":[6.93],\"sizemode\":\"area\",\"sizeref\":0.0006929999999999999,\"symbol\":\"circle\"},\"mode\":\"markers\",\"name\":\"INFY\",\"orientation\":\"v\",\"showlegend\":true,\"x\":[26227.5],\"xaxis\":\"x\",\"y\":[35.0427],\"yaxis\":\"y\",\"type\":\"scatter\"},{\"hovertemplate\":\"<b>%{hovertext}</b><br><br>Symbol=IRFC<br>Unrealized P&L=%{x}<br>Unrealized P&L Pct.=%{y}<br>% profit=%{marker.size}<extra></extra>\",\"hovertext\":[0.19],\"legendgroup\":\"IRFC\",\"marker\":{\"color\":\"#19d3f3\",\"size\":[0.19],\"sizemode\":\"area\",\"sizeref\":0.0006929999999999999,\"symbol\":\"circle\"},\"mode\":\"markers\",\"name\":\"IRFC\",\"orientation\":\"v\",\"showlegend\":true,\"x\":[709.25],\"xaxis\":\"x\",\"y\":[13.0227],\"yaxis\":\"y\",\"type\":\"scatter\"},{\"hovertemplate\":\"<b>%{hovertext}</b><br><br>Symbol=ITBEES<br>Unrealized P&L=%{x}<br>Unrealized P&L Pct.=%{y}<br>% profit=%{marker.size}<extra></extra>\",\"hovertext\":[2.12],\"legendgroup\":\"ITBEES\",\"marker\":{\"color\":\"#FF6692\",\"size\":[2.12],\"sizemode\":\"area\",\"sizeref\":0.0006929999999999999,\"symbol\":\"circle\"},\"mode\":\"markers\",\"name\":\"ITBEES\",\"orientation\":\"v\",\"showlegend\":true,\"x\":[8023.31],\"xaxis\":\"x\",\"y\":[19.4581],\"yaxis\":\"y\",\"type\":\"scatter\"},{\"hovertemplate\":\"<b>%{hovertext}</b><br><br>Symbol=ITC<br>Unrealized P&L=%{x}<br>Unrealized P&L Pct.=%{y}<br>% profit=%{marker.size}<extra></extra>\",\"hovertext\":[1.6],\"legendgroup\":\"ITC\",\"marker\":{\"color\":\"#B6E880\",\"size\":[1.6],\"sizemode\":\"area\",\"sizeref\":0.0006929999999999999,\"symbol\":\"circle\"},\"mode\":\"markers\",\"name\":\"ITC\",\"orientation\":\"v\",\"showlegend\":true,\"x\":[6059.5],\"xaxis\":\"x\",\"y\":[112.2545],\"yaxis\":\"y\",\"type\":\"scatter\"},{\"hovertemplate\":\"<b>%{hovertext}</b><br><br>Symbol=JIOFIN<br>Unrealized P&L=%{x}<br>Unrealized P&L Pct.=%{y}<br>% profit=%{marker.size}<extra></extra>\",\"hovertext\":[0.5],\"legendgroup\":\"JIOFIN\",\"marker\":{\"color\":\"#FF97FF\",\"size\":[0.5],\"sizemode\":\"area\",\"sizeref\":0.0006929999999999999,\"symbol\":\"circle\"},\"mode\":\"markers\",\"name\":\"JIOFIN\",\"orientation\":\"v\",\"showlegend\":true,\"x\":[1896.4481],\"xaxis\":\"x\",\"y\":[132.4287],\"yaxis\":\"y\",\"type\":\"scatter\"},{\"hovertemplate\":\"<b>%{hovertext}</b><br><br>Symbol=KOTAKBANK<br>Unrealized P&L=%{x}<br>Unrealized P&L Pct.=%{y}<br>% profit=%{marker.size}<extra></extra>\",\"hovertext\":[0.45],\"legendgroup\":\"KOTAKBANK\",\"marker\":{\"color\":\"#FECB52\",\"size\":[0.45],\"sizemode\":\"area\",\"sizeref\":0.0006929999999999999,\"symbol\":\"circle\"},\"mode\":\"markers\",\"name\":\"KOTAKBANK\",\"orientation\":\"v\",\"showlegend\":true,\"x\":[1721.35],\"xaxis\":\"x\",\"y\":[6.1723],\"yaxis\":\"y\",\"type\":\"scatter\"},{\"hovertemplate\":\"<b>%{hovertext}</b><br><br>Symbol=LANDMARK<br>Unrealized P&L=%{x}<br>Unrealized P&L Pct.=%{y}<br>% profit=%{marker.size}<extra></extra>\",\"hovertext\":[0.0],\"legendgroup\":\"LANDMARK\",\"marker\":{\"color\":\"#636efa\",\"size\":[0.0],\"sizemode\":\"area\",\"sizeref\":0.0006929999999999999,\"symbol\":\"circle\"},\"mode\":\"markers\",\"name\":\"LANDMARK\",\"orientation\":\"v\",\"showlegend\":true,\"x\":[2.65],\"xaxis\":\"x\",\"y\":[0.0835],\"yaxis\":\"y\",\"type\":\"scatter\"},{\"hovertemplate\":\"<b>%{hovertext}</b><br><br>Symbol=LATENTVIEW<br>Unrealized P&L=%{x}<br>Unrealized P&L Pct.=%{y}<br>% profit=%{marker.size}<extra></extra>\",\"hovertext\":[0.2],\"legendgroup\":\"LATENTVIEW\",\"marker\":{\"color\":\"#EF553B\",\"size\":[0.2],\"sizemode\":\"area\",\"sizeref\":0.0006929999999999999,\"symbol\":\"circle\"},\"mode\":\"markers\",\"name\":\"LATENTVIEW\",\"orientation\":\"v\",\"showlegend\":true,\"x\":[756.65],\"xaxis\":\"x\",\"y\":[3.2698],\"yaxis\":\"y\",\"type\":\"scatter\"},{\"hovertemplate\":\"<b>%{hovertext}</b><br><br>Symbol=LICI<br>Unrealized P&L=%{x}<br>Unrealized P&L Pct.=%{y}<br>% profit=%{marker.size}<extra></extra>\",\"hovertext\":[0.27],\"legendgroup\":\"LICI\",\"marker\":{\"color\":\"#00cc96\",\"size\":[0.27],\"sizemode\":\"area\",\"sizeref\":0.0006929999999999999,\"symbol\":\"circle\"},\"mode\":\"markers\",\"name\":\"LICI\",\"orientation\":\"v\",\"showlegend\":true,\"x\":[1015.15],\"xaxis\":\"x\",\"y\":[3.568],\"yaxis\":\"y\",\"type\":\"scatter\"},{\"hovertemplate\":\"<b>%{hovertext}</b><br><br>Symbol=MARUTI<br>Unrealized P&L=%{x}<br>Unrealized P&L Pct.=%{y}<br>% profit=%{marker.size}<extra></extra>\",\"hovertext\":[1.84],\"legendgroup\":\"MARUTI\",\"marker\":{\"color\":\"#ab63fa\",\"size\":[1.84],\"sizemode\":\"area\",\"sizeref\":0.0006929999999999999,\"symbol\":\"circle\"},\"mode\":\"markers\",\"name\":\"MARUTI\",\"orientation\":\"v\",\"showlegend\":true,\"x\":[6966.0],\"xaxis\":\"x\",\"y\":[51.1931],\"yaxis\":\"y\",\"type\":\"scatter\"},{\"hovertemplate\":\"<b>%{hovertext}</b><br><br>Symbol=MTARTECH<br>Unrealized P&L=%{x}<br>Unrealized P&L Pct.=%{y}<br>% profit=%{marker.size}<extra></extra>\",\"hovertext\":[4.19],\"legendgroup\":\"MTARTECH\",\"marker\":{\"color\":\"#FFA15A\",\"size\":[4.19],\"sizemode\":\"area\",\"sizeref\":0.0006929999999999999,\"symbol\":\"circle\"},\"mode\":\"markers\",\"name\":\"MTARTECH\",\"orientation\":\"v\",\"showlegend\":true,\"x\":[15855.35],\"xaxis\":\"x\",\"y\":[47.3209],\"yaxis\":\"y\",\"type\":\"scatter\"},{\"hovertemplate\":\"<b>%{hovertext}</b><br><br>Symbol=NIFTYBEES<br>Unrealized P&L=%{x}<br>Unrealized P&L Pct.=%{y}<br>% profit=%{marker.size}<extra></extra>\",\"hovertext\":[4.31],\"legendgroup\":\"NIFTYBEES\",\"marker\":{\"color\":\"#19d3f3\",\"size\":[4.31],\"sizemode\":\"area\",\"sizeref\":0.0006929999999999999,\"symbol\":\"circle\"},\"mode\":\"markers\",\"name\":\"NIFTYBEES\",\"orientation\":\"v\",\"showlegend\":true,\"x\":[16303.09],\"xaxis\":\"x\",\"y\":[25.3934],\"yaxis\":\"y\",\"type\":\"scatter\"},{\"hovertemplate\":\"<b>%{hovertext}</b><br><br>Symbol=ONGC<br>Unrealized P&L=%{x}<br>Unrealized P&L Pct.=%{y}<br>% profit=%{marker.size}<extra></extra>\",\"hovertext\":[2.15],\"legendgroup\":\"ONGC\",\"marker\":{\"color\":\"#FF6692\",\"size\":[2.15],\"sizemode\":\"area\",\"sizeref\":0.0006929999999999999,\"symbol\":\"circle\"},\"mode\":\"markers\",\"name\":\"ONGC\",\"orientation\":\"v\",\"showlegend\":true,\"x\":[8133.5],\"xaxis\":\"x\",\"y\":[62.6775],\"yaxis\":\"y\",\"type\":\"scatter\"},{\"hovertemplate\":\"<b>%{hovertext}</b><br><br>Symbol=PIDILITIND<br>Unrealized P&L=%{x}<br>Unrealized P&L Pct.=%{y}<br>% profit=%{marker.size}<extra></extra>\",\"hovertext\":[0.63],\"legendgroup\":\"PIDILITIND\",\"marker\":{\"color\":\"#B6E880\",\"size\":[0.63],\"sizemode\":\"area\",\"sizeref\":0.0006929999999999999,\"symbol\":\"circle\"},\"mode\":\"markers\",\"name\":\"PIDILITIND\",\"orientation\":\"v\",\"showlegend\":true,\"x\":[2376.2],\"xaxis\":\"x\",\"y\":[12.6178],\"yaxis\":\"y\",\"type\":\"scatter\"},{\"hovertemplate\":\"<b>%{hovertext}</b><br><br>Symbol=PRAJIND<br>Unrealized P&L=%{x}<br>Unrealized P&L Pct.=%{y}<br>% profit=%{marker.size}<extra></extra>\",\"hovertext\":[0.23],\"legendgroup\":\"PRAJIND\",\"marker\":{\"color\":\"#FF97FF\",\"size\":[0.23],\"sizemode\":\"area\",\"sizeref\":0.0006929999999999999,\"symbol\":\"circle\"},\"mode\":\"markers\",\"name\":\"PRAJIND\",\"orientation\":\"v\",\"showlegend\":true,\"x\":[856.9],\"xaxis\":\"x\",\"y\":[12.7106],\"yaxis\":\"y\",\"type\":\"scatter\"},{\"hovertemplate\":\"<b>%{hovertext}</b><br><br>Symbol=PRITIKAUTO<br>Unrealized P&L=%{x}<br>Unrealized P&L Pct.=%{y}<br>% profit=%{marker.size}<extra></extra>\",\"hovertext\":[0.92],\"legendgroup\":\"PRITIKAUTO\",\"marker\":{\"color\":\"#FECB52\",\"size\":[0.92],\"sizemode\":\"area\",\"sizeref\":0.0006929999999999999,\"symbol\":\"circle\"},\"mode\":\"markers\",\"name\":\"PRITIKAUTO\",\"orientation\":\"v\",\"showlegend\":true,\"x\":[3465.0],\"xaxis\":\"x\",\"y\":[53.1034],\"yaxis\":\"y\",\"type\":\"scatter\"},{\"hovertemplate\":\"<b>%{hovertext}</b><br><br>Symbol=PSUBNKBEES<br>Unrealized P&L=%{x}<br>Unrealized P&L Pct.=%{y}<br>% profit=%{marker.size}<extra></extra>\",\"hovertext\":[0.75],\"legendgroup\":\"PSUBNKBEES\",\"marker\":{\"color\":\"#636efa\",\"size\":[0.75],\"sizemode\":\"area\",\"sizeref\":0.0006929999999999999,\"symbol\":\"circle\"},\"mode\":\"markers\",\"name\":\"PSUBNKBEES\",\"orientation\":\"v\",\"showlegend\":true,\"x\":[2824.74],\"xaxis\":\"x\",\"y\":[27.361],\"yaxis\":\"y\",\"type\":\"scatter\"},{\"hovertemplate\":\"<b>%{hovertext}</b><br><br>Symbol=RELIANCE<br>Unrealized P&L=%{x}<br>Unrealized P&L Pct.=%{y}<br>% profit=%{marker.size}<extra></extra>\",\"hovertext\":[1.57],\"legendgroup\":\"RELIANCE\",\"marker\":{\"color\":\"#EF553B\",\"size\":[1.57],\"sizemode\":\"area\",\"sizeref\":0.0006929999999999999,\"symbol\":\"circle\"},\"mode\":\"markers\",\"name\":\"RELIANCE\",\"orientation\":\"v\",\"showlegend\":true,\"x\":[5951.8519],\"xaxis\":\"x\",\"y\":[18.9055],\"yaxis\":\"y\",\"type\":\"scatter\"},{\"hovertemplate\":\"<b>%{hovertext}</b><br><br>Symbol=SBILIFE<br>Unrealized P&L=%{x}<br>Unrealized P&L Pct.=%{y}<br>% profit=%{marker.size}<extra></extra>\",\"hovertext\":[4.97],\"legendgroup\":\"SBILIFE\",\"marker\":{\"color\":\"#00cc96\",\"size\":[4.97],\"sizemode\":\"area\",\"sizeref\":0.0006929999999999999,\"symbol\":\"circle\"},\"mode\":\"markers\",\"name\":\"SBILIFE\",\"orientation\":\"v\",\"showlegend\":true,\"x\":[18832.75],\"xaxis\":\"x\",\"y\":[58.8404],\"yaxis\":\"y\",\"type\":\"scatter\"},{\"hovertemplate\":\"<b>%{hovertext}</b><br><br>Symbol=SGBMAY29I-GB<br>Unrealized P&L=%{x}<br>Unrealized P&L Pct.=%{y}<br>% profit=%{marker.size}<extra></extra>\",\"hovertext\":[2.54],\"legendgroup\":\"SGBMAY29I-GB\",\"marker\":{\"color\":\"#ab63fa\",\"size\":[2.54],\"sizemode\":\"area\",\"sizeref\":0.0006929999999999999,\"symbol\":\"circle\"},\"mode\":\"markers\",\"name\":\"SGBMAY29I-GB\",\"orientation\":\"v\",\"showlegend\":true,\"x\":[9612.47],\"xaxis\":\"x\",\"y\":[29.0503],\"yaxis\":\"y\",\"type\":\"scatter\"},{\"hovertemplate\":\"<b>%{hovertext}</b><br><br>Symbol=SONACOMS<br>Unrealized P&L=%{x}<br>Unrealized P&L Pct.=%{y}<br>% profit=%{marker.size}<extra></extra>\",\"hovertext\":[3.64],\"legendgroup\":\"SONACOMS\",\"marker\":{\"color\":\"#FFA15A\",\"size\":[3.64],\"sizemode\":\"area\",\"sizeref\":0.0006929999999999999,\"symbol\":\"circle\"},\"mode\":\"markers\",\"name\":\"SONACOMS\",\"orientation\":\"v\",\"showlegend\":true,\"x\":[13767.95],\"xaxis\":\"x\",\"y\":[28.5765],\"yaxis\":\"y\",\"type\":\"scatter\"},{\"hovertemplate\":\"<b>%{hovertext}</b><br><br>Symbol=SRF<br>Unrealized P&L=%{x}<br>Unrealized P&L Pct.=%{y}<br>% profit=%{marker.size}<extra></extra>\",\"hovertext\":[0.1],\"legendgroup\":\"SRF\",\"marker\":{\"color\":\"#19d3f3\",\"size\":[0.1],\"sizemode\":\"area\",\"sizeref\":0.0006929999999999999,\"symbol\":\"circle\"},\"mode\":\"markers\",\"name\":\"SRF\",\"orientation\":\"v\",\"showlegend\":true,\"x\":[377.0],\"xaxis\":\"x\",\"y\":[2.6435],\"yaxis\":\"y\",\"type\":\"scatter\"},{\"hovertemplate\":\"<b>%{hovertext}</b><br><br>Symbol=SUNPHARMA<br>Unrealized P&L=%{x}<br>Unrealized P&L Pct.=%{y}<br>% profit=%{marker.size}<extra></extra>\",\"hovertext\":[1.72],\"legendgroup\":\"SUNPHARMA\",\"marker\":{\"color\":\"#FF6692\",\"size\":[1.72],\"sizemode\":\"area\",\"sizeref\":0.0006929999999999999,\"symbol\":\"circle\"},\"mode\":\"markers\",\"name\":\"SUNPHARMA\",\"orientation\":\"v\",\"showlegend\":true,\"x\":[6503.85],\"xaxis\":\"x\",\"y\":[54.009],\"yaxis\":\"y\",\"type\":\"scatter\"},{\"hovertemplate\":\"<b>%{hovertext}</b><br><br>Symbol=TATACHEM<br>Unrealized P&L=%{x}<br>Unrealized P&L Pct.=%{y}<br>% profit=%{marker.size}<extra></extra>\",\"hovertext\":[1.58],\"legendgroup\":\"TATACHEM\",\"marker\":{\"color\":\"#B6E880\",\"size\":[1.58],\"sizemode\":\"area\",\"sizeref\":0.0006929999999999999,\"symbol\":\"circle\"},\"mode\":\"markers\",\"name\":\"TATACHEM\",\"orientation\":\"v\",\"showlegend\":true,\"x\":[5972.1],\"xaxis\":\"x\",\"y\":[26.1109],\"yaxis\":\"y\",\"type\":\"scatter\"},{\"hovertemplate\":\"<b>%{hovertext}</b><br><br>Symbol=TATACONSUM<br>Unrealized P&L=%{x}<br>Unrealized P&L Pct.=%{y}<br>% profit=%{marker.size}<extra></extra>\",\"hovertext\":[1.26],\"legendgroup\":\"TATACONSUM\",\"marker\":{\"color\":\"#FF97FF\",\"size\":[1.26],\"sizemode\":\"area\",\"sizeref\":0.0006929999999999999,\"symbol\":\"circle\"},\"mode\":\"markers\",\"name\":\"TATACONSUM\",\"orientation\":\"v\",\"showlegend\":true,\"x\":[4758.55],\"xaxis\":\"x\",\"y\":[24.9022],\"yaxis\":\"y\",\"type\":\"scatter\"},{\"hovertemplate\":\"<b>%{hovertext}</b><br><br>Symbol=UNIONBANK<br>Unrealized P&L=%{x}<br>Unrealized P&L Pct.=%{y}<br>% profit=%{marker.size}<extra></extra>\",\"hovertext\":[0.76],\"legendgroup\":\"UNIONBANK\",\"marker\":{\"color\":\"#FECB52\",\"size\":[0.76],\"sizemode\":\"area\",\"sizeref\":0.0006929999999999999,\"symbol\":\"circle\"},\"mode\":\"markers\",\"name\":\"UNIONBANK\",\"orientation\":\"v\",\"showlegend\":true,\"x\":[2890.5],\"xaxis\":\"x\",\"y\":[47.4592],\"yaxis\":\"y\",\"type\":\"scatter\"},{\"hovertemplate\":\"<b>%{hovertext}</b><br><br>Symbol=VOLTAS<br>Unrealized P&L=%{x}<br>Unrealized P&L Pct.=%{y}<br>% profit=%{marker.size}<extra></extra>\",\"hovertext\":[0.04],\"legendgroup\":\"VOLTAS\",\"marker\":{\"color\":\"#636efa\",\"size\":[0.04],\"sizemode\":\"area\",\"sizeref\":0.0006929999999999999,\"symbol\":\"circle\"},\"mode\":\"markers\",\"name\":\"VOLTAS\",\"orientation\":\"v\",\"showlegend\":true,\"x\":[143.0],\"xaxis\":\"x\",\"y\":[1.69],\"yaxis\":\"y\",\"type\":\"scatter\"},{\"hovertemplate\":\"<b>%{hovertext}</b><br><br>Symbol=ZOMATO<br>Unrealized P&L=%{x}<br>Unrealized P&L Pct.=%{y}<br>% profit=%{marker.size}<extra></extra>\",\"hovertext\":[0.74],\"legendgroup\":\"ZOMATO\",\"marker\":{\"color\":\"#EF553B\",\"size\":[0.74],\"sizemode\":\"area\",\"sizeref\":0.0006929999999999999,\"symbol\":\"circle\"},\"mode\":\"markers\",\"name\":\"ZOMATO\",\"orientation\":\"v\",\"showlegend\":true,\"x\":[2818.9],\"xaxis\":\"x\",\"y\":[32.0177],\"yaxis\":\"y\",\"type\":\"scatter\"},{\"hovertemplate\":\"<b>%{hovertext}</b><br><br>Symbol=ZYDUSLIFE<br>Unrealized P&L=%{x}<br>Unrealized P&L Pct.=%{y}<br>% profit=%{marker.size}<extra></extra>\",\"hovertext\":[2.49],\"legendgroup\":\"ZYDUSLIFE\",\"marker\":{\"color\":\"#00cc96\",\"size\":[2.49],\"sizemode\":\"area\",\"sizeref\":0.0006929999999999999,\"symbol\":\"circle\"},\"mode\":\"markers\",\"name\":\"ZYDUSLIFE\",\"orientation\":\"v\",\"showlegend\":true,\"x\":[9412.7],\"xaxis\":\"x\",\"y\":[36.0249],\"yaxis\":\"y\",\"type\":\"scatter\"}],                        {\"template\":{\"data\":{\"bar\":[{\"error_x\":{\"color\":\"#2a3f5f\"},\"error_y\":{\"color\":\"#2a3f5f\"},\"marker\":{\"line\":{\"color\":\"#E5ECF6\",\"width\":0.5},\"pattern\":{\"fillmode\":\"overlay\",\"size\":10,\"solidity\":0.2}},\"type\":\"bar\"}],\"barpolar\":[{\"marker\":{\"line\":{\"color\":\"#E5ECF6\",\"width\":0.5},\"pattern\":{\"fillmode\":\"overlay\",\"size\":10,\"solidity\":0.2}},\"type\":\"barpolar\"}],\"carpet\":[{\"aaxis\":{\"endlinecolor\":\"#2a3f5f\",\"gridcolor\":\"white\",\"linecolor\":\"white\",\"minorgridcolor\":\"white\",\"startlinecolor\":\"#2a3f5f\"},\"baxis\":{\"endlinecolor\":\"#2a3f5f\",\"gridcolor\":\"white\",\"linecolor\":\"white\",\"minorgridcolor\":\"white\",\"startlinecolor\":\"#2a3f5f\"},\"type\":\"carpet\"}],\"choropleth\":[{\"colorbar\":{\"outlinewidth\":0,\"ticks\":\"\"},\"type\":\"choropleth\"}],\"contour\":[{\"colorbar\":{\"outlinewidth\":0,\"ticks\":\"\"},\"colorscale\":[[0.0,\"#0d0887\"],[0.1111111111111111,\"#46039f\"],[0.2222222222222222,\"#7201a8\"],[0.3333333333333333,\"#9c179e\"],[0.4444444444444444,\"#bd3786\"],[0.5555555555555556,\"#d8576b\"],[0.6666666666666666,\"#ed7953\"],[0.7777777777777778,\"#fb9f3a\"],[0.8888888888888888,\"#fdca26\"],[1.0,\"#f0f921\"]],\"type\":\"contour\"}],\"contourcarpet\":[{\"colorbar\":{\"outlinewidth\":0,\"ticks\":\"\"},\"type\":\"contourcarpet\"}],\"heatmap\":[{\"colorbar\":{\"outlinewidth\":0,\"ticks\":\"\"},\"colorscale\":[[0.0,\"#0d0887\"],[0.1111111111111111,\"#46039f\"],[0.2222222222222222,\"#7201a8\"],[0.3333333333333333,\"#9c179e\"],[0.4444444444444444,\"#bd3786\"],[0.5555555555555556,\"#d8576b\"],[0.6666666666666666,\"#ed7953\"],[0.7777777777777778,\"#fb9f3a\"],[0.8888888888888888,\"#fdca26\"],[1.0,\"#f0f921\"]],\"type\":\"heatmap\"}],\"heatmapgl\":[{\"colorbar\":{\"outlinewidth\":0,\"ticks\":\"\"},\"colorscale\":[[0.0,\"#0d0887\"],[0.1111111111111111,\"#46039f\"],[0.2222222222222222,\"#7201a8\"],[0.3333333333333333,\"#9c179e\"],[0.4444444444444444,\"#bd3786\"],[0.5555555555555556,\"#d8576b\"],[0.6666666666666666,\"#ed7953\"],[0.7777777777777778,\"#fb9f3a\"],[0.8888888888888888,\"#fdca26\"],[1.0,\"#f0f921\"]],\"type\":\"heatmapgl\"}],\"histogram\":[{\"marker\":{\"pattern\":{\"fillmode\":\"overlay\",\"size\":10,\"solidity\":0.2}},\"type\":\"histogram\"}],\"histogram2d\":[{\"colorbar\":{\"outlinewidth\":0,\"ticks\":\"\"},\"colorscale\":[[0.0,\"#0d0887\"],[0.1111111111111111,\"#46039f\"],[0.2222222222222222,\"#7201a8\"],[0.3333333333333333,\"#9c179e\"],[0.4444444444444444,\"#bd3786\"],[0.5555555555555556,\"#d8576b\"],[0.6666666666666666,\"#ed7953\"],[0.7777777777777778,\"#fb9f3a\"],[0.8888888888888888,\"#fdca26\"],[1.0,\"#f0f921\"]],\"type\":\"histogram2d\"}],\"histogram2dcontour\":[{\"colorbar\":{\"outlinewidth\":0,\"ticks\":\"\"},\"colorscale\":[[0.0,\"#0d0887\"],[0.1111111111111111,\"#46039f\"],[0.2222222222222222,\"#7201a8\"],[0.3333333333333333,\"#9c179e\"],[0.4444444444444444,\"#bd3786\"],[0.5555555555555556,\"#d8576b\"],[0.6666666666666666,\"#ed7953\"],[0.7777777777777778,\"#fb9f3a\"],[0.8888888888888888,\"#fdca26\"],[1.0,\"#f0f921\"]],\"type\":\"histogram2dcontour\"}],\"mesh3d\":[{\"colorbar\":{\"outlinewidth\":0,\"ticks\":\"\"},\"type\":\"mesh3d\"}],\"parcoords\":[{\"line\":{\"colorbar\":{\"outlinewidth\":0,\"ticks\":\"\"}},\"type\":\"parcoords\"}],\"pie\":[{\"automargin\":true,\"type\":\"pie\"}],\"scatter\":[{\"marker\":{\"colorbar\":{\"outlinewidth\":0,\"ticks\":\"\"}},\"type\":\"scatter\"}],\"scatter3d\":[{\"line\":{\"colorbar\":{\"outlinewidth\":0,\"ticks\":\"\"}},\"marker\":{\"colorbar\":{\"outlinewidth\":0,\"ticks\":\"\"}},\"type\":\"scatter3d\"}],\"scattercarpet\":[{\"marker\":{\"colorbar\":{\"outlinewidth\":0,\"ticks\":\"\"}},\"type\":\"scattercarpet\"}],\"scattergeo\":[{\"marker\":{\"colorbar\":{\"outlinewidth\":0,\"ticks\":\"\"}},\"type\":\"scattergeo\"}],\"scattergl\":[{\"marker\":{\"colorbar\":{\"outlinewidth\":0,\"ticks\":\"\"}},\"type\":\"scattergl\"}],\"scattermapbox\":[{\"marker\":{\"colorbar\":{\"outlinewidth\":0,\"ticks\":\"\"}},\"type\":\"scattermapbox\"}],\"scatterpolar\":[{\"marker\":{\"colorbar\":{\"outlinewidth\":0,\"ticks\":\"\"}},\"type\":\"scatterpolar\"}],\"scatterpolargl\":[{\"marker\":{\"colorbar\":{\"outlinewidth\":0,\"ticks\":\"\"}},\"type\":\"scatterpolargl\"}],\"scatterternary\":[{\"marker\":{\"colorbar\":{\"outlinewidth\":0,\"ticks\":\"\"}},\"type\":\"scatterternary\"}],\"surface\":[{\"colorbar\":{\"outlinewidth\":0,\"ticks\":\"\"},\"colorscale\":[[0.0,\"#0d0887\"],[0.1111111111111111,\"#46039f\"],[0.2222222222222222,\"#7201a8\"],[0.3333333333333333,\"#9c179e\"],[0.4444444444444444,\"#bd3786\"],[0.5555555555555556,\"#d8576b\"],[0.6666666666666666,\"#ed7953\"],[0.7777777777777778,\"#fb9f3a\"],[0.8888888888888888,\"#fdca26\"],[1.0,\"#f0f921\"]],\"type\":\"surface\"}],\"table\":[{\"cells\":{\"fill\":{\"color\":\"#EBF0F8\"},\"line\":{\"color\":\"white\"}},\"header\":{\"fill\":{\"color\":\"#C8D4E3\"},\"line\":{\"color\":\"white\"}},\"type\":\"table\"}]},\"layout\":{\"annotationdefaults\":{\"arrowcolor\":\"#2a3f5f\",\"arrowhead\":0,\"arrowwidth\":1},\"autotypenumbers\":\"strict\",\"coloraxis\":{\"colorbar\":{\"outlinewidth\":0,\"ticks\":\"\"}},\"colorscale\":{\"diverging\":[[0,\"#8e0152\"],[0.1,\"#c51b7d\"],[0.2,\"#de77ae\"],[0.3,\"#f1b6da\"],[0.4,\"#fde0ef\"],[0.5,\"#f7f7f7\"],[0.6,\"#e6f5d0\"],[0.7,\"#b8e186\"],[0.8,\"#7fbc41\"],[0.9,\"#4d9221\"],[1,\"#276419\"]],\"sequential\":[[0.0,\"#0d0887\"],[0.1111111111111111,\"#46039f\"],[0.2222222222222222,\"#7201a8\"],[0.3333333333333333,\"#9c179e\"],[0.4444444444444444,\"#bd3786\"],[0.5555555555555556,\"#d8576b\"],[0.6666666666666666,\"#ed7953\"],[0.7777777777777778,\"#fb9f3a\"],[0.8888888888888888,\"#fdca26\"],[1.0,\"#f0f921\"]],\"sequentialminus\":[[0.0,\"#0d0887\"],[0.1111111111111111,\"#46039f\"],[0.2222222222222222,\"#7201a8\"],[0.3333333333333333,\"#9c179e\"],[0.4444444444444444,\"#bd3786\"],[0.5555555555555556,\"#d8576b\"],[0.6666666666666666,\"#ed7953\"],[0.7777777777777778,\"#fb9f3a\"],[0.8888888888888888,\"#fdca26\"],[1.0,\"#f0f921\"]]},\"colorway\":[\"#636efa\",\"#EF553B\",\"#00cc96\",\"#ab63fa\",\"#FFA15A\",\"#19d3f3\",\"#FF6692\",\"#B6E880\",\"#FF97FF\",\"#FECB52\"],\"font\":{\"color\":\"#2a3f5f\"},\"geo\":{\"bgcolor\":\"white\",\"lakecolor\":\"white\",\"landcolor\":\"#E5ECF6\",\"showlakes\":true,\"showland\":true,\"subunitcolor\":\"white\"},\"hoverlabel\":{\"align\":\"left\"},\"hovermode\":\"closest\",\"mapbox\":{\"style\":\"light\"},\"paper_bgcolor\":\"white\",\"plot_bgcolor\":\"#E5ECF6\",\"polar\":{\"angularaxis\":{\"gridcolor\":\"white\",\"linecolor\":\"white\",\"ticks\":\"\"},\"bgcolor\":\"#E5ECF6\",\"radialaxis\":{\"gridcolor\":\"white\",\"linecolor\":\"white\",\"ticks\":\"\"}},\"scene\":{\"xaxis\":{\"backgroundcolor\":\"#E5ECF6\",\"gridcolor\":\"white\",\"gridwidth\":2,\"linecolor\":\"white\",\"showbackground\":true,\"ticks\":\"\",\"zerolinecolor\":\"white\"},\"yaxis\":{\"backgroundcolor\":\"#E5ECF6\",\"gridcolor\":\"white\",\"gridwidth\":2,\"linecolor\":\"white\",\"showbackground\":true,\"ticks\":\"\",\"zerolinecolor\":\"white\"},\"zaxis\":{\"backgroundcolor\":\"#E5ECF6\",\"gridcolor\":\"white\",\"gridwidth\":2,\"linecolor\":\"white\",\"showbackground\":true,\"ticks\":\"\",\"zerolinecolor\":\"white\"}},\"shapedefaults\":{\"line\":{\"color\":\"#2a3f5f\"}},\"ternary\":{\"aaxis\":{\"gridcolor\":\"white\",\"linecolor\":\"white\",\"ticks\":\"\"},\"baxis\":{\"gridcolor\":\"white\",\"linecolor\":\"white\",\"ticks\":\"\"},\"bgcolor\":\"#E5ECF6\",\"caxis\":{\"gridcolor\":\"white\",\"linecolor\":\"white\",\"ticks\":\"\"}},\"title\":{\"x\":0.05},\"xaxis\":{\"automargin\":true,\"gridcolor\":\"white\",\"linecolor\":\"white\",\"ticks\":\"\",\"title\":{\"standoff\":15},\"zerolinecolor\":\"white\",\"zerolinewidth\":2},\"yaxis\":{\"automargin\":true,\"gridcolor\":\"white\",\"linecolor\":\"white\",\"ticks\":\"\",\"title\":{\"standoff\":15},\"zerolinecolor\":\"white\",\"zerolinewidth\":2}}},\"xaxis\":{\"anchor\":\"y\",\"domain\":[0.0,1.0],\"title\":{\"text\":\"Unrealized P&L\"},\"type\":\"log\"},\"yaxis\":{\"anchor\":\"x\",\"domain\":[0.0,1.0],\"title\":{\"text\":\"Unrealized P&L Pct.\"}},\"legend\":{\"title\":{\"text\":\"Symbol\"},\"tracegroupgap\":0,\"itemsizing\":\"constant\"},\"margin\":{\"t\":60}},                        {\"responsive\": true}                    ).then(function(){\n",
       "                            \n",
       "var gd = document.getElementById('7960bf1d-969e-4f63-8413-125690c1feb9');\n",
       "var x = new MutationObserver(function (mutations, observer) {{\n",
       "        var display = window.getComputedStyle(gd).display;\n",
       "        if (!display || display === 'none') {{\n",
       "            console.log([gd, 'removed!']);\n",
       "            Plotly.purge(gd);\n",
       "            observer.disconnect();\n",
       "        }}\n",
       "}});\n",
       "\n",
       "// Listen for the removal of the full notebook cells\n",
       "var notebookContainer = gd.closest('#notebook-container');\n",
       "if (notebookContainer) {{\n",
       "    x.observe(notebookContainer, {childList: true});\n",
       "}}\n",
       "\n",
       "// Listen for the clearing of the current output cell\n",
       "var outputEl = gd.closest('.output');\n",
       "if (outputEl) {{\n",
       "    x.observe(outputEl, {childList: true});\n",
       "}}\n",
       "\n",
       "                        })                };                });            </script>        </div>"
      ]
     },
     "metadata": {},
     "output_type": "display_data"
    }
   ],
   "source": [
    "df = holding_profit\n",
    "\n",
    "fig = px.scatter(df, x=\"Unrealized P&L\", y=\"Unrealized P&L Pct.\", size=\"% profit\", color=\"Symbol\",\n",
    "                 hover_name=\"% profit\", log_x=True, size_max=100)\n",
    "fig.show()"
   ]
  },
  {
   "cell_type": "code",
   "execution_count": 146,
   "id": "c3e3c13b",
   "metadata": {},
   "outputs": [
    {
     "ename": "ValueError",
     "evalue": "Value of 'y' is not the name of a column in 'data_frame'. Expected one of ['Symbol', 'ISIN', 'Sector', 'Quantity Available', 'Quantity Discrepant', 'Quantity Long Term', 'Quantity Pledged (Margin)', 'Quantity Pledged (Loan)', 'Average Price', 'Previous Closing Price', 'Unrealized P&L', 'Unrealized P&L Pct.', 'invs_amount', '% loss'] but received: % profit",
     "output_type": "error",
     "traceback": [
      "\u001b[1;31m---------------------------------------------------------------------------\u001b[0m",
      "\u001b[1;31mValueError\u001b[0m                                Traceback (most recent call last)",
      "\u001b[1;32mC:\\Users\\ROHITC~1\\AppData\\Local\\Temp/ipykernel_19416/793686761.py\u001b[0m in \u001b[0;36m<module>\u001b[1;34m\u001b[0m\n\u001b[0;32m      1\u001b[0m \u001b[0mdf_loss\u001b[0m \u001b[1;33m=\u001b[0m \u001b[0mholding_loss\u001b[0m\u001b[1;33m\u001b[0m\u001b[1;33m\u001b[0m\u001b[0m\n\u001b[0;32m      2\u001b[0m \u001b[1;33m\u001b[0m\u001b[0m\n\u001b[1;32m----> 3\u001b[1;33m fig = px.scatter(df_loss, x=\"invs_amount\", y=\"% profit\", size=\"Unrealized P&L Pct.\", color=\"Symbol\",\n\u001b[0m\u001b[0;32m      4\u001b[0m                  hover_name=\"Unrealized P&L Pct.\", log_x=True, size_max=100)\n\u001b[0;32m      5\u001b[0m \u001b[0mfig\u001b[0m\u001b[1;33m.\u001b[0m\u001b[0mshow\u001b[0m\u001b[1;33m(\u001b[0m\u001b[1;33m)\u001b[0m\u001b[1;33m\u001b[0m\u001b[1;33m\u001b[0m\u001b[0m\n",
      "\u001b[1;32m~\\anaconda3\\lib\\site-packages\\plotly\\express\\_chart_types.py\u001b[0m in \u001b[0;36mscatter\u001b[1;34m(data_frame, x, y, color, symbol, size, hover_name, hover_data, custom_data, text, facet_row, facet_col, facet_col_wrap, facet_row_spacing, facet_col_spacing, error_x, error_x_minus, error_y, error_y_minus, animation_frame, animation_group, category_orders, labels, orientation, color_discrete_sequence, color_discrete_map, color_continuous_scale, range_color, color_continuous_midpoint, symbol_sequence, symbol_map, opacity, size_max, marginal_x, marginal_y, trendline, trendline_options, trendline_color_override, trendline_scope, log_x, log_y, range_x, range_y, render_mode, title, template, width, height)\u001b[0m\n\u001b[0;32m     64\u001b[0m     \u001b[0mmark\u001b[0m \u001b[1;32min\u001b[0m \u001b[1;36m2\u001b[0m\u001b[0mD\u001b[0m \u001b[0mspace\u001b[0m\u001b[1;33m.\u001b[0m\u001b[1;33m\u001b[0m\u001b[1;33m\u001b[0m\u001b[0m\n\u001b[0;32m     65\u001b[0m     \"\"\"\n\u001b[1;32m---> 66\u001b[1;33m     \u001b[1;32mreturn\u001b[0m \u001b[0mmake_figure\u001b[0m\u001b[1;33m(\u001b[0m\u001b[0margs\u001b[0m\u001b[1;33m=\u001b[0m\u001b[0mlocals\u001b[0m\u001b[1;33m(\u001b[0m\u001b[1;33m)\u001b[0m\u001b[1;33m,\u001b[0m \u001b[0mconstructor\u001b[0m\u001b[1;33m=\u001b[0m\u001b[0mgo\u001b[0m\u001b[1;33m.\u001b[0m\u001b[0mScatter\u001b[0m\u001b[1;33m)\u001b[0m\u001b[1;33m\u001b[0m\u001b[1;33m\u001b[0m\u001b[0m\n\u001b[0m\u001b[0;32m     67\u001b[0m \u001b[1;33m\u001b[0m\u001b[0m\n\u001b[0;32m     68\u001b[0m \u001b[1;33m\u001b[0m\u001b[0m\n",
      "\u001b[1;32m~\\anaconda3\\lib\\site-packages\\plotly\\express\\_core.py\u001b[0m in \u001b[0;36mmake_figure\u001b[1;34m(args, constructor, trace_patch, layout_patch)\u001b[0m\n\u001b[0;32m   1943\u001b[0m     \u001b[0mapply_default_cascade\u001b[0m\u001b[1;33m(\u001b[0m\u001b[0margs\u001b[0m\u001b[1;33m)\u001b[0m\u001b[1;33m\u001b[0m\u001b[1;33m\u001b[0m\u001b[0m\n\u001b[0;32m   1944\u001b[0m \u001b[1;33m\u001b[0m\u001b[0m\n\u001b[1;32m-> 1945\u001b[1;33m     \u001b[0margs\u001b[0m \u001b[1;33m=\u001b[0m \u001b[0mbuild_dataframe\u001b[0m\u001b[1;33m(\u001b[0m\u001b[0margs\u001b[0m\u001b[1;33m,\u001b[0m \u001b[0mconstructor\u001b[0m\u001b[1;33m)\u001b[0m\u001b[1;33m\u001b[0m\u001b[1;33m\u001b[0m\u001b[0m\n\u001b[0m\u001b[0;32m   1946\u001b[0m     \u001b[1;32mif\u001b[0m \u001b[0mconstructor\u001b[0m \u001b[1;32min\u001b[0m \u001b[1;33m[\u001b[0m\u001b[0mgo\u001b[0m\u001b[1;33m.\u001b[0m\u001b[0mTreemap\u001b[0m\u001b[1;33m,\u001b[0m \u001b[0mgo\u001b[0m\u001b[1;33m.\u001b[0m\u001b[0mSunburst\u001b[0m\u001b[1;33m,\u001b[0m \u001b[0mgo\u001b[0m\u001b[1;33m.\u001b[0m\u001b[0mIcicle\u001b[0m\u001b[1;33m]\u001b[0m \u001b[1;32mand\u001b[0m \u001b[0margs\u001b[0m\u001b[1;33m[\u001b[0m\u001b[1;34m\"path\"\u001b[0m\u001b[1;33m]\u001b[0m \u001b[1;32mis\u001b[0m \u001b[1;32mnot\u001b[0m \u001b[1;32mNone\u001b[0m\u001b[1;33m:\u001b[0m\u001b[1;33m\u001b[0m\u001b[1;33m\u001b[0m\u001b[0m\n\u001b[0;32m   1947\u001b[0m         \u001b[0margs\u001b[0m \u001b[1;33m=\u001b[0m \u001b[0mprocess_dataframe_hierarchy\u001b[0m\u001b[1;33m(\u001b[0m\u001b[0margs\u001b[0m\u001b[1;33m)\u001b[0m\u001b[1;33m\u001b[0m\u001b[1;33m\u001b[0m\u001b[0m\n",
      "\u001b[1;32m~\\anaconda3\\lib\\site-packages\\plotly\\express\\_core.py\u001b[0m in \u001b[0;36mbuild_dataframe\u001b[1;34m(args, constructor)\u001b[0m\n\u001b[0;32m   1403\u001b[0m     \u001b[1;31m# now that things have been prepped, we do the systematic rewriting of `args`\u001b[0m\u001b[1;33m\u001b[0m\u001b[1;33m\u001b[0m\u001b[0m\n\u001b[0;32m   1404\u001b[0m \u001b[1;33m\u001b[0m\u001b[0m\n\u001b[1;32m-> 1405\u001b[1;33m     df_output, wide_id_vars = process_args_into_dataframe(\n\u001b[0m\u001b[0;32m   1406\u001b[0m         \u001b[0margs\u001b[0m\u001b[1;33m,\u001b[0m \u001b[0mwide_mode\u001b[0m\u001b[1;33m,\u001b[0m \u001b[0mvar_name\u001b[0m\u001b[1;33m,\u001b[0m \u001b[0mvalue_name\u001b[0m\u001b[1;33m\u001b[0m\u001b[1;33m\u001b[0m\u001b[0m\n\u001b[0;32m   1407\u001b[0m     )\n",
      "\u001b[1;32m~\\anaconda3\\lib\\site-packages\\plotly\\express\\_core.py\u001b[0m in \u001b[0;36mprocess_args_into_dataframe\u001b[1;34m(args, wide_mode, var_name, value_name)\u001b[0m\n\u001b[0;32m   1205\u001b[0m                         \u001b[1;32mif\u001b[0m \u001b[0margument\u001b[0m \u001b[1;33m==\u001b[0m \u001b[1;34m\"index\"\u001b[0m\u001b[1;33m:\u001b[0m\u001b[1;33m\u001b[0m\u001b[1;33m\u001b[0m\u001b[0m\n\u001b[0;32m   1206\u001b[0m                             \u001b[0merr_msg\u001b[0m \u001b[1;33m+=\u001b[0m \u001b[1;34m\"\\n To use the index, pass it in directly as `df.index`.\"\u001b[0m\u001b[1;33m\u001b[0m\u001b[1;33m\u001b[0m\u001b[0m\n\u001b[1;32m-> 1207\u001b[1;33m                         \u001b[1;32mraise\u001b[0m \u001b[0mValueError\u001b[0m\u001b[1;33m(\u001b[0m\u001b[0merr_msg\u001b[0m\u001b[1;33m)\u001b[0m\u001b[1;33m\u001b[0m\u001b[1;33m\u001b[0m\u001b[0m\n\u001b[0m\u001b[0;32m   1208\u001b[0m                 \u001b[1;32melif\u001b[0m \u001b[0mlength\u001b[0m \u001b[1;32mand\u001b[0m \u001b[0mlen\u001b[0m\u001b[1;33m(\u001b[0m\u001b[0mdf_input\u001b[0m\u001b[1;33m[\u001b[0m\u001b[0margument\u001b[0m\u001b[1;33m]\u001b[0m\u001b[1;33m)\u001b[0m \u001b[1;33m!=\u001b[0m \u001b[0mlength\u001b[0m\u001b[1;33m:\u001b[0m\u001b[1;33m\u001b[0m\u001b[1;33m\u001b[0m\u001b[0m\n\u001b[0;32m   1209\u001b[0m                     raise ValueError(\n",
      "\u001b[1;31mValueError\u001b[0m: Value of 'y' is not the name of a column in 'data_frame'. Expected one of ['Symbol', 'ISIN', 'Sector', 'Quantity Available', 'Quantity Discrepant', 'Quantity Long Term', 'Quantity Pledged (Margin)', 'Quantity Pledged (Loan)', 'Average Price', 'Previous Closing Price', 'Unrealized P&L', 'Unrealized P&L Pct.', 'invs_amount', '% loss'] but received: % profit"
     ]
    }
   ],
   "source": [
    "df_loss = holding_loss\n",
    "\n",
    "fig = px.scatter(df_loss, x=\"invs_amount\", y=\"% profit\", size=\"Unrealized P&L Pct.\", color=\"Symbol\",\n",
    "                 hover_name=\"Unrealized P&L Pct.\", log_x=True, size_max=100)\n",
    "fig.show()"
   ]
  },
  {
   "cell_type": "code",
   "execution_count": 145,
   "id": "7fcf9adf",
   "metadata": {},
   "outputs": [],
   "source": [
    "#df = holding_loss\n",
    "#df['Unrealized P&L Pct.']=df['Unrealized P&L Pct.']\n",
    "#fig = px.scatter(df, x=\"invs_amount\", y=\"% loss\", size=\"Unrealized P&L Pct.\", color=\"Symbol\",\n",
    "#                 hover_name=\"Unrealized P&L Pct.\", log_x=True, size_max=100)\n",
    "#fig.show()"
   ]
  },
  {
   "cell_type": "code",
   "execution_count": 137,
   "id": "694431b5",
   "metadata": {},
   "outputs": [],
   "source": [
    "invst_df['Symbol']=invst_df['Symbol'].apply(lambda x:x.replace(\"AFFLE-BE\",\"AFFLE\"))"
   ]
  },
  {
   "cell_type": "code",
   "execution_count": 138,
   "id": "f3a848f7",
   "metadata": {},
   "outputs": [],
   "source": [
    "last_buy=invst_df.groupby('Symbol')['Trade Date'].max().reset_index().sort_values('Trade Date',ascending=True)"
   ]
  },
  {
   "cell_type": "code",
   "execution_count": 139,
   "id": "76c89bed",
   "metadata": {},
   "outputs": [],
   "source": [
    "last_buy_symbol_list=last_buy['Symbol'].to_list()"
   ]
  },
  {
   "cell_type": "code",
   "execution_count": 140,
   "id": "f8468be3",
   "metadata": {},
   "outputs": [],
   "source": [
    "last_buy_time_list=last_buy['Trade Date'].to_list()"
   ]
  },
  {
   "cell_type": "code",
   "execution_count": 141,
   "id": "95b594fa",
   "metadata": {},
   "outputs": [
    {
     "name": "stdout",
     "output_type": "stream",
     "text": [
      "Resultant dictionary is : {'HINDPETRO': Timestamp('2020-01-27 00:00:00'), 'IRCTC': Timestamp('2020-02-01 00:00:00'), 'RVNL': Timestamp('2020-02-01 00:00:00'), 'CENTURYTEX': Timestamp('2020-02-14 00:00:00'), 'BOROSIL': Timestamp('2020-02-18 00:00:00'), 'BORORENEW': Timestamp('2020-02-20 00:00:00'), 'INDUSINDBK': Timestamp('2020-03-27 00:00:00'), 'CONCOR': Timestamp('2020-04-09 00:00:00'), 'SPENCERS': Timestamp('2020-05-22 00:00:00'), 'SCI': Timestamp('2020-07-29 00:00:00'), 'YESBANK': Timestamp('2020-07-29 00:00:00'), 'TATASTEEL': Timestamp('2020-12-21 00:00:00'), 'IGL': Timestamp('2021-03-02 00:00:00'), 'BATAINDIA': Timestamp('2021-04-12 00:00:00'), 'ESCORTS': Timestamp('2021-05-03 00:00:00'), 'HESTERBIO': Timestamp('2021-05-18 00:00:00'), 'HDFC': Timestamp('2021-05-26 00:00:00'), 'ITC': Timestamp('2021-05-26 00:00:00'), 'MARUTI': Timestamp('2021-05-26 00:00:00'), 'RITES': Timestamp('2021-06-17 00:00:00'), 'IBULHSGFIN': Timestamp('2021-06-17 00:00:00'), 'INOXLEISUR': Timestamp('2021-09-24 00:00:00'), 'CARTRADE': Timestamp('2021-10-01 00:00:00'), 'ADVENZYMES': Timestamp('2021-10-07 00:00:00'), 'CADILAHC': Timestamp('2021-10-14 00:00:00'), 'GMMPFAUDLR': Timestamp('2021-11-02 00:00:00'), 'HAPPSTMNDS-T': Timestamp('2021-12-02 00:00:00'), 'ROUTE': Timestamp('2021-12-06 00:00:00'), 'SBICARD': Timestamp('2021-12-20 00:00:00'), 'GLS': Timestamp('2021-12-29 00:00:00'), 'GODREJPROP': Timestamp('2022-01-12 00:00:00'), 'BPCL': Timestamp('2022-01-14 00:00:00'), 'COLPAL': Timestamp('2022-01-21 00:00:00'), 'HCLTECH': Timestamp('2022-01-21 00:00:00'), 'PAYTM': Timestamp('2022-01-24 00:00:00'), 'BURGERKING': Timestamp('2022-01-28 00:00:00'), 'HDFCAMC': Timestamp('2022-01-28 00:00:00'), 'MAHEPC': Timestamp('2022-01-31 00:00:00'), 'HAPPSTMNDS': Timestamp('2022-02-02 00:00:00'), 'BANDHANBNK': Timestamp('2022-02-11 00:00:00'), 'DEEPAKNTR': Timestamp('2022-03-08 00:00:00'), 'TATACHEM': Timestamp('2022-03-08 00:00:00'), 'BAJFINANCE': Timestamp('2022-05-06 00:00:00'), 'PNB': Timestamp('2022-11-02 00:00:00'), 'SNOWMAN': Timestamp('2022-11-02 00:00:00'), 'IDBI': Timestamp('2022-11-02 00:00:00'), 'EIHOTEL': Timestamp('2022-11-02 00:00:00'), 'FMGOETZE': Timestamp('2022-11-02 00:00:00'), 'ALKEM': Timestamp('2023-01-31 00:00:00'), 'HINDUNILVR': Timestamp('2023-02-01 00:00:00'), 'ATGL': Timestamp('2023-02-01 00:00:00'), 'TATACONSUM': Timestamp('2023-02-01 00:00:00'), 'LALPATHLAB': Timestamp('2023-03-08 00:00:00'), 'SUNPHARMA': Timestamp('2023-03-08 00:00:00'), 'ASIANPAINT': Timestamp('2023-04-27 00:00:00'), 'SBILIFE': Timestamp('2023-05-04 00:00:00'), 'BHARTIARTL': Timestamp('2023-05-04 00:00:00'), 'LICI': Timestamp('2023-05-25 00:00:00'), 'NYKAA': Timestamp('2023-06-19 00:00:00'), 'DMART': Timestamp('2023-07-11 00:00:00'), 'INFY': Timestamp('2023-07-21 00:00:00'), 'BAJAJFINSV': Timestamp('2023-07-27 00:00:00'), 'NAVINFLUOR': Timestamp('2023-07-27 00:00:00'), 'ONGC': Timestamp('2023-08-17 00:00:00'), 'PIDILITIND': Timestamp('2023-08-29 00:00:00'), 'KOTAKBANK': Timestamp('2023-08-30 00:00:00'), 'AMIORG': Timestamp('2023-08-30 00:00:00'), 'HAVELLS': Timestamp('2023-08-30 00:00:00'), 'PRITIKAUTO-BE': Timestamp('2023-08-31 00:00:00'), 'UNIONBANK': Timestamp('2023-09-05 00:00:00'), 'SONACOMS': Timestamp('2023-09-13 00:00:00'), 'LATENTVIEW': Timestamp('2023-09-18 00:00:00'), 'PRAJIND': Timestamp('2023-10-05 00:00:00'), 'RELIANCE': Timestamp('2023-10-05 00:00:00'), 'GUJGASLTD': Timestamp('2023-10-11 00:00:00'), 'TVSSCS': Timestamp('2023-11-09 00:00:00'), 'PSUBNKBEES': Timestamp('2023-11-12 00:00:00'), 'SRF': Timestamp('2023-11-15 00:00:00'), 'VOLTAS': Timestamp('2023-11-15 00:00:00'), 'BANKBEES': Timestamp('2023-11-15 00:00:00'), 'NIFTYBEES': Timestamp('2023-11-15 00:00:00'), 'MTARTECH': Timestamp('2023-11-15 00:00:00'), 'HDFCLIFE': Timestamp('2023-11-21 00:00:00'), 'ICICIBANK': Timestamp('2023-11-21 00:00:00'), 'HDFCBANK': Timestamp('2023-11-21 00:00:00'), 'FINEORG': Timestamp('2023-12-05 00:00:00'), 'AAVAS': Timestamp('2023-12-06 00:00:00'), 'LANDMARK': Timestamp('2023-12-06 00:00:00'), 'AVALON': Timestamp('2023-12-06 00:00:00'), 'AFFLE': Timestamp('2023-12-06 00:00:00'), 'ZOMATO': Timestamp('2023-12-11 00:00:00'), 'SUBEXLTD': Timestamp('2023-12-12 00:00:00'), 'IRFC': Timestamp('2023-12-13 00:00:00'), 'ITBEES': Timestamp('2023-12-14 00:00:00')}\n"
     ]
    }
   ],
   "source": [
    "stock_time = {}\n",
    "for key in last_buy_symbol_list:\n",
    "    for value in last_buy_time_list:\n",
    "        stock_time[key] = value\n",
    "        last_buy_time_list.remove(value)\n",
    "        break\n",
    " \n",
    "# Printing resultant dictionary\n",
    "print(\"Resultant dictionary is : \" + str(stock_time))"
   ]
  },
  {
   "cell_type": "code",
   "execution_count": 142,
   "id": "434ec7b5",
   "metadata": {},
   "outputs": [],
   "source": [
    "x=(last_buy[last_buy.Symbol=='HINDPETRO']['Trade Date']).values\n",
    "y=(last_buy[last_buy.Symbol=='BAJAJFINSV']['Trade Date']).values\n",
    "z=x-y"
   ]
  },
  {
   "cell_type": "code",
   "execution_count": 143,
   "id": "c3362656",
   "metadata": {},
   "outputs": [
    {
     "data": {
      "text/plain": [
       "array(['2020-01-27T00:00:00.000000000'], dtype='datetime64[ns]')"
      ]
     },
     "execution_count": 143,
     "metadata": {},
     "output_type": "execute_result"
    }
   ],
   "source": [
    "x"
   ]
  },
  {
   "cell_type": "code",
   "execution_count": null,
   "id": "0fb56bba",
   "metadata": {},
   "outputs": [],
   "source": []
  }
 ],
 "metadata": {
  "kernelspec": {
   "display_name": "Python 3 (ipykernel)",
   "language": "python",
   "name": "python3"
  },
  "language_info": {
   "codemirror_mode": {
    "name": "ipython",
    "version": 3
   },
   "file_extension": ".py",
   "mimetype": "text/x-python",
   "name": "python",
   "nbconvert_exporter": "python",
   "pygments_lexer": "ipython3",
   "version": "3.9.7"
  }
 },
 "nbformat": 4,
 "nbformat_minor": 5
}
